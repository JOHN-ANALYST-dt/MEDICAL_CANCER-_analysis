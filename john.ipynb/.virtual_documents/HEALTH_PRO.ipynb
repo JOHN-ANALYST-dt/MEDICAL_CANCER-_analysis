























#begin by importing necessary data
import pandas as pd
import numpy as np
import matplotlib.pyplot as plt






health=pd.read_csv("data.csv",encoding="latin-1")
health.head()



