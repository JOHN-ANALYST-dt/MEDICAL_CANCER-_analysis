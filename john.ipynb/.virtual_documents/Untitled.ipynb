


import pandas as pd
import numpy as np
import matplotlib.pyplot as plt






health=pd.read_csv("data.csv")
health.head()
