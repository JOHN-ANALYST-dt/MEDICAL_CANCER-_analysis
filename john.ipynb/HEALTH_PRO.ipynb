{
 "cells": [
  {
   "cell_type": "markdown",
   "id": "1787d67d-628e-4ea6-b347-7bfd3e423a4c",
   "metadata": {},
   "source": [
    "<center><h2><b>HEALTH SECTOR PROJECT</b></h2></center>"
   ]
  },
  {
   "cell_type": "markdown",
   "id": "264195fb-f548-421c-8459-82e33b7ccc21",
   "metadata": {},
   "source": [
    "<h2>Analysis on the health sectors on the number of patiences highly affected on specific diseases</h2>"
   ]
  },
  {
   "cell_type": "markdown",
   "id": "38640bd8-1fe7-4fd8-9f4f-68a5155a0568",
   "metadata": {},
   "source": [
    "<h2><b>1.0-Business Understanding </b></h2>"
   ]
  },
  {
   "cell_type": "markdown",
   "id": "0a7af737-5551-4f46-928b-dd38eecba760",
   "metadata": {},
   "source": [
    "<h3>Identifying the number of patients mostly affected by a specific disease.<br> <br>The number of maternal mortalities and the kind of vaccines used on the patient. <br> <br>The age bracket is highly affected by a specific disease and there mortality rate.<br><br>The localities highly affected by a certain disease over a given period </h3>"
   ]
  },
  {
   "cell_type": "markdown",
   "id": "2940dd9a-6f12-4078-986d-861fa2e47c10",
   "metadata": {},
   "source": [
    "<h3><b>1.1 Project objectives</b></h3>"
   ]
  },
  {
   "cell_type": "markdown",
   "id": "11fffff3-4b39-49af-af17-e6573bd73393",
   "metadata": {},
   "source": [
    "<h4>Reduce malaria incidence by 30% in children under 5 in Region X through bed-net distribution and community awareness campaigns <br><br> Increase HIV testing coverage from 50% to 80% among high-risk populations in Urban Y by 2025 via mobile clinics and targeted outreach<br><br>\n",
    "</h4>"
   ]
  },
  {
   "cell_type": "markdown",
   "id": "1113c685-1856-47d3-8030-6d8e6318a9d3",
   "metadata": {},
   "source": [
    "<h2>2-Data Understanding</h2>"
   ]
  },
  {
   "cell_type": "markdown",
   "id": "101414ec-6503-48de-bcc2-54f14dc2aee7",
   "metadata": {},
   "source": [
    "<h3>2.1Python libraries Importation</h3>"
   ]
  },
  {
   "cell_type": "code",
   "execution_count": 1,
   "id": "795881fc-9d89-499b-91dd-633011ebd4c6",
   "metadata": {},
   "outputs": [],
   "source": [
    "#begin by importing necessary data\n",
    "import pandas as pd\n",
    "import numpy as np\n",
    "import matplotlib.pyplot as plt\n",
    "import seaborn as sns\n"
   ]
  },
  {
   "cell_type": "markdown",
   "id": "2d71bee8-d7be-4e6f-af27-f0141a14b70d",
   "metadata": {},
   "source": [
    "<h2>2.2 opening the file using pandas libriary</h2>"
   ]
  },
  {
   "cell_type": "code",
   "execution_count": 2,
   "id": "fc0a17ad-e6e6-4a5a-92b2-441aa60eded8",
   "metadata": {},
   "outputs": [],
   "source": [
    "health=pd.read_csv(\"data.csv\",encoding=\"latin-1\",low_memory=False)\n"
   ]
  },
  {
   "cell_type": "markdown",
   "id": "355fc1df-cb2d-4786-bd30-1e7d8b3da74c",
   "metadata": {},
   "source": [
    "<h2>2.3- open the first 5 elements</h2>"
   ]
  },
  {
   "cell_type": "code",
   "execution_count": 3,
   "id": "e8129343-a06a-4f6b-8fa2-43f51a5e1679",
   "metadata": {},
   "outputs": [
    {
     "data": {
      "text/html": [
       "<div>\n",
       "<style scoped>\n",
       "    .dataframe tbody tr th:only-of-type {\n",
       "        vertical-align: middle;\n",
       "    }\n",
       "\n",
       "    .dataframe tbody tr th {\n",
       "        vertical-align: top;\n",
       "    }\n",
       "\n",
       "    .dataframe thead th {\n",
       "        text-align: right;\n",
       "    }\n",
       "</style>\n",
       "<table border=\"1\" class=\"dataframe\">\n",
       "  <thead>\n",
       "    <tr style=\"text-align: right;\">\n",
       "      <th></th>\n",
       "      <th>countries</th>\n",
       "      <th>year</th>\n",
       "      <th>Probability (%) of dying between age 30 and exact age 70 from any of cardiovascular disease, cancer, diabetes, or chronic respiratory disease(both)</th>\n",
       "      <th>Probability (%) of dying between age 30 and exact age 70 from any of cardiovascular disease, cancer, diabetes, or chronic respiratory disease(male)</th>\n",
       "      <th>Probability (%) of dying between age 30 and exact age 70 from any of cardiovascular disease, cancer, diabetes, or chronic respiratory disease(female)</th>\n",
       "      <th>Unnamed: 5</th>\n",
       "      <th>Unnamed: 6</th>\n",
       "      <th>Unnamed: 7</th>\n",
       "    </tr>\n",
       "  </thead>\n",
       "  <tbody>\n",
       "    <tr>\n",
       "      <th>3651</th>\n",
       "      <td>Zimbabwe</td>\n",
       "      <td>2008.0</td>\n",
       "      <td>32.1</td>\n",
       "      <td>32.4</td>\n",
       "      <td>32.0</td>\n",
       "      <td>NaN</td>\n",
       "      <td>NaN</td>\n",
       "      <td>NaN</td>\n",
       "    </tr>\n",
       "    <tr>\n",
       "      <th>3652</th>\n",
       "      <td>Zimbabwe</td>\n",
       "      <td>2007.0</td>\n",
       "      <td>29.7</td>\n",
       "      <td>30.1</td>\n",
       "      <td>29.5</td>\n",
       "      <td>NaN</td>\n",
       "      <td>NaN</td>\n",
       "      <td>NaN</td>\n",
       "    </tr>\n",
       "    <tr>\n",
       "      <th>3653</th>\n",
       "      <td>Zimbabwe</td>\n",
       "      <td>2006.0</td>\n",
       "      <td>27.0</td>\n",
       "      <td>26.5</td>\n",
       "      <td>27.5</td>\n",
       "      <td>NaN</td>\n",
       "      <td>NaN</td>\n",
       "      <td>NaN</td>\n",
       "    </tr>\n",
       "    <tr>\n",
       "      <th>3654</th>\n",
       "      <td>Zimbabwe</td>\n",
       "      <td>2005.0</td>\n",
       "      <td>25.8</td>\n",
       "      <td>26.3</td>\n",
       "      <td>25.4</td>\n",
       "      <td>NaN</td>\n",
       "      <td>NaN</td>\n",
       "      <td>NaN</td>\n",
       "    </tr>\n",
       "    <tr>\n",
       "      <th>3655</th>\n",
       "      <td>Zimbabwe</td>\n",
       "      <td>2004.0</td>\n",
       "      <td>24.5</td>\n",
       "      <td>24.6</td>\n",
       "      <td>24.5</td>\n",
       "      <td>NaN</td>\n",
       "      <td>NaN</td>\n",
       "      <td>NaN</td>\n",
       "    </tr>\n",
       "    <tr>\n",
       "      <th>3656</th>\n",
       "      <td>Zimbabwe</td>\n",
       "      <td>2003.0</td>\n",
       "      <td>23.1</td>\n",
       "      <td>23.5</td>\n",
       "      <td>22.7</td>\n",
       "      <td>NaN</td>\n",
       "      <td>NaN</td>\n",
       "      <td>NaN</td>\n",
       "    </tr>\n",
       "    <tr>\n",
       "      <th>3657</th>\n",
       "      <td>Zimbabwe</td>\n",
       "      <td>2002.0</td>\n",
       "      <td>22.7</td>\n",
       "      <td>24.1</td>\n",
       "      <td>21.5</td>\n",
       "      <td>NaN</td>\n",
       "      <td>NaN</td>\n",
       "      <td>NaN</td>\n",
       "    </tr>\n",
       "    <tr>\n",
       "      <th>3658</th>\n",
       "      <td>Zimbabwe</td>\n",
       "      <td>2001.0</td>\n",
       "      <td>21.7</td>\n",
       "      <td>23.6</td>\n",
       "      <td>20.2</td>\n",
       "      <td>NaN</td>\n",
       "      <td>NaN</td>\n",
       "      <td>NaN</td>\n",
       "    </tr>\n",
       "    <tr>\n",
       "      <th>3659</th>\n",
       "      <td>Zimbabwe</td>\n",
       "      <td>2000.0</td>\n",
       "      <td>21.4</td>\n",
       "      <td>23.3</td>\n",
       "      <td>19.8</td>\n",
       "      <td>NaN</td>\n",
       "      <td>NaN</td>\n",
       "      <td>NaN</td>\n",
       "    </tr>\n",
       "    <tr>\n",
       "      <th>3660</th>\n",
       "      <td>NaN</td>\n",
       "      <td>NaN</td>\n",
       "      <td>NaN</td>\n",
       "      <td>NaN</td>\n",
       "      <td>NaN</td>\n",
       "      <td>NaN</td>\n",
       "      <td>NaN</td>\n",
       "      <td>NaN</td>\n",
       "    </tr>\n",
       "  </tbody>\n",
       "</table>\n",
       "</div>"
      ],
      "text/plain": [
       "     countries    year  \\\n",
       "3651  Zimbabwe  2008.0   \n",
       "3652  Zimbabwe  2007.0   \n",
       "3653  Zimbabwe  2006.0   \n",
       "3654  Zimbabwe  2005.0   \n",
       "3655  Zimbabwe  2004.0   \n",
       "3656  Zimbabwe  2003.0   \n",
       "3657  Zimbabwe  2002.0   \n",
       "3658  Zimbabwe  2001.0   \n",
       "3659  Zimbabwe  2000.0   \n",
       "3660       NaN     NaN   \n",
       "\n",
       "      Probability (%) of dying between age 30 and exact age 70 from any of cardiovascular disease, cancer, diabetes, or chronic respiratory disease(both)  \\\n",
       "3651                                               32.1                                                                                                     \n",
       "3652                                               29.7                                                                                                     \n",
       "3653                                               27.0                                                                                                     \n",
       "3654                                               25.8                                                                                                     \n",
       "3655                                               24.5                                                                                                     \n",
       "3656                                               23.1                                                                                                     \n",
       "3657                                               22.7                                                                                                     \n",
       "3658                                               21.7                                                                                                     \n",
       "3659                                               21.4                                                                                                     \n",
       "3660                                                NaN                                                                                                     \n",
       "\n",
       "      Probability (%) of dying between age 30 and exact age 70 from any of cardiovascular disease, cancer, diabetes, or chronic respiratory disease(male)  \\\n",
       "3651                                               32.4                                                                                                     \n",
       "3652                                               30.1                                                                                                     \n",
       "3653                                               26.5                                                                                                     \n",
       "3654                                               26.3                                                                                                     \n",
       "3655                                               24.6                                                                                                     \n",
       "3656                                               23.5                                                                                                     \n",
       "3657                                               24.1                                                                                                     \n",
       "3658                                               23.6                                                                                                     \n",
       "3659                                               23.3                                                                                                     \n",
       "3660                                                NaN                                                                                                     \n",
       "\n",
       "      Probability (%) of dying between age 30 and exact age 70 from any of cardiovascular disease, cancer, diabetes, or chronic respiratory disease(female)  \\\n",
       "3651                                               32.0                                                                                                       \n",
       "3652                                               29.5                                                                                                       \n",
       "3653                                               27.5                                                                                                       \n",
       "3654                                               25.4                                                                                                       \n",
       "3655                                               24.5                                                                                                       \n",
       "3656                                               22.7                                                                                                       \n",
       "3657                                               21.5                                                                                                       \n",
       "3658                                               20.2                                                                                                       \n",
       "3659                                               19.8                                                                                                       \n",
       "3660                                                NaN                                                                                                       \n",
       "\n",
       "      Unnamed: 5  Unnamed: 6  Unnamed: 7  \n",
       "3651         NaN         NaN         NaN  \n",
       "3652         NaN         NaN         NaN  \n",
       "3653         NaN         NaN         NaN  \n",
       "3654         NaN         NaN         NaN  \n",
       "3655         NaN         NaN         NaN  \n",
       "3656         NaN         NaN         NaN  \n",
       "3657         NaN         NaN         NaN  \n",
       "3658         NaN         NaN         NaN  \n",
       "3659         NaN         NaN         NaN  \n",
       "3660         NaN         NaN         NaN  "
      ]
     },
     "execution_count": 3,
     "metadata": {},
     "output_type": "execute_result"
    }
   ],
   "source": [
    "health.tail(10)"
   ]
  },
  {
   "cell_type": "markdown",
   "id": "60e3c45f-199f-4399-9e68-81e462db9441",
   "metadata": {},
   "source": [
    "<h3>2.4-check the data types</h3>"
   ]
  },
  {
   "cell_type": "code",
   "execution_count": 4,
   "id": "ac3806d2-27a8-45ca-90cc-4b73f0a9dff2",
   "metadata": {},
   "outputs": [
    {
     "name": "stdout",
     "output_type": "stream",
     "text": [
      "<class 'pandas.core.frame.DataFrame'>\n",
      "RangeIndex: 3661 entries, 0 to 3660\n",
      "Data columns (total 8 columns):\n",
      " #   Column                                                                                                                                                 Non-Null Count  Dtype  \n",
      "---  ------                                                                                                                                                 --------------  -----  \n",
      " 0   countries                                                                                                                                              3660 non-null   object \n",
      " 1   year                                                                                                                                                   3660 non-null   float64\n",
      " 2   Probability (%) of dying between age 30 and exact age 70 from any of cardiovascular disease, cancer, diabetes, or chronic respiratory disease(both)    3660 non-null   float64\n",
      " 3   Probability (%) of dying between age 30 and exact age 70 from any of cardiovascular disease, cancer, diabetes, or chronic respiratory disease(male)    3660 non-null   float64\n",
      " 4   Probability (%) of dying between age 30 and exact age 70 from any of cardiovascular disease, cancer, diabetes, or chronic respiratory disease(female)  3660 non-null   float64\n",
      " 5   Unnamed: 5                                                                                                                                             0 non-null      float64\n",
      " 6   Unnamed: 6                                                                                                                                             0 non-null      float64\n",
      " 7   Unnamed: 7                                                                                                                                             0 non-null      float64\n",
      "dtypes: float64(7), object(1)\n",
      "memory usage: 228.9+ KB\n"
     ]
    }
   ],
   "source": [
    "health.info()"
   ]
  },
  {
   "cell_type": "markdown",
   "id": "83295b49-49cc-492a-8bab-33ff7eb3f640",
   "metadata": {},
   "source": [
    "<h3>2.4-shape</h3>"
   ]
  },
  {
   "cell_type": "code",
   "execution_count": 5,
   "id": "9f70d41a-9dc6-4a01-a79a-a1f889111ab7",
   "metadata": {},
   "outputs": [
    {
     "data": {
      "text/plain": [
       "(3661, 8)"
      ]
     },
     "execution_count": 5,
     "metadata": {},
     "output_type": "execute_result"
    }
   ],
   "source": [
    "health.shape"
   ]
  },
  {
   "cell_type": "markdown",
   "id": "33a62ea4-0074-47f9-9987-babd8e9a24dd",
   "metadata": {},
   "source": [
    "<h3>2.5 renaming columns</h3>"
   ]
  },
  {
   "cell_type": "code",
   "execution_count": 6,
   "id": "773d5f9b-9392-42d5-95fc-9f64f3ae59fc",
   "metadata": {},
   "outputs": [],
   "source": [
    "#Use inplace=True if you want to modify the original DataFrame, or inplace=False\n",
    "health.rename(columns={\"Probability (%) of dying between age 30 and exact age 70 from any of cardiovascular disease, cancer, diabetes, or chronic respiratory disease(male)\":\"Pr(30-70 CVD/Cancer/Diabetes/CRD Death | Male)\",\"Probability (%) of dying between age 30 and exact age 70 from any of cardiovascular disease, cancer, diabetes, or chronic respiratory disease(both)\":\"Pr(30-70 NCD Mortality | All)\",\"Probability (%) of dying between age 30 and exact age 70 from any of cardiovascular disease, cancer, diabetes, or chronic respiratory disease(female)\":\"Pr(30-70 CVD/Cancer/Diabetes/CRD Death | Female)\"},inplace=True)\n"
   ]
  },
  {
   "cell_type": "markdown",
   "id": "1cf3d57a-a026-4e7b-a0a6-b8783fa8aecc",
   "metadata": {},
   "source": [
    "<h3>2.6 -dropping columns </h3>"
   ]
  },
  {
   "cell_type": "code",
   "execution_count": 7,
   "id": "9b1ac3b1-f59e-428e-90c8-3da8ab9f7232",
   "metadata": {},
   "outputs": [],
   "source": [
    "health.drop(columns=[\"Unnamed: 5\",\"Unnamed: 6\",\"Unnamed: 7\"],inplace=True)"
   ]
  },
  {
   "cell_type": "markdown",
   "id": "8d25527e-442c-4b7e-9a02-b7576e65c1de",
   "metadata": {},
   "source": [
    "<h3>2.7-Checking the Data information</h3>"
   ]
  },
  {
   "cell_type": "code",
   "execution_count": 8,
   "id": "48fe8bf1-334c-4cbf-b3aa-29d39bc8b956",
   "metadata": {},
   "outputs": [
    {
     "name": "stdout",
     "output_type": "stream",
     "text": [
      "<class 'pandas.core.frame.DataFrame'>\n",
      "RangeIndex: 3661 entries, 0 to 3660\n",
      "Data columns (total 5 columns):\n",
      " #   Column                                            Non-Null Count  Dtype  \n",
      "---  ------                                            --------------  -----  \n",
      " 0   countries                                         3660 non-null   object \n",
      " 1   year                                              3660 non-null   float64\n",
      " 2   Pr(30-70 NCD Mortality | All)                     3660 non-null   float64\n",
      " 3   Pr(30-70 CVD/Cancer/Diabetes/CRD Death | Male)    3660 non-null   float64\n",
      " 4   Pr(30-70 CVD/Cancer/Diabetes/CRD Death | Female)  3660 non-null   float64\n",
      "dtypes: float64(4), object(1)\n",
      "memory usage: 143.1+ KB\n"
     ]
    }
   ],
   "source": [
    "health.info()"
   ]
  },
  {
   "cell_type": "code",
   "execution_count": 9,
   "id": "024f09a4-da18-4eb0-95b8-213306aa2515",
   "metadata": {},
   "outputs": [],
   "source": [
    "#renaming year\n",
    "health.rename(columns={\"year\":\"Year\"},inplace=True)"
   ]
  },
  {
   "cell_type": "code",
   "execution_count": null,
   "id": "91840475-d8ce-4967-ab33-125e2bf494c2",
   "metadata": {},
   "outputs": [],
   "source": []
  },
  {
   "cell_type": "markdown",
   "id": "9141e7f8-35f2-41dd-a2ca-8d03b5c62130",
   "metadata": {},
   "source": [
    "<h3>2.8-working out the missing values in the Data set</h3>"
   ]
  },
  {
   "cell_type": "code",
   "execution_count": 10,
   "id": "34ca9586-3d4d-45c6-86cd-7be49c8619d5",
   "metadata": {},
   "outputs": [
    {
     "data": {
      "text/plain": [
       "countries                                           1\n",
       "Year                                                1\n",
       "Pr(30-70 NCD Mortality | All)                       1\n",
       "Pr(30-70 CVD/Cancer/Diabetes/CRD Death | Male)      1\n",
       "Pr(30-70 CVD/Cancer/Diabetes/CRD Death | Female)    1\n",
       "dtype: int64"
      ]
     },
     "execution_count": 10,
     "metadata": {},
     "output_type": "execute_result"
    }
   ],
   "source": [
    "health.isnull().sum()"
   ]
  },
  {
   "cell_type": "markdown",
   "id": "3ffef58d-6e06-4ce0-904d-151dda215bad",
   "metadata": {},
   "source": [
    "<h3>2.9-Drop the empty row index</h3>"
   ]
  },
  {
   "cell_type": "code",
   "execution_count": 11,
   "id": "7fa8e3a2-3b11-4222-bf6c-50b4048432fb",
   "metadata": {},
   "outputs": [],
   "source": [
    "health.drop([3660],axis=0,inplace=True)"
   ]
  },
  {
   "cell_type": "code",
   "execution_count": 12,
   "id": "aa3924e8-84da-4048-b9a1-bf97297dd287",
   "metadata": {},
   "outputs": [
    {
     "data": {
      "text/html": [
       "<div>\n",
       "<style scoped>\n",
       "    .dataframe tbody tr th:only-of-type {\n",
       "        vertical-align: middle;\n",
       "    }\n",
       "\n",
       "    .dataframe tbody tr th {\n",
       "        vertical-align: top;\n",
       "    }\n",
       "\n",
       "    .dataframe thead th {\n",
       "        text-align: right;\n",
       "    }\n",
       "</style>\n",
       "<table border=\"1\" class=\"dataframe\">\n",
       "  <thead>\n",
       "    <tr style=\"text-align: right;\">\n",
       "      <th></th>\n",
       "      <th>countries</th>\n",
       "      <th>Year</th>\n",
       "      <th>Pr(30-70 NCD Mortality | All)</th>\n",
       "      <th>Pr(30-70 CVD/Cancer/Diabetes/CRD Death | Male)</th>\n",
       "      <th>Pr(30-70 CVD/Cancer/Diabetes/CRD Death | Female)</th>\n",
       "    </tr>\n",
       "  </thead>\n",
       "  <tbody>\n",
       "    <tr>\n",
       "      <th>3655</th>\n",
       "      <td>Zimbabwe</td>\n",
       "      <td>2004.0</td>\n",
       "      <td>24.5</td>\n",
       "      <td>24.6</td>\n",
       "      <td>24.5</td>\n",
       "    </tr>\n",
       "    <tr>\n",
       "      <th>3656</th>\n",
       "      <td>Zimbabwe</td>\n",
       "      <td>2003.0</td>\n",
       "      <td>23.1</td>\n",
       "      <td>23.5</td>\n",
       "      <td>22.7</td>\n",
       "    </tr>\n",
       "    <tr>\n",
       "      <th>3657</th>\n",
       "      <td>Zimbabwe</td>\n",
       "      <td>2002.0</td>\n",
       "      <td>22.7</td>\n",
       "      <td>24.1</td>\n",
       "      <td>21.5</td>\n",
       "    </tr>\n",
       "    <tr>\n",
       "      <th>3658</th>\n",
       "      <td>Zimbabwe</td>\n",
       "      <td>2001.0</td>\n",
       "      <td>21.7</td>\n",
       "      <td>23.6</td>\n",
       "      <td>20.2</td>\n",
       "    </tr>\n",
       "    <tr>\n",
       "      <th>3659</th>\n",
       "      <td>Zimbabwe</td>\n",
       "      <td>2000.0</td>\n",
       "      <td>21.4</td>\n",
       "      <td>23.3</td>\n",
       "      <td>19.8</td>\n",
       "    </tr>\n",
       "  </tbody>\n",
       "</table>\n",
       "</div>"
      ],
      "text/plain": [
       "     countries    Year  Pr(30-70 NCD Mortality | All)  \\\n",
       "3655  Zimbabwe  2004.0                           24.5   \n",
       "3656  Zimbabwe  2003.0                           23.1   \n",
       "3657  Zimbabwe  2002.0                           22.7   \n",
       "3658  Zimbabwe  2001.0                           21.7   \n",
       "3659  Zimbabwe  2000.0                           21.4   \n",
       "\n",
       "      Pr(30-70 CVD/Cancer/Diabetes/CRD Death | Male)  \\\n",
       "3655                                            24.6   \n",
       "3656                                            23.5   \n",
       "3657                                            24.1   \n",
       "3658                                            23.6   \n",
       "3659                                            23.3   \n",
       "\n",
       "      Pr(30-70 CVD/Cancer/Diabetes/CRD Death | Female)  \n",
       "3655                                              24.5  \n",
       "3656                                              22.7  \n",
       "3657                                              21.5  \n",
       "3658                                              20.2  \n",
       "3659                                              19.8  "
      ]
     },
     "execution_count": 12,
     "metadata": {},
     "output_type": "execute_result"
    }
   ],
   "source": [
    "health.tail()"
   ]
  },
  {
   "cell_type": "markdown",
   "id": "69164e9d-864d-428c-adf8-fee71b8abd2c",
   "metadata": {},
   "source": [
    "<h3>3.0-convert year to integer</h3>"
   ]
  },
  {
   "cell_type": "code",
   "execution_count": 13,
   "id": "6ed4fb4f-fc7d-43a9-96b1-cb36c924a669",
   "metadata": {},
   "outputs": [],
   "source": [
    "health[\"Year\"]=health[\"Year\"].astype(int)"
   ]
  },
  {
   "cell_type": "code",
   "execution_count": 14,
   "id": "5f2f5ce2-62b2-44bb-b97c-bdc9832b890f",
   "metadata": {},
   "outputs": [
    {
     "data": {
      "text/plain": [
       "0    2019\n",
       "1    2018\n",
       "2    2017\n",
       "3    2016\n",
       "4    2015\n",
       "Name: Year, dtype: int64"
      ]
     },
     "execution_count": 14,
     "metadata": {},
     "output_type": "execute_result"
    }
   ],
   "source": [
    "health[\"Year\"].head()"
   ]
  },
  {
   "cell_type": "code",
   "execution_count": 15,
   "id": "88cd01cd-4c44-4f8c-bd88-6f8183e8941a",
   "metadata": {},
   "outputs": [
    {
     "data": {
      "text/plain": [
       "countries                                           0\n",
       "Year                                                0\n",
       "Pr(30-70 NCD Mortality | All)                       0\n",
       "Pr(30-70 CVD/Cancer/Diabetes/CRD Death | Male)      0\n",
       "Pr(30-70 CVD/Cancer/Diabetes/CRD Death | Female)    0\n",
       "dtype: int64"
      ]
     },
     "execution_count": 15,
     "metadata": {},
     "output_type": "execute_result"
    }
   ],
   "source": [
    "#checking out the missing values\n",
    "health.isna().sum()"
   ]
  },
  {
   "cell_type": "markdown",
   "id": "2157e600-9378-4f51-a1cf-bf5aa08baec9",
   "metadata": {},
   "source": [
    "<h3>3.1-Checking out the duplicates</h3>"
   ]
  },
  {
   "cell_type": "code",
   "execution_count": 16,
   "id": "69bb434c-acc5-4e0a-bd9d-fa78dea6ac40",
   "metadata": {},
   "outputs": [
    {
     "data": {
      "text/plain": [
       "False    3660\n",
       "Name: count, dtype: int64"
      ]
     },
     "execution_count": 16,
     "metadata": {},
     "output_type": "execute_result"
    }
   ],
   "source": [
    "health.duplicated().value_counts()"
   ]
  },
  {
   "cell_type": "markdown",
   "id": "b60137eb-5395-4bb8-a0d8-496894cd1a5d",
   "metadata": {},
   "source": [
    "<h3>3.2. aggregation</h3>"
   ]
  },
  {
   "cell_type": "code",
   "execution_count": 17,
   "id": "f2bba2b5-b3a2-49fa-98be-887d0187e3d5",
   "metadata": {},
   "outputs": [
    {
     "name": "stdout",
     "output_type": "stream",
     "text": [
      "mean         22.058415\n",
      "sum       80733.800000\n",
      "median       21.700000\n",
      "max          56.000000\n",
      "min           7.300000\n",
      "Name: Pr(30-70 NCD Mortality | All), dtype: float64\n"
     ]
    }
   ],
   "source": [
    "general_mortality=health[\"Pr(30-70 NCD Mortality | All)\"].agg([\"mean\",\"sum\",\"median\",\"max\",\"min\"])\n",
    "print(general_mortality)"
   ]
  },
  {
   "cell_type": "code",
   "execution_count": 18,
   "id": "f62d597e-dcbc-47eb-a33f-877e6abd6ab8",
   "metadata": {},
   "outputs": [
    {
     "data": {
      "text/html": [
       "<div>\n",
       "<style scoped>\n",
       "    .dataframe tbody tr th:only-of-type {\n",
       "        vertical-align: middle;\n",
       "    }\n",
       "\n",
       "    .dataframe tbody tr th {\n",
       "        vertical-align: top;\n",
       "    }\n",
       "\n",
       "    .dataframe thead th {\n",
       "        text-align: right;\n",
       "    }\n",
       "</style>\n",
       "<table border=\"1\" class=\"dataframe\">\n",
       "  <thead>\n",
       "    <tr style=\"text-align: right;\">\n",
       "      <th></th>\n",
       "      <th>countries</th>\n",
       "      <th>Year</th>\n",
       "      <th>Pr(30-70 CVD/Cancer/Diabetes/CRD Death | Male)</th>\n",
       "      <th>Pr(30-70 CVD/Cancer/Diabetes/CRD Death | Female)</th>\n",
       "    </tr>\n",
       "    <tr>\n",
       "      <th>Pr(30-70 NCD Mortality | All)</th>\n",
       "      <th></th>\n",
       "      <th></th>\n",
       "      <th></th>\n",
       "      <th></th>\n",
       "    </tr>\n",
       "  </thead>\n",
       "  <tbody>\n",
       "    <tr>\n",
       "      <th>7.3</th>\n",
       "      <td>Republic of Korea</td>\n",
       "      <td>2019</td>\n",
       "      <td>10.1</td>\n",
       "      <td>4.4</td>\n",
       "    </tr>\n",
       "    <tr>\n",
       "      <th>7.5</th>\n",
       "      <td>Republic of Korea</td>\n",
       "      <td>2018</td>\n",
       "      <td>10.5</td>\n",
       "      <td>4.6</td>\n",
       "    </tr>\n",
       "    <tr>\n",
       "      <th>7.8</th>\n",
       "      <td>Republic of Korea</td>\n",
       "      <td>2017</td>\n",
       "      <td>10.9</td>\n",
       "      <td>4.7</td>\n",
       "    </tr>\n",
       "    <tr>\n",
       "      <th>7.9</th>\n",
       "      <td>Switzerland</td>\n",
       "      <td>2019</td>\n",
       "      <td>9.6</td>\n",
       "      <td>6.1</td>\n",
       "    </tr>\n",
       "    <tr>\n",
       "      <th>8.1</th>\n",
       "      <td>Switzerland</td>\n",
       "      <td>2018</td>\n",
       "      <td>9.9</td>\n",
       "      <td>6.3</td>\n",
       "    </tr>\n",
       "  </tbody>\n",
       "</table>\n",
       "</div>"
      ],
      "text/plain": [
       "                                       countries  Year  \\\n",
       "Pr(30-70 NCD Mortality | All)                            \n",
       "7.3                            Republic of Korea  2019   \n",
       "7.5                            Republic of Korea  2018   \n",
       "7.8                            Republic of Korea  2017   \n",
       "7.9                                  Switzerland  2019   \n",
       "8.1                                  Switzerland  2018   \n",
       "\n",
       "                               Pr(30-70 CVD/Cancer/Diabetes/CRD Death | Male)  \\\n",
       "Pr(30-70 NCD Mortality | All)                                                   \n",
       "7.3                                                                      10.1   \n",
       "7.5                                                                      10.5   \n",
       "7.8                                                                      10.9   \n",
       "7.9                                                                       9.6   \n",
       "8.1                                                                       9.9   \n",
       "\n",
       "                               Pr(30-70 CVD/Cancer/Diabetes/CRD Death | Female)  \n",
       "Pr(30-70 NCD Mortality | All)                                                    \n",
       "7.3                                                                         4.4  \n",
       "7.5                                                                         4.6  \n",
       "7.8                                                                         4.7  \n",
       "7.9                                                                         6.1  \n",
       "8.1                                                                         6.3  "
      ]
     },
     "execution_count": 18,
     "metadata": {},
     "output_type": "execute_result"
    }
   ],
   "source": [
    "health.groupby(\"Pr(30-70 NCD Mortality | All)\").sum().head()"
   ]
  },
  {
   "cell_type": "markdown",
   "id": "4a7e5595-8500-49a5-9255-0d0adecec0ce",
   "metadata": {},
   "source": [
    "<H3>Correlations</H3>"
   ]
  },
  {
   "cell_type": "code",
   "execution_count": 19,
   "id": "d4b3fc0d-b9a8-4957-9aca-ae00614f03d7",
   "metadata": {},
   "outputs": [
    {
     "data": {
      "image/png": "[encoded data removed]",
      "text/plain": [
       "<Figure size 640x480 with 1 Axes>"
      ]
     },
     "metadata": {},
     "output_type": "display_data"
    }
   ],
   "source": [
    "sns.boxplot(x='Pr(30-70 CVD/Cancer/Diabetes/CRD Death | Male)', y='Pr(30-70 CVD/Cancer/Diabetes/CRD Death | Female)', data=health)\n",
    "plt.title(\"correlationship\")\n",
    "plt.xticks(rotation=45)\n",
    "plt.show()"
   ]
  },
  {
   "cell_type": "markdown",
   "id": "2b4cc7b4-2ac6-4883-ac25-6b72070be87c",
   "metadata": {},
   "source": [
    "<h3>bar graph</h3>"
   ]
  },
  {
   "cell_type": "code",
   "execution_count": 20,
   "id": "613a2311-1698-42dc-a728-152dcd980590",
   "metadata": {},
   "outputs": [
    {
     "data": {
      "image/png": "[encoded data removed]",
      "text/plain": [
       "<Figure size 640x480 with 1 Axes>"
      ]
     },
     "metadata": {},
     "output_type": "display_data"
    }
   ],
   "source": [
    "plt.bar(health[\"Year\"],health[\"Pr(30-70 CVD/Cancer/Diabetes/CRD Death | Male)\"])\n",
    "plt.title(\" male mortality per year\")\n",
    "plt.xlabel(\"year\")\n",
    "plt.ylabel(\"male\")\n",
    "plt.show()"
   ]
  },
  {
   "cell_type": "markdown",
   "id": "838082ef-fc6b-45ce-a8a7-bf1c42a3c816",
   "metadata": {},
   "source": [
    "<h3>female bar graph motality rate</h3>"
   ]
  },
  {
   "cell_type": "code",
   "execution_count": 21,
   "id": "62b2118b-e3f6-4f2f-b711-c9234e96b99e",
   "metadata": {},
   "outputs": [
    {
     "data": {
      "image/png": "[encoded data removed]",
      "text/plain": [
       "<Figure size 640x480 with 1 Axes>"
      ]
     },
     "metadata": {},
     "output_type": "display_data"
    }
   ],
   "source": [
    "plt.bar(health[\"Year\"],health[\"Pr(30-70 CVD/Cancer/Diabetes/CRD Death | Female)\"])\n",
    "plt.title(\" female mortality per year\")\n",
    "plt.xlabel(\"year\")\n",
    "plt.ylabel(\"female\")\n",
    "plt.show()"
   ]
  },
  {
   "cell_type": "markdown",
   "id": "9fb9d49a-7cd3-4881-8e54-a02028f1290b",
   "metadata": {},
   "source": [
    "<h3>yearly Mortality</h3>"
   ]
  },
  {
   "cell_type": "code",
   "execution_count": 22,
   "id": "c94b9a9f-2fb1-40ad-98ec-fe7077b6a063",
   "metadata": {},
   "outputs": [
    {
     "data": {
      "image/png": "[encoded data removed]",
      "text/plain": [
       "<Figure size 640x480 with 1 Axes>"
      ]
     },
     "metadata": {},
     "output_type": "display_data"
    }
   ],
   "source": [
    "plt.bar(health[\"Year\"],health[\"Pr(30-70 NCD Mortality | All)\"])\n",
    "plt.title(\" both mortality per year\")\n",
    "plt.xlabel(\"year\")\n",
    "plt.ylabel(\"male & female\")\n",
    "plt.show()"
   ]
  },
  {
   "cell_type": "markdown",
   "id": "edc7e3e1-2f46-4022-8301-aca8af34ed5b",
   "metadata": {},
   "source": [
    "<h2><b>2.0 Mental health Depression disorder Data Analysis</b></h2>"
   ]
  },
  {
   "cell_type": "code",
   "execution_count": 23,
   "id": "2b6544ae-bde2-42f4-84ea-7cb6850d4f02",
   "metadata": {},
   "outputs": [
    {
     "data": {
      "text/html": [
       "<div>\n",
       "<style scoped>\n",
       "    .dataframe tbody tr th:only-of-type {\n",
       "        vertical-align: middle;\n",
       "    }\n",
       "\n",
       "    .dataframe tbody tr th {\n",
       "        vertical-align: top;\n",
       "    }\n",
       "\n",
       "    .dataframe thead th {\n",
       "        text-align: right;\n",
       "    }\n",
       "</style>\n",
       "<table border=\"1\" class=\"dataframe\">\n",
       "  <thead>\n",
       "    <tr style=\"text-align: right;\">\n",
       "      <th></th>\n",
       "      <th>Entity</th>\n",
       "      <th>Code</th>\n",
       "      <th>Year</th>\n",
       "      <th>Schizophrenia (%)</th>\n",
       "      <th>Bipolar disorder (%)</th>\n",
       "      <th>Eating disorders (%)</th>\n",
       "      <th>Anxiety disorders (%)</th>\n",
       "      <th>Drug use disorders (%)</th>\n",
       "      <th>Depression (%)</th>\n",
       "      <th>Alcohol use disorders (%)</th>\n",
       "    </tr>\n",
       "    <tr>\n",
       "      <th>index</th>\n",
       "      <th></th>\n",
       "      <th></th>\n",
       "      <th></th>\n",
       "      <th></th>\n",
       "      <th></th>\n",
       "      <th></th>\n",
       "      <th></th>\n",
       "      <th></th>\n",
       "      <th></th>\n",
       "      <th></th>\n",
       "    </tr>\n",
       "  </thead>\n",
       "  <tbody>\n",
       "    <tr>\n",
       "      <th>108453</th>\n",
       "      <td>World</td>\n",
       "      <td>OWID_WRL</td>\n",
       "      <td>2002</td>\n",
       "      <td>210523437.941000</td>\n",
       "      <td>NaN</td>\n",
       "      <td>NaN</td>\n",
       "      <td>NaN</td>\n",
       "      <td>NaN</td>\n",
       "      <td>NaN</td>\n",
       "      <td>NaN</td>\n",
       "    </tr>\n",
       "    <tr>\n",
       "      <th>108454</th>\n",
       "      <td>World</td>\n",
       "      <td>OWID_WRL</td>\n",
       "      <td>2003</td>\n",
       "      <td>214411150.750000</td>\n",
       "      <td>NaN</td>\n",
       "      <td>NaN</td>\n",
       "      <td>NaN</td>\n",
       "      <td>NaN</td>\n",
       "      <td>NaN</td>\n",
       "      <td>NaN</td>\n",
       "    </tr>\n",
       "    <tr>\n",
       "      <th>108455</th>\n",
       "      <td>World</td>\n",
       "      <td>OWID_WRL</td>\n",
       "      <td>2004</td>\n",
       "      <td>218331898.579000</td>\n",
       "      <td>NaN</td>\n",
       "      <td>NaN</td>\n",
       "      <td>NaN</td>\n",
       "      <td>NaN</td>\n",
       "      <td>NaN</td>\n",
       "      <td>NaN</td>\n",
       "    </tr>\n",
       "    <tr>\n",
       "      <th>108456</th>\n",
       "      <td>World</td>\n",
       "      <td>OWID_WRL</td>\n",
       "      <td>2005</td>\n",
       "      <td>222225346.699000</td>\n",
       "      <td>NaN</td>\n",
       "      <td>NaN</td>\n",
       "      <td>NaN</td>\n",
       "      <td>NaN</td>\n",
       "      <td>NaN</td>\n",
       "      <td>NaN</td>\n",
       "    </tr>\n",
       "    <tr>\n",
       "      <th>108457</th>\n",
       "      <td>World</td>\n",
       "      <td>OWID_WRL</td>\n",
       "      <td>2006</td>\n",
       "      <td>225596848.087000</td>\n",
       "      <td>NaN</td>\n",
       "      <td>NaN</td>\n",
       "      <td>NaN</td>\n",
       "      <td>NaN</td>\n",
       "      <td>NaN</td>\n",
       "      <td>NaN</td>\n",
       "    </tr>\n",
       "    <tr>\n",
       "      <th>...</th>\n",
       "      <td>...</td>\n",
       "      <td>...</td>\n",
       "      <td>...</td>\n",
       "      <td>...</td>\n",
       "      <td>...</td>\n",
       "      <td>...</td>\n",
       "      <td>...</td>\n",
       "      <td>...</td>\n",
       "      <td>...</td>\n",
       "      <td>...</td>\n",
       "    </tr>\n",
       "    <tr>\n",
       "      <th>108548</th>\n",
       "      <td>Zimbabwe</td>\n",
       "      <td>ZWE</td>\n",
       "      <td>2013</td>\n",
       "      <td>303564.60359</td>\n",
       "      <td>NaN</td>\n",
       "      <td>NaN</td>\n",
       "      <td>NaN</td>\n",
       "      <td>NaN</td>\n",
       "      <td>NaN</td>\n",
       "      <td>NaN</td>\n",
       "    </tr>\n",
       "    <tr>\n",
       "      <th>108549</th>\n",
       "      <td>Zimbabwe</td>\n",
       "      <td>ZWE</td>\n",
       "      <td>2014</td>\n",
       "      <td>311665.769283</td>\n",
       "      <td>NaN</td>\n",
       "      <td>NaN</td>\n",
       "      <td>NaN</td>\n",
       "      <td>NaN</td>\n",
       "      <td>NaN</td>\n",
       "      <td>NaN</td>\n",
       "    </tr>\n",
       "    <tr>\n",
       "      <th>108550</th>\n",
       "      <td>Zimbabwe</td>\n",
       "      <td>ZWE</td>\n",
       "      <td>2015</td>\n",
       "      <td>320638.507158</td>\n",
       "      <td>NaN</td>\n",
       "      <td>NaN</td>\n",
       "      <td>NaN</td>\n",
       "      <td>NaN</td>\n",
       "      <td>NaN</td>\n",
       "      <td>NaN</td>\n",
       "    </tr>\n",
       "    <tr>\n",
       "      <th>108551</th>\n",
       "      <td>Zimbabwe</td>\n",
       "      <td>ZWE</td>\n",
       "      <td>2016</td>\n",
       "      <td>330437.353798</td>\n",
       "      <td>NaN</td>\n",
       "      <td>NaN</td>\n",
       "      <td>NaN</td>\n",
       "      <td>NaN</td>\n",
       "      <td>NaN</td>\n",
       "      <td>NaN</td>\n",
       "    </tr>\n",
       "    <tr>\n",
       "      <th>108552</th>\n",
       "      <td>Zimbabwe</td>\n",
       "      <td>ZWE</td>\n",
       "      <td>2017</td>\n",
       "      <td>340583.157405</td>\n",
       "      <td>NaN</td>\n",
       "      <td>NaN</td>\n",
       "      <td>NaN</td>\n",
       "      <td>NaN</td>\n",
       "      <td>NaN</td>\n",
       "      <td>NaN</td>\n",
       "    </tr>\n",
       "  </tbody>\n",
       "</table>\n",
       "<p>100 rows × 10 columns</p>\n",
       "</div>"
      ],
      "text/plain": [
       "          Entity      Code  Year Schizophrenia (%) Bipolar disorder (%)  \\\n",
       "index                                                                     \n",
       "108453     World  OWID_WRL  2002  210523437.941000                  NaN   \n",
       "108454     World  OWID_WRL  2003  214411150.750000                  NaN   \n",
       "108455     World  OWID_WRL  2004  218331898.579000                  NaN   \n",
       "108456     World  OWID_WRL  2005  222225346.699000                  NaN   \n",
       "108457     World  OWID_WRL  2006  225596848.087000                  NaN   \n",
       "...          ...       ...   ...               ...                  ...   \n",
       "108548  Zimbabwe       ZWE  2013      303564.60359                  NaN   \n",
       "108549  Zimbabwe       ZWE  2014     311665.769283                  NaN   \n",
       "108550  Zimbabwe       ZWE  2015     320638.507158                  NaN   \n",
       "108551  Zimbabwe       ZWE  2016     330437.353798                  NaN   \n",
       "108552  Zimbabwe       ZWE  2017     340583.157405                  NaN   \n",
       "\n",
       "       Eating disorders (%)  Anxiety disorders (%)  Drug use disorders (%)  \\\n",
       "index                                                                        \n",
       "108453                  NaN                    NaN                     NaN   \n",
       "108454                  NaN                    NaN                     NaN   \n",
       "108455                  NaN                    NaN                     NaN   \n",
       "108456                  NaN                    NaN                     NaN   \n",
       "108457                  NaN                    NaN                     NaN   \n",
       "...                     ...                    ...                     ...   \n",
       "108548                  NaN                    NaN                     NaN   \n",
       "108549                  NaN                    NaN                     NaN   \n",
       "108550                  NaN                    NaN                     NaN   \n",
       "108551                  NaN                    NaN                     NaN   \n",
       "108552                  NaN                    NaN                     NaN   \n",
       "\n",
       "        Depression (%)  Alcohol use disorders (%)  \n",
       "index                                              \n",
       "108453             NaN                        NaN  \n",
       "108454             NaN                        NaN  \n",
       "108455             NaN                        NaN  \n",
       "108456             NaN                        NaN  \n",
       "108457             NaN                        NaN  \n",
       "...                ...                        ...  \n",
       "108548             NaN                        NaN  \n",
       "108549             NaN                        NaN  \n",
       "108550             NaN                        NaN  \n",
       "108551             NaN                        NaN  \n",
       "108552             NaN                        NaN  \n",
       "\n",
       "[100 rows x 10 columns]"
      ]
     },
     "execution_count": 23,
     "metadata": {},
     "output_type": "execute_result"
    }
   ],
   "source": [
    "health2=pd.read_csv(\"HEALTH/Mental health Depression disorder Data.csv\",encoding=\"latin-1\",low_memory=False,index_col=0)\n",
    "health2.tail(100)"
   ]
  },
  {
   "cell_type": "markdown",
   "id": "0118562c-933c-4035-a9d6-08eda3d7b7db",
   "metadata": {},
   "source": [
    "<h2>2.1. Checking the data types</h2>"
   ]
  },
  {
   "cell_type": "code",
   "execution_count": 24,
   "id": "e755eaf3-2ede-4676-9840-abcfe467280d",
   "metadata": {},
   "outputs": [
    {
     "name": "stdout",
     "output_type": "stream",
     "text": [
      "<class 'pandas.core.frame.DataFrame'>\n",
      "Index: 108553 entries, 0 to 108552\n",
      "Data columns (total 10 columns):\n",
      " #   Column                     Non-Null Count   Dtype  \n",
      "---  ------                     --------------   -----  \n",
      " 0   Entity                     108553 non-null  object \n",
      " 1   Code                       103141 non-null  object \n",
      " 2   Year                       108553 non-null  object \n",
      " 3   Schizophrenia (%)          25875 non-null   object \n",
      " 4   Bipolar disorder (%)       19406 non-null   object \n",
      " 5   Eating disorders (%)       100236 non-null  object \n",
      " 6   Anxiety disorders (%)      6468 non-null    float64\n",
      " 7   Drug use disorders (%)     6468 non-null    float64\n",
      " 8   Depression (%)             6468 non-null    float64\n",
      " 9   Alcohol use disorders (%)  6468 non-null    float64\n",
      "dtypes: float64(4), object(6)\n",
      "memory usage: 9.1+ MB\n"
     ]
    }
   ],
   "source": [
    "health2.info()"
   ]
  },
  {
   "cell_type": "markdown",
   "id": "cf7d6a55-d989-4bd0-a97a-1100c54af6ad",
   "metadata": {},
   "source": [
    "<h2>2.2Checking at the null values in the data set</h2>"
   ]
  },
  {
   "cell_type": "code",
   "execution_count": 25,
   "id": "f66c3d3d-3761-458a-bbc4-c1f1d98b54b0",
   "metadata": {},
   "outputs": [
    {
     "data": {
      "text/plain": [
       "Entity                          0\n",
       "Code                          112\n",
       "Year                            0\n",
       "Schizophrenia (%)            6469\n",
       "Bipolar disorder (%)         6469\n",
       "Eating disorders (%)         7321\n",
       "Anxiety disorders (%)        6468\n",
       "Drug use disorders (%)       6468\n",
       "Depression (%)               6468\n",
       "Alcohol use disorders (%)    6468\n",
       "dtype: int64"
      ]
     },
     "execution_count": 25,
     "metadata": {},
     "output_type": "execute_result"
    }
   ],
   "source": [
    "health2.isna().idxmax()"
   ]
  },
  {
   "cell_type": "code",
   "execution_count": 26,
   "id": "0b9b15c8-0ece-47fd-a5a2-81be9925f9c6",
   "metadata": {},
   "outputs": [],
   "source": [
    "health2.dropna(inplace=True)"
   ]
  },
  {
   "cell_type": "code",
   "execution_count": 27,
   "id": "a78407a1-69bf-472f-8acf-8d3739bc28d4",
   "metadata": {},
   "outputs": [
    {
     "data": {
      "text/plain": [
       "Entity                       0\n",
       "Code                         0\n",
       "Year                         0\n",
       "Schizophrenia (%)            0\n",
       "Bipolar disorder (%)         0\n",
       "Eating disorders (%)         0\n",
       "Anxiety disorders (%)        0\n",
       "Drug use disorders (%)       0\n",
       "Depression (%)               0\n",
       "Alcohol use disorders (%)    0\n",
       "dtype: int64"
      ]
     },
     "execution_count": 27,
     "metadata": {},
     "output_type": "execute_result"
    }
   ],
   "source": [
    "health2.isna().idxmax()"
   ]
  },
  {
   "cell_type": "code",
   "execution_count": 28,
   "id": "2fd558a1-34ea-42d7-a92f-624d992be784",
   "metadata": {},
   "outputs": [
    {
     "name": "stdout",
     "output_type": "stream",
     "text": [
      "<class 'pandas.core.frame.DataFrame'>\n",
      "Index: 5488 entries, 0 to 6467\n",
      "Data columns (total 10 columns):\n",
      " #   Column                     Non-Null Count  Dtype  \n",
      "---  ------                     --------------  -----  \n",
      " 0   Entity                     5488 non-null   object \n",
      " 1   Code                       5488 non-null   object \n",
      " 2   Year                       5488 non-null   object \n",
      " 3   Schizophrenia (%)          5488 non-null   object \n",
      " 4   Bipolar disorder (%)       5488 non-null   object \n",
      " 5   Eating disorders (%)       5488 non-null   object \n",
      " 6   Anxiety disorders (%)      5488 non-null   float64\n",
      " 7   Drug use disorders (%)     5488 non-null   float64\n",
      " 8   Depression (%)             5488 non-null   float64\n",
      " 9   Alcohol use disorders (%)  5488 non-null   float64\n",
      "dtypes: float64(4), object(6)\n",
      "memory usage: 471.6+ KB\n"
     ]
    }
   ],
   "source": [
    "health2.info()"
   ]
  },
  {
   "cell_type": "code",
   "execution_count": 29,
   "id": "e3ddc769-a2e5-4f58-9ebf-50eff0142f67",
   "metadata": {},
   "outputs": [
    {
     "data": {
      "text/plain": [
       "(5488, 10)"
      ]
     },
     "execution_count": 29,
     "metadata": {},
     "output_type": "execute_result"
    }
   ],
   "source": [
    "health2.shape"
   ]
  },
  {
   "cell_type": "code",
   "execution_count": 30,
   "id": "8c0f620c-e63f-4145-bb91-6c09775629e8",
   "metadata": {},
   "outputs": [
    {
     "data": {
      "text/html": [
       "<div>\n",
       "<style scoped>\n",
       "    .dataframe tbody tr th:only-of-type {\n",
       "        vertical-align: middle;\n",
       "    }\n",
       "\n",
       "    .dataframe tbody tr th {\n",
       "        vertical-align: top;\n",
       "    }\n",
       "\n",
       "    .dataframe thead th {\n",
       "        text-align: right;\n",
       "    }\n",
       "</style>\n",
       "<table border=\"1\" class=\"dataframe\">\n",
       "  <thead>\n",
       "    <tr style=\"text-align: right;\">\n",
       "      <th></th>\n",
       "      <th>Entity</th>\n",
       "      <th>Code</th>\n",
       "      <th>Year</th>\n",
       "      <th>Schizophrenia (%)</th>\n",
       "      <th>Bipolar disorder (%)</th>\n",
       "      <th>Eating disorders (%)</th>\n",
       "      <th>Anxiety disorders (%)</th>\n",
       "      <th>Drug use disorders (%)</th>\n",
       "      <th>Depression (%)</th>\n",
       "      <th>Alcohol use disorders (%)</th>\n",
       "    </tr>\n",
       "    <tr>\n",
       "      <th>index</th>\n",
       "      <th></th>\n",
       "      <th></th>\n",
       "      <th></th>\n",
       "      <th></th>\n",
       "      <th></th>\n",
       "      <th></th>\n",
       "      <th></th>\n",
       "      <th></th>\n",
       "      <th></th>\n",
       "      <th></th>\n",
       "    </tr>\n",
       "  </thead>\n",
       "  <tbody>\n",
       "    <tr>\n",
       "      <th>6463</th>\n",
       "      <td>Zimbabwe</td>\n",
       "      <td>ZWE</td>\n",
       "      <td>2013</td>\n",
       "      <td>0.15567</td>\n",
       "      <td>0.607993</td>\n",
       "      <td>0.117248</td>\n",
       "      <td>3.090168</td>\n",
       "      <td>0.766280</td>\n",
       "      <td>3.128192</td>\n",
       "      <td>1.515641</td>\n",
       "    </tr>\n",
       "    <tr>\n",
       "      <th>6464</th>\n",
       "      <td>Zimbabwe</td>\n",
       "      <td>ZWE</td>\n",
       "      <td>2014</td>\n",
       "      <td>0.155993</td>\n",
       "      <td>0.60861</td>\n",
       "      <td>0.118073</td>\n",
       "      <td>3.093964</td>\n",
       "      <td>0.768914</td>\n",
       "      <td>3.140290</td>\n",
       "      <td>1.515470</td>\n",
       "    </tr>\n",
       "    <tr>\n",
       "      <th>6465</th>\n",
       "      <td>Zimbabwe</td>\n",
       "      <td>ZWE</td>\n",
       "      <td>2015</td>\n",
       "      <td>0.156465</td>\n",
       "      <td>0.609363</td>\n",
       "      <td>0.11947</td>\n",
       "      <td>3.098687</td>\n",
       "      <td>0.771802</td>\n",
       "      <td>3.155710</td>\n",
       "      <td>1.514751</td>\n",
       "    </tr>\n",
       "    <tr>\n",
       "      <th>6466</th>\n",
       "      <td>Zimbabwe</td>\n",
       "      <td>ZWE</td>\n",
       "      <td>2016</td>\n",
       "      <td>0.157111</td>\n",
       "      <td>0.610234</td>\n",
       "      <td>0.121456</td>\n",
       "      <td>3.104294</td>\n",
       "      <td>0.772275</td>\n",
       "      <td>3.174134</td>\n",
       "      <td>1.513269</td>\n",
       "    </tr>\n",
       "    <tr>\n",
       "      <th>6467</th>\n",
       "      <td>Zimbabwe</td>\n",
       "      <td>ZWE</td>\n",
       "      <td>2017</td>\n",
       "      <td>0.157963</td>\n",
       "      <td>0.611242</td>\n",
       "      <td>0.124443</td>\n",
       "      <td>3.110926</td>\n",
       "      <td>0.772648</td>\n",
       "      <td>3.192789</td>\n",
       "      <td>1.510943</td>\n",
       "    </tr>\n",
       "  </tbody>\n",
       "</table>\n",
       "</div>"
      ],
      "text/plain": [
       "         Entity Code  Year Schizophrenia (%) Bipolar disorder (%)  \\\n",
       "index                                                               \n",
       "6463   Zimbabwe  ZWE  2013           0.15567             0.607993   \n",
       "6464   Zimbabwe  ZWE  2014          0.155993              0.60861   \n",
       "6465   Zimbabwe  ZWE  2015          0.156465             0.609363   \n",
       "6466   Zimbabwe  ZWE  2016          0.157111             0.610234   \n",
       "6467   Zimbabwe  ZWE  2017          0.157963             0.611242   \n",
       "\n",
       "      Eating disorders (%)  Anxiety disorders (%)  Drug use disorders (%)  \\\n",
       "index                                                                       \n",
       "6463              0.117248               3.090168                0.766280   \n",
       "6464              0.118073               3.093964                0.768914   \n",
       "6465               0.11947               3.098687                0.771802   \n",
       "6466              0.121456               3.104294                0.772275   \n",
       "6467              0.124443               3.110926                0.772648   \n",
       "\n",
       "       Depression (%)  Alcohol use disorders (%)  \n",
       "index                                             \n",
       "6463         3.128192                   1.515641  \n",
       "6464         3.140290                   1.515470  \n",
       "6465         3.155710                   1.514751  \n",
       "6466         3.174134                   1.513269  \n",
       "6467         3.192789                   1.510943  "
      ]
     },
     "execution_count": 30,
     "metadata": {},
     "output_type": "execute_result"
    }
   ],
   "source": [
    "health2.tail()"
   ]
  },
  {
   "cell_type": "markdown",
   "id": "ed3eeb53-2081-4fcd-8581-8f6c38e0844e",
   "metadata": {},
   "source": [
    "<h2>Converting the string data sets to floats\n",
    "</h2>"
   ]
  },
  {
   "cell_type": "code",
   "execution_count": 31,
   "id": "4c24c3ff-0a88-46c8-90af-c49689eed07c",
   "metadata": {},
   "outputs": [],
   "source": [
    "health2['Schizophrenia (%)'] = health2['Schizophrenia (%)'].astype(float)"
   ]
  },
  {
   "cell_type": "code",
   "execution_count": 32,
   "id": "6201fb83-7c9f-4e99-a9be-fbebc656c26d",
   "metadata": {},
   "outputs": [],
   "source": [
    "health2['Bipolar disorder (%)'] = health2['Bipolar disorder (%)'].astype(float)"
   ]
  },
  {
   "cell_type": "code",
   "execution_count": 33,
   "id": "cc5274bf-a786-4ea6-9c72-78b76326e836",
   "metadata": {},
   "outputs": [],
   "source": [
    "health2['Eating disorders (%)'] = health2['Eating disorders (%)'].astype(float)"
   ]
  },
  {
   "cell_type": "code",
   "execution_count": 34,
   "id": "85699d03-f468-4320-ad75-7d174bf2ec3d",
   "metadata": {},
   "outputs": [
    {
     "name": "stdout",
     "output_type": "stream",
     "text": [
      "<class 'pandas.core.frame.DataFrame'>\n",
      "Index: 5488 entries, 0 to 6467\n",
      "Data columns (total 10 columns):\n",
      " #   Column                     Non-Null Count  Dtype  \n",
      "---  ------                     --------------  -----  \n",
      " 0   Entity                     5488 non-null   object \n",
      " 1   Code                       5488 non-null   object \n",
      " 2   Year                       5488 non-null   object \n",
      " 3   Schizophrenia (%)          5488 non-null   float64\n",
      " 4   Bipolar disorder (%)       5488 non-null   float64\n",
      " 5   Eating disorders (%)       5488 non-null   float64\n",
      " 6   Anxiety disorders (%)      5488 non-null   float64\n",
      " 7   Drug use disorders (%)     5488 non-null   float64\n",
      " 8   Depression (%)             5488 non-null   float64\n",
      " 9   Alcohol use disorders (%)  5488 non-null   float64\n",
      "dtypes: float64(7), object(3)\n",
      "memory usage: 471.6+ KB\n"
     ]
    }
   ],
   "source": [
    "health2.info()"
   ]
  },
  {
   "cell_type": "code",
   "execution_count": 35,
   "id": "bb2ac04a-5961-4189-918c-824495f8d628",
   "metadata": {},
   "outputs": [
    {
     "data": {
      "text/html": [
       "<div>\n",
       "<style scoped>\n",
       "    .dataframe tbody tr th:only-of-type {\n",
       "        vertical-align: middle;\n",
       "    }\n",
       "\n",
       "    .dataframe tbody tr th {\n",
       "        vertical-align: top;\n",
       "    }\n",
       "\n",
       "    .dataframe thead th {\n",
       "        text-align: right;\n",
       "    }\n",
       "</style>\n",
       "<table border=\"1\" class=\"dataframe\">\n",
       "  <thead>\n",
       "    <tr style=\"text-align: right;\">\n",
       "      <th></th>\n",
       "      <th>Schizophrenia (%)</th>\n",
       "      <th>Bipolar disorder (%)</th>\n",
       "      <th>Eating disorders (%)</th>\n",
       "      <th>Anxiety disorders (%)</th>\n",
       "      <th>Drug use disorders (%)</th>\n",
       "      <th>Depression (%)</th>\n",
       "      <th>Alcohol use disorders (%)</th>\n",
       "    </tr>\n",
       "  </thead>\n",
       "  <tbody>\n",
       "    <tr>\n",
       "      <th>count</th>\n",
       "      <td>5488.000000</td>\n",
       "      <td>5488.000000</td>\n",
       "      <td>5488.000000</td>\n",
       "      <td>5488.000000</td>\n",
       "      <td>5488.000000</td>\n",
       "      <td>5488.000000</td>\n",
       "      <td>5488.000000</td>\n",
       "    </tr>\n",
       "    <tr>\n",
       "      <th>mean</th>\n",
       "      <td>0.208183</td>\n",
       "      <td>0.716884</td>\n",
       "      <td>0.234023</td>\n",
       "      <td>3.946979</td>\n",
       "      <td>0.833328</td>\n",
       "      <td>3.474504</td>\n",
       "      <td>1.562273</td>\n",
       "    </tr>\n",
       "    <tr>\n",
       "      <th>std</th>\n",
       "      <td>0.041998</td>\n",
       "      <td>0.164246</td>\n",
       "      <td>0.154147</td>\n",
       "      <td>1.134810</td>\n",
       "      <td>0.441199</td>\n",
       "      <td>0.671741</td>\n",
       "      <td>0.861973</td>\n",
       "    </tr>\n",
       "    <tr>\n",
       "      <th>min</th>\n",
       "      <td>0.146902</td>\n",
       "      <td>0.314535</td>\n",
       "      <td>0.073908</td>\n",
       "      <td>2.023393</td>\n",
       "      <td>0.383650</td>\n",
       "      <td>2.139903</td>\n",
       "      <td>0.446940</td>\n",
       "    </tr>\n",
       "    <tr>\n",
       "      <th>25%</th>\n",
       "      <td>0.179452</td>\n",
       "      <td>0.615732</td>\n",
       "      <td>0.121761</td>\n",
       "      <td>3.178912</td>\n",
       "      <td>0.524018</td>\n",
       "      <td>2.955355</td>\n",
       "      <td>0.961545</td>\n",
       "    </tr>\n",
       "    <tr>\n",
       "      <th>50%</th>\n",
       "      <td>0.198510</td>\n",
       "      <td>0.693954</td>\n",
       "      <td>0.180378</td>\n",
       "      <td>3.515140</td>\n",
       "      <td>0.709090</td>\n",
       "      <td>3.461421</td>\n",
       "      <td>1.466906</td>\n",
       "    </tr>\n",
       "    <tr>\n",
       "      <th>75%</th>\n",
       "      <td>0.230553</td>\n",
       "      <td>0.830217</td>\n",
       "      <td>0.278681</td>\n",
       "      <td>4.659540</td>\n",
       "      <td>0.906843</td>\n",
       "      <td>3.877343</td>\n",
       "      <td>1.853683</td>\n",
       "    </tr>\n",
       "    <tr>\n",
       "      <th>max</th>\n",
       "      <td>0.375110</td>\n",
       "      <td>1.206597</td>\n",
       "      <td>0.943991</td>\n",
       "      <td>8.967330</td>\n",
       "      <td>3.452476</td>\n",
       "      <td>6.602754</td>\n",
       "      <td>5.474668</td>\n",
       "    </tr>\n",
       "  </tbody>\n",
       "</table>\n",
       "</div>"
      ],
      "text/plain": [
       "       Schizophrenia (%)  Bipolar disorder (%)  Eating disorders (%)  \\\n",
       "count        5488.000000           5488.000000           5488.000000   \n",
       "mean            0.208183              0.716884              0.234023   \n",
       "std             0.041998              0.164246              0.154147   \n",
       "min             0.146902              0.314535              0.073908   \n",
       "25%             0.179452              0.615732              0.121761   \n",
       "50%             0.198510              0.693954              0.180378   \n",
       "75%             0.230553              0.830217              0.278681   \n",
       "max             0.375110              1.206597              0.943991   \n",
       "\n",
       "       Anxiety disorders (%)  Drug use disorders (%)  Depression (%)  \\\n",
       "count            5488.000000             5488.000000     5488.000000   \n",
       "mean                3.946979                0.833328        3.474504   \n",
       "std                 1.134810                0.441199        0.671741   \n",
       "min                 2.023393                0.383650        2.139903   \n",
       "25%                 3.178912                0.524018        2.955355   \n",
       "50%                 3.515140                0.709090        3.461421   \n",
       "75%                 4.659540                0.906843        3.877343   \n",
       "max                 8.967330                3.452476        6.602754   \n",
       "\n",
       "       Alcohol use disorders (%)  \n",
       "count                5488.000000  \n",
       "mean                    1.562273  \n",
       "std                     0.861973  \n",
       "min                     0.446940  \n",
       "25%                     0.961545  \n",
       "50%                     1.466906  \n",
       "75%                     1.853683  \n",
       "max                     5.474668  "
      ]
     },
     "execution_count": 35,
     "metadata": {},
     "output_type": "execute_result"
    }
   ],
   "source": [
    "health2.describe()"
   ]
  },
  {
   "cell_type": "markdown",
   "id": "f8a50736-98fb-4d86-9a3b-3f94dc8fc71b",
   "metadata": {},
   "source": [
    "<h2>Visualization</h2>"
   ]
  },
  {
   "cell_type": "code",
   "execution_count": 36,
   "id": "93d757dc-99cf-4227-83ca-986a9e0d5267",
   "metadata": {},
   "outputs": [
    {
     "data": {
      "image/png": "[encoded data removed]",
      "text/plain": [
       "<Figure size 640x480 with 1 Axes>"
      ]
     },
     "metadata": {},
     "output_type": "display_data"
    }
   ],
   "source": [
    "top_Schizophrenia=health2.sort_values(by='Schizophrenia (%)', ascending=False).head(15)\n",
    "\n",
    "# Plot\n",
    "#plt.figure(figsize=(10, 8))\n",
    "plt.barh(top_Schizophrenia[\"Year\"], top_Schizophrenia['Schizophrenia (%)'], color='skyblue')\n",
    "plt.xlabel(\"year\")\n",
    "plt.title('Top 15 Movies studio by Domestic Gross')\n",
    "plt.gca().invert_yaxis()  # Highest grossing at the top\n",
    "\n",
    "plt.show()"
   ]
  },
  {
   "cell_type": "markdown",
   "id": "13fdaed9-28c3-4199-82ac-52736c168c36",
   "metadata": {},
   "source": [
    "<h2>identifying the outliers</h2>"
   ]
  },
  {
   "cell_type": "code",
   "execution_count": 37,
   "id": "af5182b3-b55d-418b-aebb-a19a6f56c6ef",
   "metadata": {},
   "outputs": [
    {
     "data": {
      "image/png": "[encoded data removed]",
      "text/plain": [
       "<Figure size 800x600 with 1 Axes>"
      ]
     },
     "metadata": {},
     "output_type": "display_data"
    }
   ],
   "source": [
    "plt.figure(figsize=(8, 6))\n",
    "sns.boxplot(data=health2[[\"Schizophrenia (%)\",\"Eating disorders (%)\"]])\n",
    "plt.title(\"box plot \", fontsize=14)\n",
    "plt.ylabel(\"Values\")\n",
    "plt.xlabel(\"Categories\")\n",
    "plt.show()"
   ]
  },
  {
   "cell_type": "markdown",
   "id": "d52221e1-af1c-4c7f-88cd-2359dff893c3",
   "metadata": {},
   "source": [
    "<h2>Correlationships of the data</h2>"
   ]
  },
  {
   "cell_type": "code",
   "execution_count": 38,
   "id": "9137fb96-6efc-4470-a7b8-5a9bbcd85161",
   "metadata": {},
   "outputs": [
    {
     "data": {
      "image/png": "[encoded data removed]",
      "text/plain": [
       "<Figure size 1200x500 with 3 Axes>"
      ]
     },
     "metadata": {},
     "output_type": "display_data"
    }
   ],
   "source": [
    "fig, axes = plt.subplots(1, 3, figsize=(12, 5))\n",
    "\n",
    "# Plot each separately\n",
    "sns.boxplot(y=health2['Schizophrenia (%)'], ax=axes[0])\n",
    "axes[0].set_title(\"Schizophrenia (%)\")\n",
    "\n",
    "sns.boxplot(y=health2['Eating disorders (%)'], ax=axes[1])\n",
    "axes[1].set_title(\"Eating disorders (%)\")\n",
    "\n",
    "sns.boxplot(y=health2['Drug use disorders (%)'], ax=axes[2])\n",
    "axes[2].set_title(\"Drug use disorders (%)\")\n",
    "\n",
    "plt.tight_layout()\n",
    "plt.show()\n"
   ]
  },
  {
   "cell_type": "code",
   "execution_count": 39,
   "id": "1fe78dc4-ce13-438b-8723-2ad89f5f9a61",
   "metadata": {},
   "outputs": [
    {
     "data": {
      "image/png": "[encoded data removed]",
      "text/plain": [
       "<Figure size 640x480 with 1 Axes>"
      ]
     },
     "metadata": {},
     "output_type": "display_data"
    }
   ],
   "source": [
    "sns.scatterplot(x='Schizophrenia (%)', y='Drug use disorders (%)', data=health2)\n",
    "plt.title(\"correlationship between Schizophrenia and Eating disorders \")\n",
    "plt.show()"
   ]
  },
  {
   "cell_type": "code",
   "execution_count": 40,
   "id": "214a904b-4f91-4ac1-941e-feff925ae867",
   "metadata": {},
   "outputs": [
    {
     "data": {
      "image/png": "[encoded data removed]",
      "text/plain": [
       "<Figure size 640x480 with 1 Axes>"
      ]
     },
     "metadata": {},
     "output_type": "display_data"
    }
   ],
   "source": [
    "sns.scatterplot(x='Schizophrenia (%)', y='Alcohol use disorders (%)', data=health2)\n",
    "plt.title(\"correlationship between Schizophrenia and Eating disorders \")\n",
    "plt.show()"
   ]
  },
  {
   "cell_type": "code",
   "execution_count": 41,
   "id": "a5c0d30d-1fd8-4a98-b943-31b27a645d47",
   "metadata": {},
   "outputs": [
    {
     "data": {
      "image/png": "[encoded data removed]",
      "text/plain": [
       "<Figure size 640x480 with 1 Axes>"
      ]
     },
     "metadata": {},
     "output_type": "display_data"
    }
   ],
   "source": [
    "DESES = health2.groupby('Year')['Schizophrenia (%)'].sum().reset_index()\n",
    "\n",
    "plt.plot(DESES['Year'], DESES['Schizophrenia (%)'], marker='*', linestyle='-', color='green')\n",
    "plt.title('Yearly Schizophrenia')\n",
    "plt.xlabel('Year')\n",
    "plt.ylabel('Schizophrenia')\n",
    "plt.grid(True)\n",
    "plt.show()"
   ]
  },
  {
   "cell_type": "markdown",
   "id": "33c61c5e-dc82-432a-8597-1ce79ea0731c",
   "metadata": {},
   "source": [
    "<h2></h2>"
   ]
  },
  {
   "cell_type": "markdown",
   "id": "e4753f7b-0e72-46ee-8f02-72344196dc9c",
   "metadata": {},
   "source": [
    "<h2>Road accident</h2>"
   ]
  },
  {
   "cell_type": "code",
   "execution_count": 42,
   "id": "214896aa-ddad-4e9c-95da-7e97ad31f9f0",
   "metadata": {},
   "outputs": [
    {
     "data": {
      "text/html": [
       "<div>\n",
       "<style scoped>\n",
       "    .dataframe tbody tr th:only-of-type {\n",
       "        vertical-align: middle;\n",
       "    }\n",
       "\n",
       "    .dataframe tbody tr th {\n",
       "        vertical-align: top;\n",
       "    }\n",
       "\n",
       "    .dataframe thead th {\n",
       "        text-align: right;\n",
       "    }\n",
       "</style>\n",
       "<table border=\"1\" class=\"dataframe\">\n",
       "  <thead>\n",
       "    <tr style=\"text-align: right;\">\n",
       "      <th></th>\n",
       "      <th>continent</th>\n",
       "      <th>code</th>\n",
       "      <th>country</th>\n",
       "      <th>year</th>\n",
       "      <th>road traffic death rate</th>\n",
       "    </tr>\n",
       "  </thead>\n",
       "  <tbody>\n",
       "    <tr>\n",
       "      <th>0</th>\n",
       "      <td>Americas</td>\n",
       "      <td>ATG</td>\n",
       "      <td>Antigua and Barbuda</td>\n",
       "      <td>2019</td>\n",
       "      <td>0.00</td>\n",
       "    </tr>\n",
       "    <tr>\n",
       "      <th>1</th>\n",
       "      <td>Western Pacific</td>\n",
       "      <td>FSM</td>\n",
       "      <td>Micronesia (Federated States of)</td>\n",
       "      <td>2019</td>\n",
       "      <td>0.16</td>\n",
       "    </tr>\n",
       "    <tr>\n",
       "      <th>2</th>\n",
       "      <td>South-East Asia</td>\n",
       "      <td>MDV</td>\n",
       "      <td>Maldives</td>\n",
       "      <td>2019</td>\n",
       "      <td>1.63</td>\n",
       "    </tr>\n",
       "    <tr>\n",
       "      <th>3</th>\n",
       "      <td>Western Pacific</td>\n",
       "      <td>KIR</td>\n",
       "      <td>Kiribati</td>\n",
       "      <td>2019</td>\n",
       "      <td>1.92</td>\n",
       "    </tr>\n",
       "    <tr>\n",
       "      <th>4</th>\n",
       "      <td>Eastern Mediterranean</td>\n",
       "      <td>EGY</td>\n",
       "      <td>Egypt</td>\n",
       "      <td>2019</td>\n",
       "      <td>10.10</td>\n",
       "    </tr>\n",
       "  </tbody>\n",
       "</table>\n",
       "</div>"
      ],
      "text/plain": [
       "               continent code                           country  year  \\\n",
       "0               Americas  ATG               Antigua and Barbuda  2019   \n",
       "1        Western Pacific  FSM  Micronesia (Federated States of)  2019   \n",
       "2        South-East Asia  MDV                          Maldives  2019   \n",
       "3        Western Pacific  KIR                          Kiribati  2019   \n",
       "4  Eastern Mediterranean  EGY                             Egypt  2019   \n",
       "\n",
       "   road traffic death rate  \n",
       "0                     0.00  \n",
       "1                     0.16  \n",
       "2                     1.63  \n",
       "3                     1.92  \n",
       "4                    10.10  "
      ]
     },
     "execution_count": 42,
     "metadata": {},
     "output_type": "execute_result"
    }
   ],
   "source": [
    "road=pd.read_csv(\"HEALTH/road_death_2019.csv\")\n",
    "road.head()"
   ]
  },
  {
   "cell_type": "code",
   "execution_count": 43,
   "id": "ece11fba-1b27-4589-9dbd-ac3f1d94fff2",
   "metadata": {},
   "outputs": [
    {
     "name": "stdout",
     "output_type": "stream",
     "text": [
      "<class 'pandas.core.frame.DataFrame'>\n",
      "RangeIndex: 3660 entries, 0 to 3659\n",
      "Data columns (total 5 columns):\n",
      " #   Column                   Non-Null Count  Dtype  \n",
      "---  ------                   --------------  -----  \n",
      " 0   continent                3660 non-null   object \n",
      " 1   code                     3660 non-null   object \n",
      " 2   country                  3660 non-null   object \n",
      " 3   year                     3660 non-null   int64  \n",
      " 4   road traffic death rate  3660 non-null   float64\n",
      "dtypes: float64(1), int64(1), object(3)\n",
      "memory usage: 143.1+ KB\n"
     ]
    }
   ],
   "source": [
    "road.info()"
   ]
  },
  {
   "cell_type": "code",
   "execution_count": 44,
   "id": "cfb0b554-6988-4aea-b833-f3402bc79b66",
   "metadata": {},
   "outputs": [],
   "source": [
    "#renaming year\n",
    "road.rename(columns={\"year\":\"Year\"},inplace=True)"
   ]
  },
  {
   "cell_type": "code",
   "execution_count": 45,
   "id": "b51e2af6-1020-47b7-9974-e028cb002ae1",
   "metadata": {},
   "outputs": [
    {
     "data": {
      "text/plain": [
       "(3660, 5)"
      ]
     },
     "execution_count": 45,
     "metadata": {},
     "output_type": "execute_result"
    }
   ],
   "source": [
    "road.shape"
   ]
  },
  {
   "cell_type": "code",
   "execution_count": 46,
   "id": "cbb06e16-f4ec-406c-b1f7-314cffccc34d",
   "metadata": {},
   "outputs": [
    {
     "data": {
      "text/plain": [
       "continent                  0\n",
       "code                       0\n",
       "country                    0\n",
       "Year                       0\n",
       "road traffic death rate    0\n",
       "dtype: int64"
      ]
     },
     "execution_count": 46,
     "metadata": {},
     "output_type": "execute_result"
    }
   ],
   "source": [
    "road.isna().idxmax()"
   ]
  },
  {
   "cell_type": "markdown",
   "id": "9cce1a9a-6cfe-4b53-94fb-74e30d633354",
   "metadata": {},
   "source": [
    "<h2>Visualization</h2>"
   ]
  },
  {
   "cell_type": "code",
   "execution_count": 47,
   "id": "f1ebaf28-df01-4df9-a612-3da81ce14e71",
   "metadata": {},
   "outputs": [
    {
     "data": {
      "image/png": "[encoded data removed]",
      "text/plain": [
       "<Figure size 800x600 with 1 Axes>"
      ]
     },
     "metadata": {},
     "output_type": "display_data"
    }
   ],
   "source": [
    "plt.figure(figsize=(8, 6))\n",
    "sns.boxplot(data=road[\"road traffic death rate\"])\n",
    "plt.title(\"box plot \", fontsize=14)\n",
    "plt.ylabel(\"Values\")\n",
    "plt.xlabel(\"Categories\")\n",
    "plt.show()"
   ]
  },
  {
   "cell_type": "markdown",
   "id": "72b38e36-1a7c-4c59-8d43-35b75b519a46",
   "metadata": {},
   "source": [
    "<h2>suicide_rates_2019</h2>"
   ]
  },
  {
   "cell_type": "code",
   "execution_count": 48,
   "id": "6df00484-fc9c-4c92-99bc-cf39c4fdc632",
   "metadata": {},
   "outputs": [
    {
     "data": {
      "text/html": [
       "<div>\n",
       "<style scoped>\n",
       "    .dataframe tbody tr th:only-of-type {\n",
       "        vertical-align: middle;\n",
       "    }\n",
       "\n",
       "    .dataframe tbody tr th {\n",
       "        vertical-align: top;\n",
       "    }\n",
       "\n",
       "    .dataframe thead th {\n",
       "        text-align: right;\n",
       "    }\n",
       "</style>\n",
       "<table border=\"1\" class=\"dataframe\">\n",
       "  <thead>\n",
       "    <tr style=\"text-align: right;\">\n",
       "      <th></th>\n",
       "      <th>Indicator</th>\n",
       "      <th>continent</th>\n",
       "      <th>code</th>\n",
       "      <th>country</th>\n",
       "      <th>year</th>\n",
       "      <th>sex</th>\n",
       "      <th>Suicide Rate</th>\n",
       "    </tr>\n",
       "  </thead>\n",
       "  <tbody>\n",
       "    <tr>\n",
       "      <th>0</th>\n",
       "      <td>Age-standardized suicide rates (per 100 000 po...</td>\n",
       "      <td>Americas</td>\n",
       "      <td>ATG</td>\n",
       "      <td>Antigua and Barbuda</td>\n",
       "      <td>2019</td>\n",
       "      <td>Male</td>\n",
       "      <td>0.00</td>\n",
       "    </tr>\n",
       "    <tr>\n",
       "      <th>1</th>\n",
       "      <td>Age-standardized suicide rates (per 100 000 po...</td>\n",
       "      <td>Americas</td>\n",
       "      <td>BRB</td>\n",
       "      <td>Barbados</td>\n",
       "      <td>2019</td>\n",
       "      <td>Female</td>\n",
       "      <td>0.16</td>\n",
       "    </tr>\n",
       "    <tr>\n",
       "      <th>2</th>\n",
       "      <td>Age-standardized suicide rates (per 100 000 po...</td>\n",
       "      <td>Americas</td>\n",
       "      <td>BRB</td>\n",
       "      <td>Barbados</td>\n",
       "      <td>2019</td>\n",
       "      <td>Both sexes</td>\n",
       "      <td>0.31</td>\n",
       "    </tr>\n",
       "    <tr>\n",
       "      <th>3</th>\n",
       "      <td>Age-standardized suicide rates (per 100 000 po...</td>\n",
       "      <td>Americas</td>\n",
       "      <td>ATG</td>\n",
       "      <td>Antigua and Barbuda</td>\n",
       "      <td>2019</td>\n",
       "      <td>Both sexes</td>\n",
       "      <td>0.32</td>\n",
       "    </tr>\n",
       "    <tr>\n",
       "      <th>4</th>\n",
       "      <td>Age-standardized suicide rates (per 100 000 po...</td>\n",
       "      <td>Americas</td>\n",
       "      <td>BRB</td>\n",
       "      <td>Barbados</td>\n",
       "      <td>2019</td>\n",
       "      <td>Male</td>\n",
       "      <td>0.49</td>\n",
       "    </tr>\n",
       "  </tbody>\n",
       "</table>\n",
       "</div>"
      ],
      "text/plain": [
       "                                           Indicator continent code  \\\n",
       "0  Age-standardized suicide rates (per 100 000 po...  Americas  ATG   \n",
       "1  Age-standardized suicide rates (per 100 000 po...  Americas  BRB   \n",
       "2  Age-standardized suicide rates (per 100 000 po...  Americas  BRB   \n",
       "3  Age-standardized suicide rates (per 100 000 po...  Americas  ATG   \n",
       "4  Age-standardized suicide rates (per 100 000 po...  Americas  BRB   \n",
       "\n",
       "               country  year         sex  Suicide Rate  \n",
       "0  Antigua and Barbuda  2019        Male          0.00  \n",
       "1             Barbados  2019      Female          0.16  \n",
       "2             Barbados  2019  Both sexes          0.31  \n",
       "3  Antigua and Barbuda  2019  Both sexes          0.32  \n",
       "4             Barbados  2019        Male          0.49  "
      ]
     },
     "execution_count": 48,
     "metadata": {},
     "output_type": "execute_result"
    }
   ],
   "source": [
    "suicide=pd.read_csv(\"HEALTH/suicide_rates_2019.csv\")\n",
    "suicide.head()"
   ]
  },
  {
   "cell_type": "code",
   "execution_count": 49,
   "id": "082623a0-9404-4fa4-8677-c38495c86725",
   "metadata": {},
   "outputs": [
    {
     "data": {
      "text/plain": [
       "(10980, 7)"
      ]
     },
     "execution_count": 49,
     "metadata": {},
     "output_type": "execute_result"
    }
   ],
   "source": [
    "suicide.shape"
   ]
  },
  {
   "cell_type": "code",
   "execution_count": 50,
   "id": "6e7c1a85-f7e7-49bb-a20d-84df1b590e62",
   "metadata": {},
   "outputs": [],
   "source": [
    "#renaming year\n",
    "suicide.rename(columns={\"year\":\"Year\"},inplace=True)"
   ]
  },
  {
   "cell_type": "code",
   "execution_count": 51,
   "id": "9f75649e-56b7-4c35-ae27-11984b9ade68",
   "metadata": {},
   "outputs": [
    {
     "name": "stdout",
     "output_type": "stream",
     "text": [
      "<class 'pandas.core.frame.DataFrame'>\n",
      "RangeIndex: 10980 entries, 0 to 10979\n",
      "Data columns (total 7 columns):\n",
      " #   Column        Non-Null Count  Dtype  \n",
      "---  ------        --------------  -----  \n",
      " 0   Indicator     10980 non-null  object \n",
      " 1   continent     10980 non-null  object \n",
      " 2   code          10980 non-null  object \n",
      " 3   country       10980 non-null  object \n",
      " 4   Year          10980 non-null  int64  \n",
      " 5   sex           10980 non-null  object \n",
      " 6   Suicide Rate  10980 non-null  float64\n",
      "dtypes: float64(1), int64(1), object(5)\n",
      "memory usage: 600.6+ KB\n"
     ]
    }
   ],
   "source": [
    "suicide.info()"
   ]
  },
  {
   "cell_type": "code",
   "execution_count": 52,
   "id": "caa8aff7-78ca-4a17-890b-d942e927f0a4",
   "metadata": {},
   "outputs": [
    {
     "data": {
      "text/plain": [
       "0"
      ]
     },
     "execution_count": 52,
     "metadata": {},
     "output_type": "execute_result"
    }
   ],
   "source": [
    "suicide.duplicated().idxmax()"
   ]
  },
  {
   "cell_type": "code",
   "execution_count": 53,
   "id": "61103c4b-43a0-4b78-9ce6-425617d7b9db",
   "metadata": {},
   "outputs": [
    {
     "data": {
      "text/plain": [
       "Indicator          0\n",
       "continent         13\n",
       "code             117\n",
       "country          117\n",
       "Year               0\n",
       "sex                0\n",
       "Suicide Rate    2932\n",
       "dtype: int64"
      ]
     },
     "execution_count": 53,
     "metadata": {},
     "output_type": "execute_result"
    }
   ],
   "source": [
    "suicide.idxmax()"
   ]
  },
  {
   "cell_type": "code",
   "execution_count": 54,
   "id": "b467728e-d92e-4ce1-8452-8af2d07337e9",
   "metadata": {},
   "outputs": [
    {
     "data": {
      "text/html": [
       "<div>\n",
       "<style scoped>\n",
       "    .dataframe tbody tr th:only-of-type {\n",
       "        vertical-align: middle;\n",
       "    }\n",
       "\n",
       "    .dataframe tbody tr th {\n",
       "        vertical-align: top;\n",
       "    }\n",
       "\n",
       "    .dataframe thead th {\n",
       "        text-align: right;\n",
       "    }\n",
       "</style>\n",
       "<table border=\"1\" class=\"dataframe\">\n",
       "  <thead>\n",
       "    <tr style=\"text-align: right;\">\n",
       "      <th></th>\n",
       "      <th>Indicator</th>\n",
       "      <th>continent</th>\n",
       "      <th>code</th>\n",
       "      <th>country</th>\n",
       "      <th>Year</th>\n",
       "      <th>sex</th>\n",
       "      <th>Suicide Rate</th>\n",
       "    </tr>\n",
       "  </thead>\n",
       "  <tbody>\n",
       "    <tr>\n",
       "      <th>0</th>\n",
       "      <td>Age-standardized suicide rates (per 100 000 po...</td>\n",
       "      <td>Americas</td>\n",
       "      <td>ATG</td>\n",
       "      <td>Antigua and Barbuda</td>\n",
       "      <td>2019</td>\n",
       "      <td>Male</td>\n",
       "      <td>0.00</td>\n",
       "    </tr>\n",
       "    <tr>\n",
       "      <th>1</th>\n",
       "      <td>Age-standardized suicide rates (per 100 000 po...</td>\n",
       "      <td>Americas</td>\n",
       "      <td>BRB</td>\n",
       "      <td>Barbados</td>\n",
       "      <td>2019</td>\n",
       "      <td>Female</td>\n",
       "      <td>0.16</td>\n",
       "    </tr>\n",
       "    <tr>\n",
       "      <th>2</th>\n",
       "      <td>Age-standardized suicide rates (per 100 000 po...</td>\n",
       "      <td>Americas</td>\n",
       "      <td>BRB</td>\n",
       "      <td>Barbados</td>\n",
       "      <td>2019</td>\n",
       "      <td>Both sexes</td>\n",
       "      <td>0.31</td>\n",
       "    </tr>\n",
       "    <tr>\n",
       "      <th>3</th>\n",
       "      <td>Age-standardized suicide rates (per 100 000 po...</td>\n",
       "      <td>Americas</td>\n",
       "      <td>ATG</td>\n",
       "      <td>Antigua and Barbuda</td>\n",
       "      <td>2019</td>\n",
       "      <td>Both sexes</td>\n",
       "      <td>0.32</td>\n",
       "    </tr>\n",
       "    <tr>\n",
       "      <th>4</th>\n",
       "      <td>Age-standardized suicide rates (per 100 000 po...</td>\n",
       "      <td>Americas</td>\n",
       "      <td>BRB</td>\n",
       "      <td>Barbados</td>\n",
       "      <td>2019</td>\n",
       "      <td>Male</td>\n",
       "      <td>0.49</td>\n",
       "    </tr>\n",
       "    <tr>\n",
       "      <th>...</th>\n",
       "      <td>...</td>\n",
       "      <td>...</td>\n",
       "      <td>...</td>\n",
       "      <td>...</td>\n",
       "      <td>...</td>\n",
       "      <td>...</td>\n",
       "      <td>...</td>\n",
       "    </tr>\n",
       "    <tr>\n",
       "      <th>10975</th>\n",
       "      <td>Age-standardized suicide rates (per 100 000 po...</td>\n",
       "      <td>Africa</td>\n",
       "      <td>GIN</td>\n",
       "      <td>Guinea</td>\n",
       "      <td>2000</td>\n",
       "      <td>Both sexes</td>\n",
       "      <td>9.73</td>\n",
       "    </tr>\n",
       "    <tr>\n",
       "      <th>10976</th>\n",
       "      <td>Age-standardized suicide rates (per 100 000 po...</td>\n",
       "      <td>Africa</td>\n",
       "      <td>GHA</td>\n",
       "      <td>Ghana</td>\n",
       "      <td>2000</td>\n",
       "      <td>Both sexes</td>\n",
       "      <td>9.75</td>\n",
       "    </tr>\n",
       "    <tr>\n",
       "      <th>10977</th>\n",
       "      <td>Age-standardized suicide rates (per 100 000 po...</td>\n",
       "      <td>Europe</td>\n",
       "      <td>MLT</td>\n",
       "      <td>Malta</td>\n",
       "      <td>2000</td>\n",
       "      <td>Male</td>\n",
       "      <td>9.75</td>\n",
       "    </tr>\n",
       "    <tr>\n",
       "      <th>10978</th>\n",
       "      <td>Age-standardized suicide rates (per 100 000 po...</td>\n",
       "      <td>Africa</td>\n",
       "      <td>SYC</td>\n",
       "      <td>Seychelles</td>\n",
       "      <td>2000</td>\n",
       "      <td>Both sexes</td>\n",
       "      <td>9.76</td>\n",
       "    </tr>\n",
       "    <tr>\n",
       "      <th>10979</th>\n",
       "      <td>Age-standardized suicide rates (per 100 000 po...</td>\n",
       "      <td>Europe</td>\n",
       "      <td>MNE</td>\n",
       "      <td>Montenegro</td>\n",
       "      <td>2000</td>\n",
       "      <td>Female</td>\n",
       "      <td>9.82</td>\n",
       "    </tr>\n",
       "  </tbody>\n",
       "</table>\n",
       "<p>10980 rows × 7 columns</p>\n",
       "</div>"
      ],
      "text/plain": [
       "                                               Indicator continent code  \\\n",
       "0      Age-standardized suicide rates (per 100 000 po...  Americas  ATG   \n",
       "1      Age-standardized suicide rates (per 100 000 po...  Americas  BRB   \n",
       "2      Age-standardized suicide rates (per 100 000 po...  Americas  BRB   \n",
       "3      Age-standardized suicide rates (per 100 000 po...  Americas  ATG   \n",
       "4      Age-standardized suicide rates (per 100 000 po...  Americas  BRB   \n",
       "...                                                  ...       ...  ...   \n",
       "10975  Age-standardized suicide rates (per 100 000 po...    Africa  GIN   \n",
       "10976  Age-standardized suicide rates (per 100 000 po...    Africa  GHA   \n",
       "10977  Age-standardized suicide rates (per 100 000 po...    Europe  MLT   \n",
       "10978  Age-standardized suicide rates (per 100 000 po...    Africa  SYC   \n",
       "10979  Age-standardized suicide rates (per 100 000 po...    Europe  MNE   \n",
       "\n",
       "                   country  Year         sex  Suicide Rate  \n",
       "0      Antigua and Barbuda  2019        Male          0.00  \n",
       "1                 Barbados  2019      Female          0.16  \n",
       "2                 Barbados  2019  Both sexes          0.31  \n",
       "3      Antigua and Barbuda  2019  Both sexes          0.32  \n",
       "4                 Barbados  2019        Male          0.49  \n",
       "...                    ...   ...         ...           ...  \n",
       "10975               Guinea  2000  Both sexes          9.73  \n",
       "10976                Ghana  2000  Both sexes          9.75  \n",
       "10977                Malta  2000        Male          9.75  \n",
       "10978           Seychelles  2000  Both sexes          9.76  \n",
       "10979           Montenegro  2000      Female          9.82  \n",
       "\n",
       "[10980 rows x 7 columns]"
      ]
     },
     "execution_count": 54,
     "metadata": {},
     "output_type": "execute_result"
    }
   ],
   "source": [
    "suicide.dropna()"
   ]
  },
  {
   "cell_type": "code",
   "execution_count": 55,
   "id": "a2a02d8c-7a3f-4db6-b3bf-d5e833b08d6b",
   "metadata": {},
   "outputs": [
    {
     "data": {
      "text/plain": [
       "Indicator       0\n",
       "continent       0\n",
       "code            0\n",
       "country         0\n",
       "Year            0\n",
       "sex             0\n",
       "Suicide Rate    0\n",
       "dtype: int64"
      ]
     },
     "execution_count": 55,
     "metadata": {},
     "output_type": "execute_result"
    }
   ],
   "source": [
    "suicide.isna().idxmax()"
   ]
  },
  {
   "cell_type": "code",
   "execution_count": 56,
   "id": "72f9451e-b7dd-4203-809a-6221a86175a9",
   "metadata": {},
   "outputs": [],
   "source": [
    "suicide[\"Year\"] = suicide[\"Year\"].round().astype(int)"
   ]
  },
  {
   "cell_type": "code",
   "execution_count": 57,
   "id": "58dcbd01-e783-4797-b32b-55cf10fafb6b",
   "metadata": {},
   "outputs": [
    {
     "data": {
      "image/png": "[encoded data removed]",
      "text/plain": [
       "<Figure size 640x480 with 1 Axes>"
      ]
     },
     "metadata": {},
     "output_type": "display_data"
    }
   ],
   "source": [
    "#yearly suicidal rate \n",
    "SUI = suicide.groupby('Year')['Suicide Rate'].sum().reset_index()\n",
    "\n",
    "plt.plot(SUI['Year'], SUI['Suicide Rate'], marker='*', linestyle='-', color='green')\n",
    "plt.title('Annual suicidal rate')\n",
    "plt.xlabel('Year')\n",
    "plt.ylabel('Death rate')\n",
    "plt.grid(True)\n",
    "plt.show()"
   ]
  },
  {
   "cell_type": "code",
   "execution_count": 58,
   "id": "8fa52872-fd50-499b-ba43-2bea3c8079f8",
   "metadata": {},
   "outputs": [
    {
     "data": {
      "text/plain": [
       "('Age-standardized suicide rates (per 100 000 population)',\n",
       " 'Africa',\n",
       " 'AGO',\n",
       " 'Angola',\n",
       " 2000,\n",
       " 'Both sexes',\n",
       " 17.56)"
      ]
     },
     "execution_count": 58,
     "metadata": {},
     "output_type": "execute_result"
    }
   ],
   "source": [
    "#continent with the highest death rate\n",
    "suicide.value_counts().idxmax()"
   ]
  },
  {
   "cell_type": "code",
   "execution_count": 59,
   "id": "709412f6-74bf-42cf-b14d-c4fbd329c4d9",
   "metadata": {},
   "outputs": [
    {
     "data": {
      "image/png": "[encoded data removed]",
      "text/plain": [
       "<Figure size 640x480 with 1 Axes>"
      ]
     },
     "metadata": {},
     "output_type": "display_data"
    }
   ],
   "source": [
    "#top_suicidal_rate =suicide.sort_values(by='Suicide Rate', ascending=False).head(15)\n",
    "\n",
    "\n",
    "#plt.figure(figsize=(10, 8))\n",
    "plt.barh(suicide[\"Suicide Rate\"], suicide['Suicide Rate'], color='skyblue')\n",
    "plt.xlabel(' continent ')\n",
    "plt.title('suicidal rate ')\n",
    "plt.gca().invert_yaxis()  # Highest grossing at the top\n",
    "\n",
    "plt.show()"
   ]
  },
  {
   "cell_type": "markdown",
   "id": "8cc7462f-1d64-4b17-8eaf-21e4d486f65b",
   "metadata": {},
   "source": [
    "<h2>suicide-rate-by-country-2023</h2>"
   ]
  },
  {
   "cell_type": "code",
   "execution_count": 60,
   "id": "675518a1-a356-45aa-b13d-456fc2fef906",
   "metadata": {},
   "outputs": [
    {
     "data": {
      "text/html": [
       "<div>\n",
       "<style scoped>\n",
       "    .dataframe tbody tr th:only-of-type {\n",
       "        vertical-align: middle;\n",
       "    }\n",
       "\n",
       "    .dataframe tbody tr th {\n",
       "        vertical-align: top;\n",
       "    }\n",
       "\n",
       "    .dataframe thead th {\n",
       "        text-align: right;\n",
       "    }\n",
       "</style>\n",
       "<table border=\"1\" class=\"dataframe\">\n",
       "  <thead>\n",
       "    <tr style=\"text-align: right;\">\n",
       "      <th></th>\n",
       "      <th>country</th>\n",
       "      <th>rate2019both</th>\n",
       "      <th>rate2019male</th>\n",
       "      <th>rate2019female</th>\n",
       "    </tr>\n",
       "  </thead>\n",
       "  <tbody>\n",
       "    <tr>\n",
       "      <th>0</th>\n",
       "      <td>Lesotho</td>\n",
       "      <td>72.4</td>\n",
       "      <td>116.0</td>\n",
       "      <td>30.1</td>\n",
       "    </tr>\n",
       "    <tr>\n",
       "      <th>1</th>\n",
       "      <td>Guyana</td>\n",
       "      <td>40.3</td>\n",
       "      <td>63.0</td>\n",
       "      <td>17.4</td>\n",
       "    </tr>\n",
       "    <tr>\n",
       "      <th>2</th>\n",
       "      <td>Eswatini</td>\n",
       "      <td>29.4</td>\n",
       "      <td>55.1</td>\n",
       "      <td>4.7</td>\n",
       "    </tr>\n",
       "    <tr>\n",
       "      <th>3</th>\n",
       "      <td>South Korea</td>\n",
       "      <td>28.6</td>\n",
       "      <td>40.2</td>\n",
       "      <td>16.9</td>\n",
       "    </tr>\n",
       "    <tr>\n",
       "      <th>4</th>\n",
       "      <td>Kiribati</td>\n",
       "      <td>28.3</td>\n",
       "      <td>48.6</td>\n",
       "      <td>8.7</td>\n",
       "    </tr>\n",
       "  </tbody>\n",
       "</table>\n",
       "</div>"
      ],
      "text/plain": [
       "       country  rate2019both  rate2019male  rate2019female\n",
       "0      Lesotho          72.4         116.0            30.1\n",
       "1       Guyana          40.3          63.0            17.4\n",
       "2     Eswatini          29.4          55.1             4.7\n",
       "3  South Korea          28.6          40.2            16.9\n",
       "4     Kiribati          28.3          48.6             8.7"
      ]
     },
     "execution_count": 60,
     "metadata": {},
     "output_type": "execute_result"
    }
   ],
   "source": [
    "suicide2=pd.read_csv(\"HEALTH/suicide-rate-by-country-2023.csv\")\n",
    "suicide2.head()"
   ]
  },
  {
   "cell_type": "code",
   "execution_count": 61,
   "id": "5698a0fa-0c65-4321-92e2-98becdb0590b",
   "metadata": {},
   "outputs": [
    {
     "data": {
      "text/plain": [
       "0"
      ]
     },
     "execution_count": 61,
     "metadata": {},
     "output_type": "execute_result"
    }
   ],
   "source": [
    "suicide2.duplicated().idxmax()"
   ]
  },
  {
   "cell_type": "code",
   "execution_count": 62,
   "id": "0460230b-0e81-4a79-9dce-649d614d2c0e",
   "metadata": {},
   "outputs": [
    {
     "data": {
      "text/plain": [
       "country           0\n",
       "rate2019both      0\n",
       "rate2019male      0\n",
       "rate2019female    0\n",
       "dtype: int64"
      ]
     },
     "execution_count": 62,
     "metadata": {},
     "output_type": "execute_result"
    }
   ],
   "source": [
    "suicide2.isna().idxmax()"
   ]
  },
  {
   "cell_type": "markdown",
   "id": "99f0b02c-07a9-4670-aaba-4b0d13ddc614",
   "metadata": {},
   "source": [
    "<h>Alcohol disorder</h2>"
   ]
  },
  {
   "cell_type": "code",
   "execution_count": 63,
   "id": "8b2cb471-e4ff-4ff7-9a3a-3277d970bfa8",
   "metadata": {},
   "outputs": [
    {
     "data": {
      "text/html": [
       "<div>\n",
       "<style scoped>\n",
       "    .dataframe tbody tr th:only-of-type {\n",
       "        vertical-align: middle;\n",
       "    }\n",
       "\n",
       "    .dataframe tbody tr th {\n",
       "        vertical-align: top;\n",
       "    }\n",
       "\n",
       "    .dataframe thead th {\n",
       "        text-align: right;\n",
       "    }\n",
       "</style>\n",
       "<table border=\"1\" class=\"dataframe\">\n",
       "  <thead>\n",
       "    <tr style=\"text-align: right;\">\n",
       "      <th></th>\n",
       "      <th>Entity</th>\n",
       "      <th>Code</th>\n",
       "      <th>Year</th>\n",
       "      <th>Prevalence - Alcohol and substance use disorders: Both (age-standardized percent) (%)</th>\n",
       "    </tr>\n",
       "  </thead>\n",
       "  <tbody>\n",
       "    <tr>\n",
       "      <th>0</th>\n",
       "      <td>Afghanistan</td>\n",
       "      <td>AFG</td>\n",
       "      <td>1990</td>\n",
       "      <td>1.530549</td>\n",
       "    </tr>\n",
       "    <tr>\n",
       "      <th>1</th>\n",
       "      <td>Afghanistan</td>\n",
       "      <td>AFG</td>\n",
       "      <td>1991</td>\n",
       "      <td>1.530105</td>\n",
       "    </tr>\n",
       "    <tr>\n",
       "      <th>2</th>\n",
       "      <td>Afghanistan</td>\n",
       "      <td>AFG</td>\n",
       "      <td>1992</td>\n",
       "      <td>1.529283</td>\n",
       "    </tr>\n",
       "    <tr>\n",
       "      <th>3</th>\n",
       "      <td>Afghanistan</td>\n",
       "      <td>AFG</td>\n",
       "      <td>1993</td>\n",
       "      <td>1.530944</td>\n",
       "    </tr>\n",
       "    <tr>\n",
       "      <th>4</th>\n",
       "      <td>Afghanistan</td>\n",
       "      <td>AFG</td>\n",
       "      <td>1994</td>\n",
       "      <td>1.532076</td>\n",
       "    </tr>\n",
       "  </tbody>\n",
       "</table>\n",
       "</div>"
      ],
      "text/plain": [
       "        Entity Code  Year  \\\n",
       "0  Afghanistan  AFG  1990   \n",
       "1  Afghanistan  AFG  1991   \n",
       "2  Afghanistan  AFG  1992   \n",
       "3  Afghanistan  AFG  1993   \n",
       "4  Afghanistan  AFG  1994   \n",
       "\n",
       "   Prevalence - Alcohol and substance use disorders: Both (age-standardized percent) (%)  \n",
       "0                                           1.530549                                      \n",
       "1                                           1.530105                                      \n",
       "2                                           1.529283                                      \n",
       "3                                           1.530944                                      \n",
       "4                                           1.532076                                      "
      ]
     },
     "execution_count": 63,
     "metadata": {},
     "output_type": "execute_result"
    }
   ],
   "source": [
    "alcohol=pd.read_csv(\"HEALTH/share-with-alcohol-and-substance-use-disorders 1990-2016.csv\")\n",
    "alcohol.head()"
   ]
  },
  {
   "cell_type": "code",
   "execution_count": 64,
   "id": "ff88ce87-563a-4b54-9af2-3c572f9051bc",
   "metadata": {},
   "outputs": [
    {
     "data": {
      "text/plain": [
       "Entity                                                                                     0\n",
       "Code                                                                                     108\n",
       "Year                                                                                       0\n",
       "Prevalence - Alcohol and substance use disorders: Both (age-standardized percent) (%)      0\n",
       "dtype: int64"
      ]
     },
     "execution_count": 64,
     "metadata": {},
     "output_type": "execute_result"
    }
   ],
   "source": [
    "alcohol.isna().idxmax()"
   ]
  },
  {
   "cell_type": "code",
   "execution_count": 65,
   "id": "a4a22d34-b370-4032-8394-690620aaf096",
   "metadata": {},
   "outputs": [
    {
     "data": {
      "text/html": [
       "<div>\n",
       "<style scoped>\n",
       "    .dataframe tbody tr th:only-of-type {\n",
       "        vertical-align: middle;\n",
       "    }\n",
       "\n",
       "    .dataframe tbody tr th {\n",
       "        vertical-align: top;\n",
       "    }\n",
       "\n",
       "    .dataframe thead th {\n",
       "        text-align: right;\n",
       "    }\n",
       "</style>\n",
       "<table border=\"1\" class=\"dataframe\">\n",
       "  <thead>\n",
       "    <tr style=\"text-align: right;\">\n",
       "      <th></th>\n",
       "      <th>Entity</th>\n",
       "      <th>Code</th>\n",
       "      <th>Year</th>\n",
       "      <th>Prevalence - Alcohol and substance use disorders: Both (age-standardized percent) (%)</th>\n",
       "    </tr>\n",
       "  </thead>\n",
       "  <tbody>\n",
       "    <tr>\n",
       "      <th>0</th>\n",
       "      <td>Afghanistan</td>\n",
       "      <td>AFG</td>\n",
       "      <td>1990</td>\n",
       "      <td>1.530549</td>\n",
       "    </tr>\n",
       "    <tr>\n",
       "      <th>1</th>\n",
       "      <td>Afghanistan</td>\n",
       "      <td>AFG</td>\n",
       "      <td>1991</td>\n",
       "      <td>1.530105</td>\n",
       "    </tr>\n",
       "    <tr>\n",
       "      <th>2</th>\n",
       "      <td>Afghanistan</td>\n",
       "      <td>AFG</td>\n",
       "      <td>1992</td>\n",
       "      <td>1.529283</td>\n",
       "    </tr>\n",
       "    <tr>\n",
       "      <th>3</th>\n",
       "      <td>Afghanistan</td>\n",
       "      <td>AFG</td>\n",
       "      <td>1993</td>\n",
       "      <td>1.530944</td>\n",
       "    </tr>\n",
       "    <tr>\n",
       "      <th>4</th>\n",
       "      <td>Afghanistan</td>\n",
       "      <td>AFG</td>\n",
       "      <td>1994</td>\n",
       "      <td>1.532076</td>\n",
       "    </tr>\n",
       "    <tr>\n",
       "      <th>...</th>\n",
       "      <td>...</td>\n",
       "      <td>...</td>\n",
       "      <td>...</td>\n",
       "      <td>...</td>\n",
       "    </tr>\n",
       "    <tr>\n",
       "      <th>6151</th>\n",
       "      <td>Zimbabwe</td>\n",
       "      <td>ZWE</td>\n",
       "      <td>2012</td>\n",
       "      <td>2.300518</td>\n",
       "    </tr>\n",
       "    <tr>\n",
       "      <th>6152</th>\n",
       "      <td>Zimbabwe</td>\n",
       "      <td>ZWE</td>\n",
       "      <td>2013</td>\n",
       "      <td>2.306298</td>\n",
       "    </tr>\n",
       "    <tr>\n",
       "      <th>6153</th>\n",
       "      <td>Zimbabwe</td>\n",
       "      <td>ZWE</td>\n",
       "      <td>2014</td>\n",
       "      <td>2.311257</td>\n",
       "    </tr>\n",
       "    <tr>\n",
       "      <th>6154</th>\n",
       "      <td>Zimbabwe</td>\n",
       "      <td>ZWE</td>\n",
       "      <td>2015</td>\n",
       "      <td>2.315047</td>\n",
       "    </tr>\n",
       "    <tr>\n",
       "      <th>6155</th>\n",
       "      <td>Zimbabwe</td>\n",
       "      <td>ZWE</td>\n",
       "      <td>2016</td>\n",
       "      <td>2.320384</td>\n",
       "    </tr>\n",
       "  </tbody>\n",
       "</table>\n",
       "<p>5292 rows × 4 columns</p>\n",
       "</div>"
      ],
      "text/plain": [
       "           Entity Code  Year  \\\n",
       "0     Afghanistan  AFG  1990   \n",
       "1     Afghanistan  AFG  1991   \n",
       "2     Afghanistan  AFG  1992   \n",
       "3     Afghanistan  AFG  1993   \n",
       "4     Afghanistan  AFG  1994   \n",
       "...           ...  ...   ...   \n",
       "6151     Zimbabwe  ZWE  2012   \n",
       "6152     Zimbabwe  ZWE  2013   \n",
       "6153     Zimbabwe  ZWE  2014   \n",
       "6154     Zimbabwe  ZWE  2015   \n",
       "6155     Zimbabwe  ZWE  2016   \n",
       "\n",
       "      Prevalence - Alcohol and substance use disorders: Both (age-standardized percent) (%)  \n",
       "0                                              1.530549                                      \n",
       "1                                              1.530105                                      \n",
       "2                                              1.529283                                      \n",
       "3                                              1.530944                                      \n",
       "4                                              1.532076                                      \n",
       "...                                                 ...                                      \n",
       "6151                                           2.300518                                      \n",
       "6152                                           2.306298                                      \n",
       "6153                                           2.311257                                      \n",
       "6154                                           2.315047                                      \n",
       "6155                                           2.320384                                      \n",
       "\n",
       "[5292 rows x 4 columns]"
      ]
     },
     "execution_count": 65,
     "metadata": {},
     "output_type": "execute_result"
    }
   ],
   "source": [
    "alcohol.dropna()"
   ]
  },
  {
   "cell_type": "code",
   "execution_count": 66,
   "id": "908ace0c-a818-4da7-8096-be23986bdb03",
   "metadata": {},
   "outputs": [],
   "source": [
    "#renaming the column name \n",
    "alcohol.rename(columns={\"Prevalence - Alcohol and substance use disorders: Both (age-standardized percent) (%)\": \"prevalence-alch_subst_dis(%)\"}, inplace=True)"
   ]
  },
  {
   "cell_type": "code",
   "execution_count": 67,
   "id": "d7bc97ee-0275-444e-baa7-e10e878ee1f0",
   "metadata": {},
   "outputs": [
    {
     "data": {
      "text/html": [
       "<div>\n",
       "<style scoped>\n",
       "    .dataframe tbody tr th:only-of-type {\n",
       "        vertical-align: middle;\n",
       "    }\n",
       "\n",
       "    .dataframe tbody tr th {\n",
       "        vertical-align: top;\n",
       "    }\n",
       "\n",
       "    .dataframe thead th {\n",
       "        text-align: right;\n",
       "    }\n",
       "</style>\n",
       "<table border=\"1\" class=\"dataframe\">\n",
       "  <thead>\n",
       "    <tr style=\"text-align: right;\">\n",
       "      <th></th>\n",
       "      <th>Entity</th>\n",
       "      <th>Code</th>\n",
       "      <th>Year</th>\n",
       "      <th>prevalence-alch_subst_dis(%)</th>\n",
       "    </tr>\n",
       "  </thead>\n",
       "  <tbody>\n",
       "    <tr>\n",
       "      <th>0</th>\n",
       "      <td>Afghanistan</td>\n",
       "      <td>AFG</td>\n",
       "      <td>1990</td>\n",
       "      <td>1.530549</td>\n",
       "    </tr>\n",
       "    <tr>\n",
       "      <th>1</th>\n",
       "      <td>Afghanistan</td>\n",
       "      <td>AFG</td>\n",
       "      <td>1991</td>\n",
       "      <td>1.530105</td>\n",
       "    </tr>\n",
       "    <tr>\n",
       "      <th>2</th>\n",
       "      <td>Afghanistan</td>\n",
       "      <td>AFG</td>\n",
       "      <td>1992</td>\n",
       "      <td>1.529283</td>\n",
       "    </tr>\n",
       "    <tr>\n",
       "      <th>3</th>\n",
       "      <td>Afghanistan</td>\n",
       "      <td>AFG</td>\n",
       "      <td>1993</td>\n",
       "      <td>1.530944</td>\n",
       "    </tr>\n",
       "    <tr>\n",
       "      <th>4</th>\n",
       "      <td>Afghanistan</td>\n",
       "      <td>AFG</td>\n",
       "      <td>1994</td>\n",
       "      <td>1.532076</td>\n",
       "    </tr>\n",
       "  </tbody>\n",
       "</table>\n",
       "</div>"
      ],
      "text/plain": [
       "        Entity Code  Year  prevalence-alch_subst_dis(%)\n",
       "0  Afghanistan  AFG  1990                      1.530549\n",
       "1  Afghanistan  AFG  1991                      1.530105\n",
       "2  Afghanistan  AFG  1992                      1.529283\n",
       "3  Afghanistan  AFG  1993                      1.530944\n",
       "4  Afghanistan  AFG  1994                      1.532076"
      ]
     },
     "execution_count": 67,
     "metadata": {},
     "output_type": "execute_result"
    }
   ],
   "source": [
    "alcohol.head()"
   ]
  },
  {
   "cell_type": "code",
   "execution_count": 68,
   "id": "0beb5188-c678-4f67-81eb-9d6f96c3ce03",
   "metadata": {},
   "outputs": [
    {
     "data": {
      "image/png": "[encoded data removed]",
      "text/plain": [
       "<Figure size 640x480 with 1 Axes>"
      ]
     },
     "metadata": {},
     "output_type": "display_data"
    }
   ],
   "source": [
    "#plotting of the alcohol and substance use disorders\n",
    "ALCOH = alcohol.groupby('Year')['prevalence-alch_subst_dis(%)'].sum().reset_index()\n",
    "\n",
    "plt.plot(ALCOH['Year'], ALCOH['prevalence-alch_subst_dis(%)'], marker='*', linestyle='-', color='green')\n",
    "plt.title('Alcohol and substance use disorders')\n",
    "plt.xlabel('Year')\n",
    "plt.ylabel('prevalence-alch_subst_dis')\n",
    "plt.grid(True)\n",
    "plt.show()"
   ]
  },
  {
   "cell_type": "code",
   "execution_count": 69,
   "id": "194efe7f-432b-45e9-aa54-f9cb8f009216",
   "metadata": {},
   "outputs": [],
   "source": [
    "#filling the missing values with mode\n",
    "for col in alcohol.select_dtypes(include='object').columns:\n",
    "    if alcohol[col].isnull().any():\n",
    "        mode_val = alcohol[col].mode()[0]\n",
    "        alcohol[col].fillna(mode_val, inplace=True)"
   ]
  },
  {
   "cell_type": "code",
   "execution_count": 70,
   "id": "1c7f66eb-1f17-4bdd-b308-1a5ff30b5b42",
   "metadata": {},
   "outputs": [
    {
     "data": {
      "text/plain": [
       "Entity                          0\n",
       "Code                            0\n",
       "Year                            0\n",
       "prevalence-alch_subst_dis(%)    0\n",
       "dtype: int64"
      ]
     },
     "execution_count": 70,
     "metadata": {},
     "output_type": "execute_result"
    }
   ],
   "source": [
    "alcohol.isna().idxmax()"
   ]
  },
  {
   "cell_type": "code",
   "execution_count": 71,
   "id": "bfca0a3a-8623-49e3-b97a-941f65d3e0c0",
   "metadata": {},
   "outputs": [
    {
     "data": {
      "text/plain": [
       "('Afghanistan', 'AFG', 1990, 1.530548943)"
      ]
     },
     "execution_count": 71,
     "metadata": {},
     "output_type": "execute_result"
    }
   ],
   "source": [
    "#country with the highest case occurence\n",
    "alcohol.value_counts().idxmax()"
   ]
  },
  {
   "cell_type": "code",
   "execution_count": 72,
   "id": "1a64c738-3783-402e-98f6-c36417668fc8",
   "metadata": {},
   "outputs": [
    {
     "data": {
      "text/html": [
       "<div>\n",
       "<style scoped>\n",
       "    .dataframe tbody tr th:only-of-type {\n",
       "        vertical-align: middle;\n",
       "    }\n",
       "\n",
       "    .dataframe tbody tr th {\n",
       "        vertical-align: top;\n",
       "    }\n",
       "\n",
       "    .dataframe thead th {\n",
       "        text-align: right;\n",
       "    }\n",
       "</style>\n",
       "<table border=\"1\" class=\"dataframe\">\n",
       "  <thead>\n",
       "    <tr style=\"text-align: right;\">\n",
       "      <th></th>\n",
       "      <th>Entity</th>\n",
       "      <th>Code</th>\n",
       "      <th>Year</th>\n",
       "      <th>prevalence-alch_subst_dis(%)</th>\n",
       "    </tr>\n",
       "  </thead>\n",
       "  <tbody>\n",
       "    <tr>\n",
       "      <th>0</th>\n",
       "      <td>Afghanistan</td>\n",
       "      <td>AFG</td>\n",
       "      <td>1990</td>\n",
       "      <td>1.530549</td>\n",
       "    </tr>\n",
       "    <tr>\n",
       "      <th>1</th>\n",
       "      <td>Afghanistan</td>\n",
       "      <td>AFG</td>\n",
       "      <td>1991</td>\n",
       "      <td>1.530105</td>\n",
       "    </tr>\n",
       "    <tr>\n",
       "      <th>2</th>\n",
       "      <td>Afghanistan</td>\n",
       "      <td>AFG</td>\n",
       "      <td>1992</td>\n",
       "      <td>1.529283</td>\n",
       "    </tr>\n",
       "    <tr>\n",
       "      <th>3</th>\n",
       "      <td>Afghanistan</td>\n",
       "      <td>AFG</td>\n",
       "      <td>1993</td>\n",
       "      <td>1.530944</td>\n",
       "    </tr>\n",
       "    <tr>\n",
       "      <th>4</th>\n",
       "      <td>Afghanistan</td>\n",
       "      <td>AFG</td>\n",
       "      <td>1994</td>\n",
       "      <td>1.532076</td>\n",
       "    </tr>\n",
       "  </tbody>\n",
       "</table>\n",
       "</div>"
      ],
      "text/plain": [
       "        Entity Code  Year  prevalence-alch_subst_dis(%)\n",
       "0  Afghanistan  AFG  1990                      1.530549\n",
       "1  Afghanistan  AFG  1991                      1.530105\n",
       "2  Afghanistan  AFG  1992                      1.529283\n",
       "3  Afghanistan  AFG  1993                      1.530944\n",
       "4  Afghanistan  AFG  1994                      1.532076"
      ]
     },
     "execution_count": 72,
     "metadata": {},
     "output_type": "execute_result"
    }
   ],
   "source": [
    "#displaying the data\n",
    "alcohol.head()"
   ]
  },
  {
   "cell_type": "code",
   "execution_count": 73,
   "id": "0fbc42ba-fb37-4e97-a6f9-26036d69f21e",
   "metadata": {},
   "outputs": [],
   "source": [
    "#mg_data=pd.merge(health,health2,on=\"Ye\n",
    "health2[\"Year\"] = health2[\"Year\"].astype(int)"
   ]
  },
  {
   "cell_type": "code",
   "execution_count": 83,
   "id": "10569e1f-f394-46e3-964c-6f78e321b5f5",
   "metadata": {},
   "outputs": [
    {
     "data": {
      "text/html": [
       "<div>\n",
       "<style scoped>\n",
       "    .dataframe tbody tr th:only-of-type {\n",
       "        vertical-align: middle;\n",
       "    }\n",
       "\n",
       "    .dataframe tbody tr th {\n",
       "        vertical-align: top;\n",
       "    }\n",
       "\n",
       "    .dataframe thead th {\n",
       "        text-align: right;\n",
       "    }\n",
       "</style>\n",
       "<table border=\"1\" class=\"dataframe\">\n",
       "  <thead>\n",
       "    <tr style=\"text-align: right;\">\n",
       "      <th></th>\n",
       "      <th>country</th>\n",
       "      <th>Year</th>\n",
       "      <th>Pr(30-70 NCD Mortality | All)</th>\n",
       "      <th>Pr(30-70 CVD/Cancer/Diabetes/CRD Death | Male)</th>\n",
       "      <th>Pr(30-70 CVD/Cancer/Diabetes/CRD Death | Female)</th>\n",
       "      <th>Entity</th>\n",
       "      <th>Code</th>\n",
       "      <th>Schizophrenia (%)</th>\n",
       "      <th>Bipolar disorder (%)</th>\n",
       "      <th>Eating disorders (%)</th>\n",
       "      <th>Anxiety disorders (%)</th>\n",
       "      <th>Drug use disorders (%)</th>\n",
       "      <th>Depression (%)</th>\n",
       "      <th>Alcohol use disorders (%)</th>\n",
       "    </tr>\n",
       "  </thead>\n",
       "  <tbody>\n",
       "    <tr>\n",
       "      <th>0</th>\n",
       "      <td>Afghanistan</td>\n",
       "      <td>2017</td>\n",
       "      <td>35.5</td>\n",
       "      <td>35.0</td>\n",
       "      <td>35.9</td>\n",
       "      <td>Afghanistan</td>\n",
       "      <td>AFG</td>\n",
       "      <td>0.166158</td>\n",
       "      <td>0.708089</td>\n",
       "      <td>0.107142</td>\n",
       "      <td>4.882481</td>\n",
       "      <td>2.473934</td>\n",
       "      <td>4.136347</td>\n",
       "      <td>0.661217</td>\n",
       "    </tr>\n",
       "    <tr>\n",
       "      <th>1</th>\n",
       "      <td>Afghanistan</td>\n",
       "      <td>2017</td>\n",
       "      <td>35.5</td>\n",
       "      <td>35.0</td>\n",
       "      <td>35.9</td>\n",
       "      <td>Albania</td>\n",
       "      <td>ALB</td>\n",
       "      <td>0.201025</td>\n",
       "      <td>0.704480</td>\n",
       "      <td>0.174046</td>\n",
       "      <td>3.385245</td>\n",
       "      <td>0.517614</td>\n",
       "      <td>2.208414</td>\n",
       "      <td>1.837955</td>\n",
       "    </tr>\n",
       "    <tr>\n",
       "      <th>2</th>\n",
       "      <td>Afghanistan</td>\n",
       "      <td>2017</td>\n",
       "      <td>35.5</td>\n",
       "      <td>35.0</td>\n",
       "      <td>35.9</td>\n",
       "      <td>Algeria</td>\n",
       "      <td>DZA</td>\n",
       "      <td>0.197913</td>\n",
       "      <td>0.818687</td>\n",
       "      <td>0.213612</td>\n",
       "      <td>5.065876</td>\n",
       "      <td>1.717218</td>\n",
       "      <td>3.661094</td>\n",
       "      <td>0.665191</td>\n",
       "    </tr>\n",
       "    <tr>\n",
       "      <th>3</th>\n",
       "      <td>Afghanistan</td>\n",
       "      <td>2017</td>\n",
       "      <td>35.5</td>\n",
       "      <td>35.0</td>\n",
       "      <td>35.9</td>\n",
       "      <td>American Samoa</td>\n",
       "      <td>ASM</td>\n",
       "      <td>0.248557</td>\n",
       "      <td>0.468305</td>\n",
       "      <td>0.177808</td>\n",
       "      <td>3.315834</td>\n",
       "      <td>0.772801</td>\n",
       "      <td>2.939668</td>\n",
       "      <td>1.142277</td>\n",
       "    </tr>\n",
       "    <tr>\n",
       "      <th>4</th>\n",
       "      <td>Afghanistan</td>\n",
       "      <td>2017</td>\n",
       "      <td>35.5</td>\n",
       "      <td>35.0</td>\n",
       "      <td>35.9</td>\n",
       "      <td>Andorra</td>\n",
       "      <td>AND</td>\n",
       "      <td>0.263512</td>\n",
       "      <td>0.963331</td>\n",
       "      <td>0.644559</td>\n",
       "      <td>5.305375</td>\n",
       "      <td>0.910066</td>\n",
       "      <td>3.729532</td>\n",
       "      <td>1.256050</td>\n",
       "    </tr>\n",
       "  </tbody>\n",
       "</table>\n",
       "</div>"
      ],
      "text/plain": [
       "       country  Year  Pr(30-70 NCD Mortality | All)  \\\n",
       "0  Afghanistan  2017                           35.5   \n",
       "1  Afghanistan  2017                           35.5   \n",
       "2  Afghanistan  2017                           35.5   \n",
       "3  Afghanistan  2017                           35.5   \n",
       "4  Afghanistan  2017                           35.5   \n",
       "\n",
       "   Pr(30-70 CVD/Cancer/Diabetes/CRD Death | Male)  \\\n",
       "0                                            35.0   \n",
       "1                                            35.0   \n",
       "2                                            35.0   \n",
       "3                                            35.0   \n",
       "4                                            35.0   \n",
       "\n",
       "   Pr(30-70 CVD/Cancer/Diabetes/CRD Death | Female)          Entity Code  \\\n",
       "0                                              35.9     Afghanistan  AFG   \n",
       "1                                              35.9         Albania  ALB   \n",
       "2                                              35.9         Algeria  DZA   \n",
       "3                                              35.9  American Samoa  ASM   \n",
       "4                                              35.9         Andorra  AND   \n",
       "\n",
       "   Schizophrenia (%)  Bipolar disorder (%)  Eating disorders (%)  \\\n",
       "0           0.166158              0.708089              0.107142   \n",
       "1           0.201025              0.704480              0.174046   \n",
       "2           0.197913              0.818687              0.213612   \n",
       "3           0.248557              0.468305              0.177808   \n",
       "4           0.263512              0.963331              0.644559   \n",
       "\n",
       "   Anxiety disorders (%)  Drug use disorders (%)  Depression (%)  \\\n",
       "0               4.882481                2.473934        4.136347   \n",
       "1               3.385245                0.517614        2.208414   \n",
       "2               5.065876                1.717218        3.661094   \n",
       "3               3.315834                0.772801        2.939668   \n",
       "4               5.305375                0.910066        3.729532   \n",
       "\n",
       "   Alcohol use disorders (%)  \n",
       "0                   0.661217  \n",
       "1                   1.837955  \n",
       "2                   0.665191  \n",
       "3                   1.142277  \n",
       "4                   1.256050  "
      ]
     },
     "execution_count": 83,
     "metadata": {},
     "output_type": "execute_result"
    }
   ],
   "source": [
    "#combining the hEALTH DATA SETS FILES\n",
    "health_comb=pd.merge(health,health2,on=\"Year\")\n",
    "health_comb.rename(columns={\"countries\":\"country\"},inplace=True)\n",
    "health_comb.head()"
   ]
  },
  {
   "cell_type": "code",
   "execution_count": 85,
   "id": "7bfe85ea-7a25-49ff-bb1b-a69b0da03a05",
   "metadata": {},
   "outputs": [],
   "source": [
    "#extracting files\n",
    "health_comb.to_csv('health_comb.csv', index=False)"
   ]
  },
  {
   "cell_type": "code",
   "execution_count": 84,
   "id": "cfc4f0cb-6da0-46d5-9e3d-335ec4b718d0",
   "metadata": {},
   "outputs": [
    {
     "data": {
      "text/html": [
       "<div>\n",
       "<style scoped>\n",
       "    .dataframe tbody tr th:only-of-type {\n",
       "        vertical-align: middle;\n",
       "    }\n",
       "\n",
       "    .dataframe tbody tr th {\n",
       "        vertical-align: top;\n",
       "    }\n",
       "\n",
       "    .dataframe thead th {\n",
       "        text-align: right;\n",
       "    }\n",
       "</style>\n",
       "<table border=\"1\" class=\"dataframe\">\n",
       "  <thead>\n",
       "    <tr style=\"text-align: right;\">\n",
       "      <th></th>\n",
       "      <th>Indicator</th>\n",
       "      <th>continent</th>\n",
       "      <th>code</th>\n",
       "      <th>country</th>\n",
       "      <th>Year</th>\n",
       "      <th>sex</th>\n",
       "      <th>Suicide Rate</th>\n",
       "      <th>rate2019both</th>\n",
       "      <th>rate2019male</th>\n",
       "      <th>rate2019female</th>\n",
       "    </tr>\n",
       "  </thead>\n",
       "  <tbody>\n",
       "    <tr>\n",
       "      <th>0</th>\n",
       "      <td>Age-standardized suicide rates (per 100 000 po...</td>\n",
       "      <td>Americas</td>\n",
       "      <td>ATG</td>\n",
       "      <td>Antigua and Barbuda</td>\n",
       "      <td>2019</td>\n",
       "      <td>Male</td>\n",
       "      <td>0.00</td>\n",
       "      <td>0.4</td>\n",
       "      <td>0.0</td>\n",
       "      <td>0.8</td>\n",
       "    </tr>\n",
       "    <tr>\n",
       "      <th>1</th>\n",
       "      <td>Age-standardized suicide rates (per 100 000 po...</td>\n",
       "      <td>Americas</td>\n",
       "      <td>ATG</td>\n",
       "      <td>Antigua and Barbuda</td>\n",
       "      <td>2019</td>\n",
       "      <td>Both sexes</td>\n",
       "      <td>0.32</td>\n",
       "      <td>0.4</td>\n",
       "      <td>0.0</td>\n",
       "      <td>0.8</td>\n",
       "    </tr>\n",
       "    <tr>\n",
       "      <th>2</th>\n",
       "      <td>Age-standardized suicide rates (per 100 000 po...</td>\n",
       "      <td>Americas</td>\n",
       "      <td>ATG</td>\n",
       "      <td>Antigua and Barbuda</td>\n",
       "      <td>2019</td>\n",
       "      <td>Female</td>\n",
       "      <td>0.60</td>\n",
       "      <td>0.4</td>\n",
       "      <td>0.0</td>\n",
       "      <td>0.8</td>\n",
       "    </tr>\n",
       "    <tr>\n",
       "      <th>3</th>\n",
       "      <td>Age-standardized suicide rates (per 100 000 po...</td>\n",
       "      <td>Americas</td>\n",
       "      <td>ATG</td>\n",
       "      <td>Antigua and Barbuda</td>\n",
       "      <td>2018</td>\n",
       "      <td>Male</td>\n",
       "      <td>0.00</td>\n",
       "      <td>0.4</td>\n",
       "      <td>0.0</td>\n",
       "      <td>0.8</td>\n",
       "    </tr>\n",
       "    <tr>\n",
       "      <th>4</th>\n",
       "      <td>Age-standardized suicide rates (per 100 000 po...</td>\n",
       "      <td>Americas</td>\n",
       "      <td>ATG</td>\n",
       "      <td>Antigua and Barbuda</td>\n",
       "      <td>2018</td>\n",
       "      <td>Both sexes</td>\n",
       "      <td>0.32</td>\n",
       "      <td>0.4</td>\n",
       "      <td>0.0</td>\n",
       "      <td>0.8</td>\n",
       "    </tr>\n",
       "  </tbody>\n",
       "</table>\n",
       "</div>"
      ],
      "text/plain": [
       "                                           Indicator continent code  \\\n",
       "0  Age-standardized suicide rates (per 100 000 po...  Americas  ATG   \n",
       "1  Age-standardized suicide rates (per 100 000 po...  Americas  ATG   \n",
       "2  Age-standardized suicide rates (per 100 000 po...  Americas  ATG   \n",
       "3  Age-standardized suicide rates (per 100 000 po...  Americas  ATG   \n",
       "4  Age-standardized suicide rates (per 100 000 po...  Americas  ATG   \n",
       "\n",
       "               country  Year         sex  Suicide Rate  rate2019both  \\\n",
       "0  Antigua and Barbuda  2019        Male          0.00           0.4   \n",
       "1  Antigua and Barbuda  2019  Both sexes          0.32           0.4   \n",
       "2  Antigua and Barbuda  2019      Female          0.60           0.4   \n",
       "3  Antigua and Barbuda  2018        Male          0.00           0.4   \n",
       "4  Antigua and Barbuda  2018  Both sexes          0.32           0.4   \n",
       "\n",
       "   rate2019male  rate2019female  \n",
       "0           0.0             0.8  \n",
       "1           0.0             0.8  \n",
       "2           0.0             0.8  \n",
       "3           0.0             0.8  \n",
       "4           0.0             0.8  "
      ]
     },
     "execution_count": 84,
     "metadata": {},
     "output_type": "execute_result"
    }
   ],
   "source": [
    "#combining the suicidal cases files\n",
    "suicide_comb=pd.merge(suicide,suicide2,on=\"country\")\n",
    "suicide_comb.head()"
   ]
  },
  {
   "cell_type": "code",
   "execution_count": 86,
   "id": "f9a2a53a-fe55-4248-8518-73e7d139e026",
   "metadata": {},
   "outputs": [],
   "source": [
    "suicide_comb.to_csv('suicide_comb.csv', index=False)"
   ]
  },
  {
   "cell_type": "code",
   "execution_count": null,
   "id": "ea3c9b1c-d7f3-4b8a-8c68-675f15c65349",
   "metadata": {},
   "outputs": [],
   "source": []
  },
  {
   "cell_type": "code",
   "execution_count": null,
   "id": "0d60300c-9a28-4646-843e-d2119bf527f1",
   "metadata": {},
   "outputs": [],
   "source": []
  },
  {
   "cell_type": "code",
   "execution_count": 76,
   "id": "c637e2d8-3f28-42b8-8cd4-1620a0f8dbce",
   "metadata": {},
   "outputs": [
    {
     "data": {
      "text/html": [
       "<div>\n",
       "<style scoped>\n",
       "    .dataframe tbody tr th:only-of-type {\n",
       "        vertical-align: middle;\n",
       "    }\n",
       "\n",
       "    .dataframe tbody tr th {\n",
       "        vertical-align: top;\n",
       "    }\n",
       "\n",
       "    .dataframe thead th {\n",
       "        text-align: right;\n",
       "    }\n",
       "</style>\n",
       "<table border=\"1\" class=\"dataframe\">\n",
       "  <thead>\n",
       "    <tr style=\"text-align: right;\">\n",
       "      <th></th>\n",
       "      <th>continent</th>\n",
       "      <th>code</th>\n",
       "      <th>country</th>\n",
       "      <th>Year</th>\n",
       "      <th>road traffic death rate</th>\n",
       "      <th>Entity</th>\n",
       "      <th>Code</th>\n",
       "      <th>prevalence-alch_subst_dis(%)</th>\n",
       "    </tr>\n",
       "  </thead>\n",
       "  <tbody>\n",
       "    <tr>\n",
       "      <th>0</th>\n",
       "      <td>Americas</td>\n",
       "      <td>ATG</td>\n",
       "      <td>Antigua and Barbuda</td>\n",
       "      <td>2016</td>\n",
       "      <td>0.0</td>\n",
       "      <td>Afghanistan</td>\n",
       "      <td>AFG</td>\n",
       "      <td>1.809625</td>\n",
       "    </tr>\n",
       "    <tr>\n",
       "      <th>1</th>\n",
       "      <td>Americas</td>\n",
       "      <td>ATG</td>\n",
       "      <td>Antigua and Barbuda</td>\n",
       "      <td>2016</td>\n",
       "      <td>0.0</td>\n",
       "      <td>Albania</td>\n",
       "      <td>ALB</td>\n",
       "      <td>2.325538</td>\n",
       "    </tr>\n",
       "    <tr>\n",
       "      <th>2</th>\n",
       "      <td>Americas</td>\n",
       "      <td>ATG</td>\n",
       "      <td>Antigua and Barbuda</td>\n",
       "      <td>2016</td>\n",
       "      <td>0.0</td>\n",
       "      <td>Algeria</td>\n",
       "      <td>DZA</td>\n",
       "      <td>1.485915</td>\n",
       "    </tr>\n",
       "    <tr>\n",
       "      <th>3</th>\n",
       "      <td>Americas</td>\n",
       "      <td>ATG</td>\n",
       "      <td>Antigua and Barbuda</td>\n",
       "      <td>2016</td>\n",
       "      <td>0.0</td>\n",
       "      <td>American Samoa</td>\n",
       "      <td>ASM</td>\n",
       "      <td>1.622432</td>\n",
       "    </tr>\n",
       "    <tr>\n",
       "      <th>4</th>\n",
       "      <td>Americas</td>\n",
       "      <td>ATG</td>\n",
       "      <td>Antigua and Barbuda</td>\n",
       "      <td>2016</td>\n",
       "      <td>0.0</td>\n",
       "      <td>Andean Latin America</td>\n",
       "      <td>AFG</td>\n",
       "      <td>2.154291</td>\n",
       "    </tr>\n",
       "  </tbody>\n",
       "</table>\n",
       "</div>"
      ],
      "text/plain": [
       "  continent code              country  Year  road traffic death rate  \\\n",
       "0  Americas  ATG  Antigua and Barbuda  2016                      0.0   \n",
       "1  Americas  ATG  Antigua and Barbuda  2016                      0.0   \n",
       "2  Americas  ATG  Antigua and Barbuda  2016                      0.0   \n",
       "3  Americas  ATG  Antigua and Barbuda  2016                      0.0   \n",
       "4  Americas  ATG  Antigua and Barbuda  2016                      0.0   \n",
       "\n",
       "                 Entity Code  prevalence-alch_subst_dis(%)  \n",
       "0           Afghanistan  AFG                      1.809625  \n",
       "1               Albania  ALB                      2.325538  \n",
       "2               Algeria  DZA                      1.485915  \n",
       "3        American Samoa  ASM                      1.622432  \n",
       "4  Andean Latin America  AFG                      2.154291  "
      ]
     },
     "execution_count": 76,
     "metadata": {},
     "output_type": "execute_result"
    }
   ],
   "source": [
    "#combining road and alcohol file\n",
    "road_alcohol=pd.merge(road,alcohol,on=\"Year\")\n",
    "road_alcohol.head()\n"
   ]
  },
  {
   "cell_type": "code",
   "execution_count": 77,
   "id": "452182ef-452d-441f-a59a-457422a790bb",
   "metadata": {},
   "outputs": [],
   "source": [
    "#EXTRACTING FILES\n",
    "road_alcohol.to_csv('road_alcohol.csv', index=False)"
   ]
  },
  {
   "cell_type": "code",
   "execution_count": 78,
   "id": "0caddac3-4ee8-410f-9a9f-c865c264567e",
   "metadata": {},
   "outputs": [],
   "source": [
    "#big data\n",
    "#big_data=pd.merge([health_comb,road_alcohol,suicide_comb],on=\"country\")#\n",
    "#combined_df = pd.concat([health_comb, road_alcohol, suicide_comb], ignore_index=True)\n",
    "#combined_df.tail(50)"
   ]
  },
  {
   "cell_type": "code",
   "execution_count": 79,
   "id": "191056c2-95e6-4679-9f65-668a7aaae377",
   "metadata": {},
   "outputs": [
    {
     "data": {
      "text/html": [
       "<div>\n",
       "<style scoped>\n",
       "    .dataframe tbody tr th:only-of-type {\n",
       "        vertical-align: middle;\n",
       "    }\n",
       "\n",
       "    .dataframe tbody tr th {\n",
       "        vertical-align: top;\n",
       "    }\n",
       "\n",
       "    .dataframe thead th {\n",
       "        text-align: right;\n",
       "    }\n",
       "</style>\n",
       "<table border=\"1\" class=\"dataframe\">\n",
       "  <thead>\n",
       "    <tr style=\"text-align: right;\">\n",
       "      <th></th>\n",
       "      <th>countries</th>\n",
       "      <th>Year</th>\n",
       "      <th>Pr(30-70 NCD Mortality | All)</th>\n",
       "      <th>Pr(30-70 CVD/Cancer/Diabetes/CRD Death | Male)</th>\n",
       "      <th>Pr(30-70 CVD/Cancer/Diabetes/CRD Death | Female)</th>\n",
       "      <th>Entity</th>\n",
       "      <th>Code</th>\n",
       "      <th>prevalence-alch_subst_dis(%)</th>\n",
       "    </tr>\n",
       "  </thead>\n",
       "  <tbody>\n",
       "    <tr>\n",
       "      <th>0</th>\n",
       "      <td>Afghanistan</td>\n",
       "      <td>2016</td>\n",
       "      <td>35.6</td>\n",
       "      <td>35.1</td>\n",
       "      <td>36.0</td>\n",
       "      <td>Afghanistan</td>\n",
       "      <td>AFG</td>\n",
       "      <td>1.809625</td>\n",
       "    </tr>\n",
       "    <tr>\n",
       "      <th>1</th>\n",
       "      <td>Afghanistan</td>\n",
       "      <td>2016</td>\n",
       "      <td>35.6</td>\n",
       "      <td>35.1</td>\n",
       "      <td>36.0</td>\n",
       "      <td>Albania</td>\n",
       "      <td>ALB</td>\n",
       "      <td>2.325538</td>\n",
       "    </tr>\n",
       "    <tr>\n",
       "      <th>2</th>\n",
       "      <td>Afghanistan</td>\n",
       "      <td>2016</td>\n",
       "      <td>35.6</td>\n",
       "      <td>35.1</td>\n",
       "      <td>36.0</td>\n",
       "      <td>Algeria</td>\n",
       "      <td>DZA</td>\n",
       "      <td>1.485915</td>\n",
       "    </tr>\n",
       "    <tr>\n",
       "      <th>3</th>\n",
       "      <td>Afghanistan</td>\n",
       "      <td>2016</td>\n",
       "      <td>35.6</td>\n",
       "      <td>35.1</td>\n",
       "      <td>36.0</td>\n",
       "      <td>American Samoa</td>\n",
       "      <td>ASM</td>\n",
       "      <td>1.622432</td>\n",
       "    </tr>\n",
       "    <tr>\n",
       "      <th>4</th>\n",
       "      <td>Afghanistan</td>\n",
       "      <td>2016</td>\n",
       "      <td>35.6</td>\n",
       "      <td>35.1</td>\n",
       "      <td>36.0</td>\n",
       "      <td>Andean Latin America</td>\n",
       "      <td>AFG</td>\n",
       "      <td>2.154291</td>\n",
       "    </tr>\n",
       "  </tbody>\n",
       "</table>\n",
       "</div>"
      ],
      "text/plain": [
       "     countries  Year  Pr(30-70 NCD Mortality | All)  \\\n",
       "0  Afghanistan  2016                           35.6   \n",
       "1  Afghanistan  2016                           35.6   \n",
       "2  Afghanistan  2016                           35.6   \n",
       "3  Afghanistan  2016                           35.6   \n",
       "4  Afghanistan  2016                           35.6   \n",
       "\n",
       "   Pr(30-70 CVD/Cancer/Diabetes/CRD Death | Male)  \\\n",
       "0                                            35.1   \n",
       "1                                            35.1   \n",
       "2                                            35.1   \n",
       "3                                            35.1   \n",
       "4                                            35.1   \n",
       "\n",
       "   Pr(30-70 CVD/Cancer/Diabetes/CRD Death | Female)                Entity  \\\n",
       "0                                              36.0           Afghanistan   \n",
       "1                                              36.0               Albania   \n",
       "2                                              36.0               Algeria   \n",
       "3                                              36.0        American Samoa   \n",
       "4                                              36.0  Andean Latin America   \n",
       "\n",
       "  Code  prevalence-alch_subst_dis(%)  \n",
       "0  AFG                      1.809625  \n",
       "1  ALB                      2.325538  \n",
       "2  DZA                      1.485915  \n",
       "3  ASM                      1.622432  \n",
       "4  AFG                      2.154291  "
      ]
     },
     "execution_count": 79,
     "metadata": {},
     "output_type": "execute_result"
    }
   ],
   "source": [
    "#health and the alcohol consumption\n",
    "health_alco=pd.merge(health,alcohol,on=\"Year\")\n",
    "health_alco.head()"
   ]
  },
  {
   "cell_type": "code",
   "execution_count": 80,
   "id": "70445ddf-c099-4300-811e-6a6dbcd46a2a",
   "metadata": {},
   "outputs": [],
   "source": [
    "#rd_alc_helth=pd.merge(road_alcohol,health,on=\"Year\")\n",
    "#rd_alc_helth.head()"
   ]
  }
 ],
 "metadata": {
  "kernelspec": {
   "display_name": "Python 3 (ipykernel)",
   "language": "python",
   "name": "python3"
  },
  "language_info": {
   "codemirror_mode": {
    "name": "ipython",
    "version": 3
   },
   "file_extension": ".py",
   "mimetype": "text/x-python",
   "name": "python",
   "nbconvert_exporter": "python",
   "pygments_lexer": "ipython3",
   "version": "3.11.7"
  }
 },
 "nbformat": 4,
 "nbformat_minor": 5
}
