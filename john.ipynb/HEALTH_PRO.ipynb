{
 "cells": [
  {
   "cell_type": "markdown",
   "id": "1787d67d-628e-4ea6-b347-7bfd3e423a4c",
   "metadata": {},
   "source": [
    "<h2>HEALTH SECTOR PROJECT</h2>"
   ]
  },
  {
   "cell_type": "markdown",
   "id": "264195fb-f548-421c-8459-82e33b7ccc21",
   "metadata": {},
   "source": [
    "<h2>Analysis on the health sectors on the number of patiences highly affected on specific diseases</h2>"
   ]
  },
  {
   "cell_type": "markdown",
   "id": "38640bd8-1fe7-4fd8-9f4f-68a5155a0568",
   "metadata": {},
   "source": [
    "<h2><b>1.0-Business Understanding </b></h2>"
   ]
  },
  {
   "cell_type": "markdown",
   "id": "0a7af737-5551-4f46-928b-dd38eecba760",
   "metadata": {},
   "source": [
    "<h3>Identifying the number of patients mostly affected by a specific disease.<br> <br>The number of maternal mortalities and the kind of vaccines used on the patient. <br> <br>The age bracket is highly affected by a specific disease and there mortality rate.<br><br>The localities highly affected by a certain disease over a given period </h3>"
   ]
  },
  {
   "cell_type": "markdown",
   "id": "2940dd9a-6f12-4078-986d-861fa2e47c10",
   "metadata": {},
   "source": [
    "<h3><b>1.1 Project objectives</b></h3>"
   ]
  },
  {
   "cell_type": "markdown",
   "id": "11fffff3-4b39-49af-af17-e6573bd73393",
   "metadata": {},
   "source": [
    "<h4>Reduce malaria incidence by 30% in children under 5 in Region X through bed-net distribution and community awareness campaigns <br><br> Increase HIV testing coverage from 50% to 80% among high-risk populations in Urban Y by 2025 via mobile clinics and targeted outreach<br><br>\n",
    "</h4>"
   ]
  },
  {
   "cell_type": "markdown",
   "id": "1113c685-1856-47d3-8030-6d8e6318a9d3",
   "metadata": {},
   "source": [
    "<h2>2-Data Understanding</h2>"
   ]
  },
  {
   "cell_type": "markdown",
   "id": "101414ec-6503-48de-bcc2-54f14dc2aee7",
   "metadata": {},
   "source": [
    "<h3>2.1Python libraries Importation</h3>"
   ]
  },
  {
   "cell_type": "code",
   "execution_count": 1,
   "id": "795881fc-9d89-499b-91dd-633011ebd4c6",
   "metadata": {},
   "outputs": [],
   "source": [
    "#begin by importing necessary data\n",
    "import pandas as pd\n",
    "import numpy as np\n",
    "import matplotlib.pyplot as plt\n",
    "import seaborn as sns\n"
   ]
  },
  {
   "cell_type": "markdown",
   "id": "2d71bee8-d7be-4e6f-af27-f0141a14b70d",
   "metadata": {},
   "source": [
    "<h2>2.2 opening the file using pandas libriary</h2>"
   ]
  },
  {
   "cell_type": "code",
   "execution_count": 2,
   "id": "fc0a17ad-e6e6-4a5a-92b2-441aa60eded8",
   "metadata": {},
   "outputs": [],
   "source": [
    "health=pd.read_csv(\"data.csv\",encoding=\"latin-1\",low_memory=False)\n"
   ]
  },
  {
   "cell_type": "markdown",
   "id": "355fc1df-cb2d-4786-bd30-1e7d8b3da74c",
   "metadata": {},
   "source": [
    "<h2>2.3- open the first 5 elements</h2>"
   ]
  },
  {
   "cell_type": "code",
   "execution_count": 3,
   "id": "e8129343-a06a-4f6b-8fa2-43f51a5e1679",
   "metadata": {},
   "outputs": [
    {
     "data": {
      "text/html": [
       "<div>\n",
       "<style scoped>\n",
       "    .dataframe tbody tr th:only-of-type {\n",
       "        vertical-align: middle;\n",
       "    }\n",
       "\n",
       "    .dataframe tbody tr th {\n",
       "        vertical-align: top;\n",
       "    }\n",
       "\n",
       "    .dataframe thead th {\n",
       "        text-align: right;\n",
       "    }\n",
       "</style>\n",
       "<table border=\"1\" class=\"dataframe\">\n",
       "  <thead>\n",
       "    <tr style=\"text-align: right;\">\n",
       "      <th></th>\n",
       "      <th>countries</th>\n",
       "      <th>year</th>\n",
       "      <th>Probability (%) of dying between age 30 and exact age 70 from any of cardiovascular disease, cancer, diabetes, or chronic respiratory disease(both)</th>\n",
       "      <th>Probability (%) of dying between age 30 and exact age 70 from any of cardiovascular disease, cancer, diabetes, or chronic respiratory disease(male)</th>\n",
       "      <th>Probability (%) of dying between age 30 and exact age 70 from any of cardiovascular disease, cancer, diabetes, or chronic respiratory disease(female)</th>\n",
       "      <th>Unnamed: 5</th>\n",
       "      <th>Unnamed: 6</th>\n",
       "      <th>Unnamed: 7</th>\n",
       "    </tr>\n",
       "  </thead>\n",
       "  <tbody>\n",
       "    <tr>\n",
       "      <th>3651</th>\n",
       "      <td>Zimbabwe</td>\n",
       "      <td>2008.0</td>\n",
       "      <td>32.1</td>\n",
       "      <td>32.4</td>\n",
       "      <td>32.0</td>\n",
       "      <td>NaN</td>\n",
       "      <td>NaN</td>\n",
       "      <td>NaN</td>\n",
       "    </tr>\n",
       "    <tr>\n",
       "      <th>3652</th>\n",
       "      <td>Zimbabwe</td>\n",
       "      <td>2007.0</td>\n",
       "      <td>29.7</td>\n",
       "      <td>30.1</td>\n",
       "      <td>29.5</td>\n",
       "      <td>NaN</td>\n",
       "      <td>NaN</td>\n",
       "      <td>NaN</td>\n",
       "    </tr>\n",
       "    <tr>\n",
       "      <th>3653</th>\n",
       "      <td>Zimbabwe</td>\n",
       "      <td>2006.0</td>\n",
       "      <td>27.0</td>\n",
       "      <td>26.5</td>\n",
       "      <td>27.5</td>\n",
       "      <td>NaN</td>\n",
       "      <td>NaN</td>\n",
       "      <td>NaN</td>\n",
       "    </tr>\n",
       "    <tr>\n",
       "      <th>3654</th>\n",
       "      <td>Zimbabwe</td>\n",
       "      <td>2005.0</td>\n",
       "      <td>25.8</td>\n",
       "      <td>26.3</td>\n",
       "      <td>25.4</td>\n",
       "      <td>NaN</td>\n",
       "      <td>NaN</td>\n",
       "      <td>NaN</td>\n",
       "    </tr>\n",
       "    <tr>\n",
       "      <th>3655</th>\n",
       "      <td>Zimbabwe</td>\n",
       "      <td>2004.0</td>\n",
       "      <td>24.5</td>\n",
       "      <td>24.6</td>\n",
       "      <td>24.5</td>\n",
       "      <td>NaN</td>\n",
       "      <td>NaN</td>\n",
       "      <td>NaN</td>\n",
       "    </tr>\n",
       "    <tr>\n",
       "      <th>3656</th>\n",
       "      <td>Zimbabwe</td>\n",
       "      <td>2003.0</td>\n",
       "      <td>23.1</td>\n",
       "      <td>23.5</td>\n",
       "      <td>22.7</td>\n",
       "      <td>NaN</td>\n",
       "      <td>NaN</td>\n",
       "      <td>NaN</td>\n",
       "    </tr>\n",
       "    <tr>\n",
       "      <th>3657</th>\n",
       "      <td>Zimbabwe</td>\n",
       "      <td>2002.0</td>\n",
       "      <td>22.7</td>\n",
       "      <td>24.1</td>\n",
       "      <td>21.5</td>\n",
       "      <td>NaN</td>\n",
       "      <td>NaN</td>\n",
       "      <td>NaN</td>\n",
       "    </tr>\n",
       "    <tr>\n",
       "      <th>3658</th>\n",
       "      <td>Zimbabwe</td>\n",
       "      <td>2001.0</td>\n",
       "      <td>21.7</td>\n",
       "      <td>23.6</td>\n",
       "      <td>20.2</td>\n",
       "      <td>NaN</td>\n",
       "      <td>NaN</td>\n",
       "      <td>NaN</td>\n",
       "    </tr>\n",
       "    <tr>\n",
       "      <th>3659</th>\n",
       "      <td>Zimbabwe</td>\n",
       "      <td>2000.0</td>\n",
       "      <td>21.4</td>\n",
       "      <td>23.3</td>\n",
       "      <td>19.8</td>\n",
       "      <td>NaN</td>\n",
       "      <td>NaN</td>\n",
       "      <td>NaN</td>\n",
       "    </tr>\n",
       "    <tr>\n",
       "      <th>3660</th>\n",
       "      <td>NaN</td>\n",
       "      <td>NaN</td>\n",
       "      <td>NaN</td>\n",
       "      <td>NaN</td>\n",
       "      <td>NaN</td>\n",
       "      <td>NaN</td>\n",
       "      <td>NaN</td>\n",
       "      <td>NaN</td>\n",
       "    </tr>\n",
       "  </tbody>\n",
       "</table>\n",
       "</div>"
      ],
      "text/plain": [
       "     countries    year  \\\n",
       "3651  Zimbabwe  2008.0   \n",
       "3652  Zimbabwe  2007.0   \n",
       "3653  Zimbabwe  2006.0   \n",
       "3654  Zimbabwe  2005.0   \n",
       "3655  Zimbabwe  2004.0   \n",
       "3656  Zimbabwe  2003.0   \n",
       "3657  Zimbabwe  2002.0   \n",
       "3658  Zimbabwe  2001.0   \n",
       "3659  Zimbabwe  2000.0   \n",
       "3660       NaN     NaN   \n",
       "\n",
       "      Probability (%) of dying between age 30 and exact age 70 from any of cardiovascular disease, cancer, diabetes, or chronic respiratory disease(both)  \\\n",
       "3651                                               32.1                                                                                                     \n",
       "3652                                               29.7                                                                                                     \n",
       "3653                                               27.0                                                                                                     \n",
       "3654                                               25.8                                                                                                     \n",
       "3655                                               24.5                                                                                                     \n",
       "3656                                               23.1                                                                                                     \n",
       "3657                                               22.7                                                                                                     \n",
       "3658                                               21.7                                                                                                     \n",
       "3659                                               21.4                                                                                                     \n",
       "3660                                                NaN                                                                                                     \n",
       "\n",
       "      Probability (%) of dying between age 30 and exact age 70 from any of cardiovascular disease, cancer, diabetes, or chronic respiratory disease(male)  \\\n",
       "3651                                               32.4                                                                                                     \n",
       "3652                                               30.1                                                                                                     \n",
       "3653                                               26.5                                                                                                     \n",
       "3654                                               26.3                                                                                                     \n",
       "3655                                               24.6                                                                                                     \n",
       "3656                                               23.5                                                                                                     \n",
       "3657                                               24.1                                                                                                     \n",
       "3658                                               23.6                                                                                                     \n",
       "3659                                               23.3                                                                                                     \n",
       "3660                                                NaN                                                                                                     \n",
       "\n",
       "      Probability (%) of dying between age 30 and exact age 70 from any of cardiovascular disease, cancer, diabetes, or chronic respiratory disease(female)  \\\n",
       "3651                                               32.0                                                                                                       \n",
       "3652                                               29.5                                                                                                       \n",
       "3653                                               27.5                                                                                                       \n",
       "3654                                               25.4                                                                                                       \n",
       "3655                                               24.5                                                                                                       \n",
       "3656                                               22.7                                                                                                       \n",
       "3657                                               21.5                                                                                                       \n",
       "3658                                               20.2                                                                                                       \n",
       "3659                                               19.8                                                                                                       \n",
       "3660                                                NaN                                                                                                       \n",
       "\n",
       "      Unnamed: 5  Unnamed: 6  Unnamed: 7  \n",
       "3651         NaN         NaN         NaN  \n",
       "3652         NaN         NaN         NaN  \n",
       "3653         NaN         NaN         NaN  \n",
       "3654         NaN         NaN         NaN  \n",
       "3655         NaN         NaN         NaN  \n",
       "3656         NaN         NaN         NaN  \n",
       "3657         NaN         NaN         NaN  \n",
       "3658         NaN         NaN         NaN  \n",
       "3659         NaN         NaN         NaN  \n",
       "3660         NaN         NaN         NaN  "
      ]
     },
     "execution_count": 3,
     "metadata": {},
     "output_type": "execute_result"
    }
   ],
   "source": [
    "health.tail(10)"
   ]
  },
  {
   "cell_type": "markdown",
   "id": "60e3c45f-199f-4399-9e68-81e462db9441",
   "metadata": {},
   "source": [
    "<h3>2.4-check the data types</h3>"
   ]
  },
  {
   "cell_type": "code",
   "execution_count": 4,
   "id": "ac3806d2-27a8-45ca-90cc-4b73f0a9dff2",
   "metadata": {},
   "outputs": [
    {
     "name": "stdout",
     "output_type": "stream",
     "text": [
      "<class 'pandas.core.frame.DataFrame'>\n",
      "RangeIndex: 3661 entries, 0 to 3660\n",
      "Data columns (total 8 columns):\n",
      " #   Column                                                                                                                                                 Non-Null Count  Dtype  \n",
      "---  ------                                                                                                                                                 --------------  -----  \n",
      " 0   countries                                                                                                                                              3660 non-null   object \n",
      " 1   year                                                                                                                                                   3660 non-null   float64\n",
      " 2   Probability (%) of dying between age 30 and exact age 70 from any of cardiovascular disease, cancer, diabetes, or chronic respiratory disease(both)    3660 non-null   float64\n",
      " 3   Probability (%) of dying between age 30 and exact age 70 from any of cardiovascular disease, cancer, diabetes, or chronic respiratory disease(male)    3660 non-null   float64\n",
      " 4   Probability (%) of dying between age 30 and exact age 70 from any of cardiovascular disease, cancer, diabetes, or chronic respiratory disease(female)  3660 non-null   float64\n",
      " 5   Unnamed: 5                                                                                                                                             0 non-null      float64\n",
      " 6   Unnamed: 6                                                                                                                                             0 non-null      float64\n",
      " 7   Unnamed: 7                                                                                                                                             0 non-null      float64\n",
      "dtypes: float64(7), object(1)\n",
      "memory usage: 228.9+ KB\n"
     ]
    }
   ],
   "source": [
    "health.info()"
   ]
  },
  {
   "cell_type": "markdown",
   "id": "83295b49-49cc-492a-8bab-33ff7eb3f640",
   "metadata": {},
   "source": [
    "<h3>2.4-shape</h3>"
   ]
  },
  {
   "cell_type": "code",
   "execution_count": 5,
   "id": "9f70d41a-9dc6-4a01-a79a-a1f889111ab7",
   "metadata": {},
   "outputs": [
    {
     "data": {
      "text/plain": [
       "(3661, 8)"
      ]
     },
     "execution_count": 5,
     "metadata": {},
     "output_type": "execute_result"
    }
   ],
   "source": [
    "health.shape"
   ]
  },
  {
   "cell_type": "markdown",
   "id": "33a62ea4-0074-47f9-9987-babd8e9a24dd",
   "metadata": {},
   "source": [
    "<h3>2.5 renaming columns</h3>"
   ]
  },
  {
   "cell_type": "code",
   "execution_count": 6,
   "id": "773d5f9b-9392-42d5-95fc-9f64f3ae59fc",
   "metadata": {},
   "outputs": [],
   "source": [
    "#Use inplace=True if you want to modify the original DataFrame, or inplace=False\n",
    "health.rename(columns={\"Probability (%) of dying between age 30 and exact age 70 from any of cardiovascular disease, cancer, diabetes, or chronic respiratory disease(male)\":\"Pr(30-70 CVD/Cancer/Diabetes/CRD Death | Male)\",\"Probability (%) of dying between age 30 and exact age 70 from any of cardiovascular disease, cancer, diabetes, or chronic respiratory disease(both)\":\"Pr(30-70 NCD Mortality | All)\",\"Probability (%) of dying between age 30 and exact age 70 from any of cardiovascular disease, cancer, diabetes, or chronic respiratory disease(female)\":\"Pr(30-70 CVD/Cancer/Diabetes/CRD Death | Female)\"},inplace=True)\n"
   ]
  },
  {
   "cell_type": "markdown",
   "id": "1cf3d57a-a026-4e7b-a0a6-b8783fa8aecc",
   "metadata": {},
   "source": [
    "<h3>2.6 -dropping columns </h3>"
   ]
  },
  {
   "cell_type": "code",
   "execution_count": 7,
   "id": "9b1ac3b1-f59e-428e-90c8-3da8ab9f7232",
   "metadata": {},
   "outputs": [],
   "source": [
    "health.drop(columns=[\"Unnamed: 5\",\"Unnamed: 6\",\"Unnamed: 7\"],inplace=True)"
   ]
  },
  {
   "cell_type": "markdown",
   "id": "8d25527e-442c-4b7e-9a02-b7576e65c1de",
   "metadata": {},
   "source": [
    "<h3>2.7-Checking the Data information</h3>"
   ]
  },
  {
   "cell_type": "code",
   "execution_count": 8,
   "id": "48fe8bf1-334c-4cbf-b3aa-29d39bc8b956",
   "metadata": {},
   "outputs": [
    {
     "name": "stdout",
     "output_type": "stream",
     "text": [
      "<class 'pandas.core.frame.DataFrame'>\n",
      "RangeIndex: 3661 entries, 0 to 3660\n",
      "Data columns (total 5 columns):\n",
      " #   Column                                            Non-Null Count  Dtype  \n",
      "---  ------                                            --------------  -----  \n",
      " 0   countries                                         3660 non-null   object \n",
      " 1   year                                              3660 non-null   float64\n",
      " 2   Pr(30-70 NCD Mortality | All)                     3660 non-null   float64\n",
      " 3   Pr(30-70 CVD/Cancer/Diabetes/CRD Death | Male)    3660 non-null   float64\n",
      " 4   Pr(30-70 CVD/Cancer/Diabetes/CRD Death | Female)  3660 non-null   float64\n",
      "dtypes: float64(4), object(1)\n",
      "memory usage: 143.1+ KB\n"
     ]
    }
   ],
   "source": [
    "health.info()"
   ]
  },
  {
   "cell_type": "markdown",
   "id": "9141e7f8-35f2-41dd-a2ca-8d03b5c62130",
   "metadata": {},
   "source": [
    "<h3>2.8-working out the missing values in the Data set</h3>"
   ]
  },
  {
   "cell_type": "code",
   "execution_count": 9,
   "id": "34ca9586-3d4d-45c6-86cd-7be49c8619d5",
   "metadata": {},
   "outputs": [
    {
     "data": {
      "text/plain": [
       "countries                                           1\n",
       "year                                                1\n",
       "Pr(30-70 NCD Mortality | All)                       1\n",
       "Pr(30-70 CVD/Cancer/Diabetes/CRD Death | Male)      1\n",
       "Pr(30-70 CVD/Cancer/Diabetes/CRD Death | Female)    1\n",
       "dtype: int64"
      ]
     },
     "execution_count": 9,
     "metadata": {},
     "output_type": "execute_result"
    }
   ],
   "source": [
    "health.isnull().sum()"
   ]
  },
  {
   "cell_type": "markdown",
   "id": "3ffef58d-6e06-4ce0-904d-151dda215bad",
   "metadata": {},
   "source": [
    "<h3>2.9-Drop the empty row index</h3>"
   ]
  },
  {
   "cell_type": "code",
   "execution_count": 10,
   "id": "7fa8e3a2-3b11-4222-bf6c-50b4048432fb",
   "metadata": {},
   "outputs": [],
   "source": [
    "health.drop([3660],axis=0,inplace=True)"
   ]
  },
  {
   "cell_type": "code",
   "execution_count": 11,
   "id": "aa3924e8-84da-4048-b9a1-bf97297dd287",
   "metadata": {},
   "outputs": [
    {
     "data": {
      "text/html": [
       "<div>\n",
       "<style scoped>\n",
       "    .dataframe tbody tr th:only-of-type {\n",
       "        vertical-align: middle;\n",
       "    }\n",
       "\n",
       "    .dataframe tbody tr th {\n",
       "        vertical-align: top;\n",
       "    }\n",
       "\n",
       "    .dataframe thead th {\n",
       "        text-align: right;\n",
       "    }\n",
       "</style>\n",
       "<table border=\"1\" class=\"dataframe\">\n",
       "  <thead>\n",
       "    <tr style=\"text-align: right;\">\n",
       "      <th></th>\n",
       "      <th>countries</th>\n",
       "      <th>year</th>\n",
       "      <th>Pr(30-70 NCD Mortality | All)</th>\n",
       "      <th>Pr(30-70 CVD/Cancer/Diabetes/CRD Death | Male)</th>\n",
       "      <th>Pr(30-70 CVD/Cancer/Diabetes/CRD Death | Female)</th>\n",
       "    </tr>\n",
       "  </thead>\n",
       "  <tbody>\n",
       "    <tr>\n",
       "      <th>3655</th>\n",
       "      <td>Zimbabwe</td>\n",
       "      <td>2004.0</td>\n",
       "      <td>24.5</td>\n",
       "      <td>24.6</td>\n",
       "      <td>24.5</td>\n",
       "    </tr>\n",
       "    <tr>\n",
       "      <th>3656</th>\n",
       "      <td>Zimbabwe</td>\n",
       "      <td>2003.0</td>\n",
       "      <td>23.1</td>\n",
       "      <td>23.5</td>\n",
       "      <td>22.7</td>\n",
       "    </tr>\n",
       "    <tr>\n",
       "      <th>3657</th>\n",
       "      <td>Zimbabwe</td>\n",
       "      <td>2002.0</td>\n",
       "      <td>22.7</td>\n",
       "      <td>24.1</td>\n",
       "      <td>21.5</td>\n",
       "    </tr>\n",
       "    <tr>\n",
       "      <th>3658</th>\n",
       "      <td>Zimbabwe</td>\n",
       "      <td>2001.0</td>\n",
       "      <td>21.7</td>\n",
       "      <td>23.6</td>\n",
       "      <td>20.2</td>\n",
       "    </tr>\n",
       "    <tr>\n",
       "      <th>3659</th>\n",
       "      <td>Zimbabwe</td>\n",
       "      <td>2000.0</td>\n",
       "      <td>21.4</td>\n",
       "      <td>23.3</td>\n",
       "      <td>19.8</td>\n",
       "    </tr>\n",
       "  </tbody>\n",
       "</table>\n",
       "</div>"
      ],
      "text/plain": [
       "     countries    year  Pr(30-70 NCD Mortality | All)  \\\n",
       "3655  Zimbabwe  2004.0                           24.5   \n",
       "3656  Zimbabwe  2003.0                           23.1   \n",
       "3657  Zimbabwe  2002.0                           22.7   \n",
       "3658  Zimbabwe  2001.0                           21.7   \n",
       "3659  Zimbabwe  2000.0                           21.4   \n",
       "\n",
       "      Pr(30-70 CVD/Cancer/Diabetes/CRD Death | Male)  \\\n",
       "3655                                            24.6   \n",
       "3656                                            23.5   \n",
       "3657                                            24.1   \n",
       "3658                                            23.6   \n",
       "3659                                            23.3   \n",
       "\n",
       "      Pr(30-70 CVD/Cancer/Diabetes/CRD Death | Female)  \n",
       "3655                                              24.5  \n",
       "3656                                              22.7  \n",
       "3657                                              21.5  \n",
       "3658                                              20.2  \n",
       "3659                                              19.8  "
      ]
     },
     "execution_count": 11,
     "metadata": {},
     "output_type": "execute_result"
    }
   ],
   "source": [
    "health.tail()"
   ]
  },
  {
   "cell_type": "markdown",
   "id": "69164e9d-864d-428c-adf8-fee71b8abd2c",
   "metadata": {},
   "source": [
    "<h3>3.0-convert year to integer</h3>"
   ]
  },
  {
   "cell_type": "code",
   "execution_count": 12,
   "id": "6ed4fb4f-fc7d-43a9-96b1-cb36c924a669",
   "metadata": {},
   "outputs": [],
   "source": [
    "health[\"year\"]=health[\"year\"].astype(int)"
   ]
  },
  {
   "cell_type": "code",
   "execution_count": 13,
   "id": "5f2f5ce2-62b2-44bb-b97c-bdc9832b890f",
   "metadata": {},
   "outputs": [
    {
     "data": {
      "text/plain": [
       "0    2019\n",
       "1    2018\n",
       "2    2017\n",
       "3    2016\n",
       "4    2015\n",
       "Name: year, dtype: int32"
      ]
     },
     "execution_count": 13,
     "metadata": {},
     "output_type": "execute_result"
    }
   ],
   "source": [
    "health[\"year\"].head()"
   ]
  },
  {
   "cell_type": "code",
   "execution_count": 14,
   "id": "88cd01cd-4c44-4f8c-bd88-6f8183e8941a",
   "metadata": {},
   "outputs": [
    {
     "data": {
      "text/plain": [
       "countries                                           0\n",
       "year                                                0\n",
       "Pr(30-70 NCD Mortality | All)                       0\n",
       "Pr(30-70 CVD/Cancer/Diabetes/CRD Death | Male)      0\n",
       "Pr(30-70 CVD/Cancer/Diabetes/CRD Death | Female)    0\n",
       "dtype: int64"
      ]
     },
     "execution_count": 14,
     "metadata": {},
     "output_type": "execute_result"
    }
   ],
   "source": [
    "#checking out the missing values\n",
    "health.isna().sum()"
   ]
  },
  {
   "cell_type": "markdown",
   "id": "2157e600-9378-4f51-a1cf-bf5aa08baec9",
   "metadata": {},
   "source": [
    "<h3>3.1-Checking out the duplicates</h3>"
   ]
  },
  {
   "cell_type": "code",
   "execution_count": 15,
   "id": "69bb434c-acc5-4e0a-bd9d-fa78dea6ac40",
   "metadata": {},
   "outputs": [
    {
     "data": {
      "text/plain": [
       "False    3660\n",
       "Name: count, dtype: int64"
      ]
     },
     "execution_count": 15,
     "metadata": {},
     "output_type": "execute_result"
    }
   ],
   "source": [
    "health.duplicated().value_counts()"
   ]
  },
  {
   "cell_type": "markdown",
   "id": "b60137eb-5395-4bb8-a0d8-496894cd1a5d",
   "metadata": {},
   "source": [
    "<h3>3.2. aggregation</h3>"
   ]
  },
  {
   "cell_type": "code",
   "execution_count": 16,
   "id": "f2bba2b5-b3a2-49fa-98be-887d0187e3d5",
   "metadata": {},
   "outputs": [
    {
     "name": "stdout",
     "output_type": "stream",
     "text": [
      "mean         22.058415\n",
      "sum       80733.800000\n",
      "median       21.700000\n",
      "max          56.000000\n",
      "min           7.300000\n",
      "Name: Pr(30-70 NCD Mortality | All), dtype: float64\n"
     ]
    }
   ],
   "source": [
    "general_mortality=health[\"Pr(30-70 NCD Mortality | All)\"].agg([\"mean\",\"sum\",\"median\",\"max\",\"min\"])\n",
    "print(general_mortality)"
   ]
  },
  {
   "cell_type": "code",
   "execution_count": 17,
   "id": "f62d597e-dcbc-47eb-a33f-877e6abd6ab8",
   "metadata": {},
   "outputs": [
    {
     "data": {
      "text/html": [
       "<div>\n",
       "<style scoped>\n",
       "    .dataframe tbody tr th:only-of-type {\n",
       "        vertical-align: middle;\n",
       "    }\n",
       "\n",
       "    .dataframe tbody tr th {\n",
       "        vertical-align: top;\n",
       "    }\n",
       "\n",
       "    .dataframe thead th {\n",
       "        text-align: right;\n",
       "    }\n",
       "</style>\n",
       "<table border=\"1\" class=\"dataframe\">\n",
       "  <thead>\n",
       "    <tr style=\"text-align: right;\">\n",
       "      <th></th>\n",
       "      <th>countries</th>\n",
       "      <th>year</th>\n",
       "      <th>Pr(30-70 CVD/Cancer/Diabetes/CRD Death | Male)</th>\n",
       "      <th>Pr(30-70 CVD/Cancer/Diabetes/CRD Death | Female)</th>\n",
       "    </tr>\n",
       "    <tr>\n",
       "      <th>Pr(30-70 NCD Mortality | All)</th>\n",
       "      <th></th>\n",
       "      <th></th>\n",
       "      <th></th>\n",
       "      <th></th>\n",
       "    </tr>\n",
       "  </thead>\n",
       "  <tbody>\n",
       "    <tr>\n",
       "      <th>7.3</th>\n",
       "      <td>Republic of Korea</td>\n",
       "      <td>2019</td>\n",
       "      <td>10.1</td>\n",
       "      <td>4.4</td>\n",
       "    </tr>\n",
       "    <tr>\n",
       "      <th>7.5</th>\n",
       "      <td>Republic of Korea</td>\n",
       "      <td>2018</td>\n",
       "      <td>10.5</td>\n",
       "      <td>4.6</td>\n",
       "    </tr>\n",
       "    <tr>\n",
       "      <th>7.8</th>\n",
       "      <td>Republic of Korea</td>\n",
       "      <td>2017</td>\n",
       "      <td>10.9</td>\n",
       "      <td>4.7</td>\n",
       "    </tr>\n",
       "    <tr>\n",
       "      <th>7.9</th>\n",
       "      <td>Switzerland</td>\n",
       "      <td>2019</td>\n",
       "      <td>9.6</td>\n",
       "      <td>6.1</td>\n",
       "    </tr>\n",
       "    <tr>\n",
       "      <th>8.1</th>\n",
       "      <td>Switzerland</td>\n",
       "      <td>2018</td>\n",
       "      <td>9.9</td>\n",
       "      <td>6.3</td>\n",
       "    </tr>\n",
       "  </tbody>\n",
       "</table>\n",
       "</div>"
      ],
      "text/plain": [
       "                                       countries  year  \\\n",
       "Pr(30-70 NCD Mortality | All)                            \n",
       "7.3                            Republic of Korea  2019   \n",
       "7.5                            Republic of Korea  2018   \n",
       "7.8                            Republic of Korea  2017   \n",
       "7.9                                  Switzerland  2019   \n",
       "8.1                                  Switzerland  2018   \n",
       "\n",
       "                               Pr(30-70 CVD/Cancer/Diabetes/CRD Death | Male)  \\\n",
       "Pr(30-70 NCD Mortality | All)                                                   \n",
       "7.3                                                                      10.1   \n",
       "7.5                                                                      10.5   \n",
       "7.8                                                                      10.9   \n",
       "7.9                                                                       9.6   \n",
       "8.1                                                                       9.9   \n",
       "\n",
       "                               Pr(30-70 CVD/Cancer/Diabetes/CRD Death | Female)  \n",
       "Pr(30-70 NCD Mortality | All)                                                    \n",
       "7.3                                                                         4.4  \n",
       "7.5                                                                         4.6  \n",
       "7.8                                                                         4.7  \n",
       "7.9                                                                         6.1  \n",
       "8.1                                                                         6.3  "
      ]
     },
     "execution_count": 17,
     "metadata": {},
     "output_type": "execute_result"
    }
   ],
   "source": [
    "health.groupby(\"Pr(30-70 NCD Mortality | All)\").sum().head()"
   ]
  },
  {
   "cell_type": "markdown",
   "id": "4a7e5595-8500-49a5-9255-0d0adecec0ce",
   "metadata": {},
   "source": [
    "<H3>Correlations</H3>"
   ]
  },
  {
   "cell_type": "code",
   "execution_count": 18,
   "id": "d4b3fc0d-b9a8-4957-9aca-ae00614f03d7",
   "metadata": {},
   "outputs": [
    {
     "data": {
      "image/png": "[encoded data removed]",
      "text/plain": [
       "<Figure size 640x480 with 1 Axes>"
      ]
     },
     "metadata": {},
     "output_type": "display_data"
    }
   ],
   "source": [
    "sns.boxplot(x='Pr(30-70 CVD/Cancer/Diabetes/CRD Death | Male)', y='Pr(30-70 CVD/Cancer/Diabetes/CRD Death | Female)', data=health)\n",
    "plt.title(\"correlationship\")\n",
    "plt.xticks(rotation=45)\n",
    "plt.show()"
   ]
  },
  {
   "cell_type": "markdown",
   "id": "2b4cc7b4-2ac6-4883-ac25-6b72070be87c",
   "metadata": {},
   "source": [
    "<h3>bar graph</h3>"
   ]
  },
  {
   "cell_type": "code",
   "execution_count": 19,
   "id": "613a2311-1698-42dc-a728-152dcd980590",
   "metadata": {},
   "outputs": [
    {
     "data": {
      "image/png": "[encoded data removed]",
      "text/plain": [
       "<Figure size 640x480 with 1 Axes>"
      ]
     },
     "metadata": {},
     "output_type": "display_data"
    }
   ],
   "source": [
    "plt.bar(health[\"year\"],health[\"Pr(30-70 CVD/Cancer/Diabetes/CRD Death | Male)\"])\n",
    "plt.title(\" male mortality per year\")\n",
    "plt.xlabel(\"year\")\n",
    "plt.ylabel(\"male\")\n",
    "plt.show()"
   ]
  },
  {
   "cell_type": "markdown",
   "id": "838082ef-fc6b-45ce-a8a7-bf1c42a3c816",
   "metadata": {},
   "source": [
    "<h3>female bar graph motality rate</h3>"
   ]
  },
  {
   "cell_type": "code",
   "execution_count": 20,
   "id": "62b2118b-e3f6-4f2f-b711-c9234e96b99e",
   "metadata": {},
   "outputs": [
    {
     "data": {
      "image/png": "[encoded data removed]",
      "text/plain": [
       "<Figure size 640x480 with 1 Axes>"
      ]
     },
     "metadata": {},
     "output_type": "display_data"
    }
   ],
   "source": [
    "plt.bar(health[\"year\"],health[\"Pr(30-70 CVD/Cancer/Diabetes/CRD Death | Female)\"])\n",
    "plt.title(\" female mortality per year\")\n",
    "plt.xlabel(\"year\")\n",
    "plt.ylabel(\"female\")\n",
    "plt.show()"
   ]
  },
  {
   "cell_type": "markdown",
   "id": "9fb9d49a-7cd3-4881-8e54-a02028f1290b",
   "metadata": {},
   "source": [
    "<h3>yearly Mortality</h3>"
   ]
  },
  {
   "cell_type": "code",
   "execution_count": 21,
   "id": "c94b9a9f-2fb1-40ad-98ec-fe7077b6a063",
   "metadata": {},
   "outputs": [
    {
     "data": {
      "image/png": "[encoded data removed]",
      "text/plain": [
       "<Figure size 640x480 with 1 Axes>"
      ]
     },
     "metadata": {},
     "output_type": "display_data"
    }
   ],
   "source": [
    "plt.bar(health[\"year\"],health[\"Pr(30-70 NCD Mortality | All)\"])\n",
    "plt.title(\" both mortality per year\")\n",
    "plt.xlabel(\"year\")\n",
    "plt.ylabel(\"male & female\")\n",
    "plt.show()"
   ]
  },
  {
   "cell_type": "markdown",
   "id": "edc7e3e1-2f46-4022-8301-aca8af34ed5b",
   "metadata": {},
   "source": [
    "<h2><b>2.0 Mental health Depression disorder Data Analysis</b></h2>"
   ]
  },
  {
   "cell_type": "code",
   "execution_count": 22,
   "id": "2b6544ae-bde2-42f4-84ea-7cb6850d4f02",
   "metadata": {},
   "outputs": [
    {
     "data": {
      "text/html": [
       "<div>\n",
       "<style scoped>\n",
       "    .dataframe tbody tr th:only-of-type {\n",
       "        vertical-align: middle;\n",
       "    }\n",
       "\n",
       "    .dataframe tbody tr th {\n",
       "        vertical-align: top;\n",
       "    }\n",
       "\n",
       "    .dataframe thead th {\n",
       "        text-align: right;\n",
       "    }\n",
       "</style>\n",
       "<table border=\"1\" class=\"dataframe\">\n",
       "  <thead>\n",
       "    <tr style=\"text-align: right;\">\n",
       "      <th></th>\n",
       "      <th>Entity</th>\n",
       "      <th>Code</th>\n",
       "      <th>Year</th>\n",
       "      <th>Schizophrenia (%)</th>\n",
       "      <th>Bipolar disorder (%)</th>\n",
       "      <th>Eating disorders (%)</th>\n",
       "      <th>Anxiety disorders (%)</th>\n",
       "      <th>Drug use disorders (%)</th>\n",
       "      <th>Depression (%)</th>\n",
       "      <th>Alcohol use disorders (%)</th>\n",
       "    </tr>\n",
       "    <tr>\n",
       "      <th>index</th>\n",
       "      <th></th>\n",
       "      <th></th>\n",
       "      <th></th>\n",
       "      <th></th>\n",
       "      <th></th>\n",
       "      <th></th>\n",
       "      <th></th>\n",
       "      <th></th>\n",
       "      <th></th>\n",
       "      <th></th>\n",
       "    </tr>\n",
       "  </thead>\n",
       "  <tbody>\n",
       "    <tr>\n",
       "      <th>108453</th>\n",
       "      <td>World</td>\n",
       "      <td>OWID_WRL</td>\n",
       "      <td>2002</td>\n",
       "      <td>210523437.941000</td>\n",
       "      <td>NaN</td>\n",
       "      <td>NaN</td>\n",
       "      <td>NaN</td>\n",
       "      <td>NaN</td>\n",
       "      <td>NaN</td>\n",
       "      <td>NaN</td>\n",
       "    </tr>\n",
       "    <tr>\n",
       "      <th>108454</th>\n",
       "      <td>World</td>\n",
       "      <td>OWID_WRL</td>\n",
       "      <td>2003</td>\n",
       "      <td>214411150.750000</td>\n",
       "      <td>NaN</td>\n",
       "      <td>NaN</td>\n",
       "      <td>NaN</td>\n",
       "      <td>NaN</td>\n",
       "      <td>NaN</td>\n",
       "      <td>NaN</td>\n",
       "    </tr>\n",
       "    <tr>\n",
       "      <th>108455</th>\n",
       "      <td>World</td>\n",
       "      <td>OWID_WRL</td>\n",
       "      <td>2004</td>\n",
       "      <td>218331898.579000</td>\n",
       "      <td>NaN</td>\n",
       "      <td>NaN</td>\n",
       "      <td>NaN</td>\n",
       "      <td>NaN</td>\n",
       "      <td>NaN</td>\n",
       "      <td>NaN</td>\n",
       "    </tr>\n",
       "    <tr>\n",
       "      <th>108456</th>\n",
       "      <td>World</td>\n",
       "      <td>OWID_WRL</td>\n",
       "      <td>2005</td>\n",
       "      <td>222225346.699000</td>\n",
       "      <td>NaN</td>\n",
       "      <td>NaN</td>\n",
       "      <td>NaN</td>\n",
       "      <td>NaN</td>\n",
       "      <td>NaN</td>\n",
       "      <td>NaN</td>\n",
       "    </tr>\n",
       "    <tr>\n",
       "      <th>108457</th>\n",
       "      <td>World</td>\n",
       "      <td>OWID_WRL</td>\n",
       "      <td>2006</td>\n",
       "      <td>225596848.087000</td>\n",
       "      <td>NaN</td>\n",
       "      <td>NaN</td>\n",
       "      <td>NaN</td>\n",
       "      <td>NaN</td>\n",
       "      <td>NaN</td>\n",
       "      <td>NaN</td>\n",
       "    </tr>\n",
       "    <tr>\n",
       "      <th>...</th>\n",
       "      <td>...</td>\n",
       "      <td>...</td>\n",
       "      <td>...</td>\n",
       "      <td>...</td>\n",
       "      <td>...</td>\n",
       "      <td>...</td>\n",
       "      <td>...</td>\n",
       "      <td>...</td>\n",
       "      <td>...</td>\n",
       "      <td>...</td>\n",
       "    </tr>\n",
       "    <tr>\n",
       "      <th>108548</th>\n",
       "      <td>Zimbabwe</td>\n",
       "      <td>ZWE</td>\n",
       "      <td>2013</td>\n",
       "      <td>303564.60359</td>\n",
       "      <td>NaN</td>\n",
       "      <td>NaN</td>\n",
       "      <td>NaN</td>\n",
       "      <td>NaN</td>\n",
       "      <td>NaN</td>\n",
       "      <td>NaN</td>\n",
       "    </tr>\n",
       "    <tr>\n",
       "      <th>108549</th>\n",
       "      <td>Zimbabwe</td>\n",
       "      <td>ZWE</td>\n",
       "      <td>2014</td>\n",
       "      <td>311665.769283</td>\n",
       "      <td>NaN</td>\n",
       "      <td>NaN</td>\n",
       "      <td>NaN</td>\n",
       "      <td>NaN</td>\n",
       "      <td>NaN</td>\n",
       "      <td>NaN</td>\n",
       "    </tr>\n",
       "    <tr>\n",
       "      <th>108550</th>\n",
       "      <td>Zimbabwe</td>\n",
       "      <td>ZWE</td>\n",
       "      <td>2015</td>\n",
       "      <td>320638.507158</td>\n",
       "      <td>NaN</td>\n",
       "      <td>NaN</td>\n",
       "      <td>NaN</td>\n",
       "      <td>NaN</td>\n",
       "      <td>NaN</td>\n",
       "      <td>NaN</td>\n",
       "    </tr>\n",
       "    <tr>\n",
       "      <th>108551</th>\n",
       "      <td>Zimbabwe</td>\n",
       "      <td>ZWE</td>\n",
       "      <td>2016</td>\n",
       "      <td>330437.353798</td>\n",
       "      <td>NaN</td>\n",
       "      <td>NaN</td>\n",
       "      <td>NaN</td>\n",
       "      <td>NaN</td>\n",
       "      <td>NaN</td>\n",
       "      <td>NaN</td>\n",
       "    </tr>\n",
       "    <tr>\n",
       "      <th>108552</th>\n",
       "      <td>Zimbabwe</td>\n",
       "      <td>ZWE</td>\n",
       "      <td>2017</td>\n",
       "      <td>340583.157405</td>\n",
       "      <td>NaN</td>\n",
       "      <td>NaN</td>\n",
       "      <td>NaN</td>\n",
       "      <td>NaN</td>\n",
       "      <td>NaN</td>\n",
       "      <td>NaN</td>\n",
       "    </tr>\n",
       "  </tbody>\n",
       "</table>\n",
       "<p>100 rows × 10 columns</p>\n",
       "</div>"
      ],
      "text/plain": [
       "          Entity      Code  Year Schizophrenia (%) Bipolar disorder (%)  \\\n",
       "index                                                                     \n",
       "108453     World  OWID_WRL  2002  210523437.941000                  NaN   \n",
       "108454     World  OWID_WRL  2003  214411150.750000                  NaN   \n",
       "108455     World  OWID_WRL  2004  218331898.579000                  NaN   \n",
       "108456     World  OWID_WRL  2005  222225346.699000                  NaN   \n",
       "108457     World  OWID_WRL  2006  225596848.087000                  NaN   \n",
       "...          ...       ...   ...               ...                  ...   \n",
       "108548  Zimbabwe       ZWE  2013      303564.60359                  NaN   \n",
       "108549  Zimbabwe       ZWE  2014     311665.769283                  NaN   \n",
       "108550  Zimbabwe       ZWE  2015     320638.507158                  NaN   \n",
       "108551  Zimbabwe       ZWE  2016     330437.353798                  NaN   \n",
       "108552  Zimbabwe       ZWE  2017     340583.157405                  NaN   \n",
       "\n",
       "       Eating disorders (%)  Anxiety disorders (%)  Drug use disorders (%)  \\\n",
       "index                                                                        \n",
       "108453                  NaN                    NaN                     NaN   \n",
       "108454                  NaN                    NaN                     NaN   \n",
       "108455                  NaN                    NaN                     NaN   \n",
       "108456                  NaN                    NaN                     NaN   \n",
       "108457                  NaN                    NaN                     NaN   \n",
       "...                     ...                    ...                     ...   \n",
       "108548                  NaN                    NaN                     NaN   \n",
       "108549                  NaN                    NaN                     NaN   \n",
       "108550                  NaN                    NaN                     NaN   \n",
       "108551                  NaN                    NaN                     NaN   \n",
       "108552                  NaN                    NaN                     NaN   \n",
       "\n",
       "        Depression (%)  Alcohol use disorders (%)  \n",
       "index                                              \n",
       "108453             NaN                        NaN  \n",
       "108454             NaN                        NaN  \n",
       "108455             NaN                        NaN  \n",
       "108456             NaN                        NaN  \n",
       "108457             NaN                        NaN  \n",
       "...                ...                        ...  \n",
       "108548             NaN                        NaN  \n",
       "108549             NaN                        NaN  \n",
       "108550             NaN                        NaN  \n",
       "108551             NaN                        NaN  \n",
       "108552             NaN                        NaN  \n",
       "\n",
       "[100 rows x 10 columns]"
      ]
     },
     "execution_count": 22,
     "metadata": {},
     "output_type": "execute_result"
    }
   ],
   "source": [
    "health2=pd.read_csv(\"HEALTH/Mental health Depression disorder Data.csv\",encoding=\"latin-1\",low_memory=False,index_col=0)\n",
    "health2.tail(100)"
   ]
  },
  {
   "cell_type": "markdown",
   "id": "0118562c-933c-4035-a9d6-08eda3d7b7db",
   "metadata": {},
   "source": [
    "<h2>2.1. Checking the data types</h2>"
   ]
  },
  {
   "cell_type": "code",
   "execution_count": 23,
   "id": "e755eaf3-2ede-4676-9840-abcfe467280d",
   "metadata": {},
   "outputs": [
    {
     "name": "stdout",
     "output_type": "stream",
     "text": [
      "<class 'pandas.core.frame.DataFrame'>\n",
      "Index: 108553 entries, 0 to 108552\n",
      "Data columns (total 10 columns):\n",
      " #   Column                     Non-Null Count   Dtype  \n",
      "---  ------                     --------------   -----  \n",
      " 0   Entity                     108553 non-null  object \n",
      " 1   Code                       103141 non-null  object \n",
      " 2   Year                       108553 non-null  object \n",
      " 3   Schizophrenia (%)          25875 non-null   object \n",
      " 4   Bipolar disorder (%)       19406 non-null   object \n",
      " 5   Eating disorders (%)       100236 non-null  object \n",
      " 6   Anxiety disorders (%)      6468 non-null    float64\n",
      " 7   Drug use disorders (%)     6468 non-null    float64\n",
      " 8   Depression (%)             6468 non-null    float64\n",
      " 9   Alcohol use disorders (%)  6468 non-null    float64\n",
      "dtypes: float64(4), object(6)\n",
      "memory usage: 9.1+ MB\n"
     ]
    }
   ],
   "source": [
    "health2.info()"
   ]
  },
  {
   "cell_type": "markdown",
   "id": "cf7d6a55-d989-4bd0-a97a-1100c54af6ad",
   "metadata": {},
   "source": [
    "<h2>2.2Checking at the null values in the data set</h2>"
   ]
  },
  {
   "cell_type": "code",
   "execution_count": 24,
   "id": "f66c3d3d-3761-458a-bbc4-c1f1d98b54b0",
   "metadata": {},
   "outputs": [
    {
     "data": {
      "text/plain": [
       "Entity                          0\n",
       "Code                          112\n",
       "Year                            0\n",
       "Schizophrenia (%)            6469\n",
       "Bipolar disorder (%)         6469\n",
       "Eating disorders (%)         7321\n",
       "Anxiety disorders (%)        6468\n",
       "Drug use disorders (%)       6468\n",
       "Depression (%)               6468\n",
       "Alcohol use disorders (%)    6468\n",
       "dtype: int64"
      ]
     },
     "execution_count": 24,
     "metadata": {},
     "output_type": "execute_result"
    }
   ],
   "source": [
    "health2.isna().idxmax()"
   ]
  },
  {
   "cell_type": "code",
   "execution_count": 33,
   "id": "0b9b15c8-0ece-47fd-a5a2-81be9925f9c6",
   "metadata": {},
   "outputs": [],
   "source": [
    "health2.dropna(inplace=True)"
   ]
  },
  {
   "cell_type": "code",
   "execution_count": 34,
   "id": "a78407a1-69bf-472f-8acf-8d3739bc28d4",
   "metadata": {},
   "outputs": [
    {
     "data": {
      "text/plain": [
       "Entity                       0\n",
       "Code                         0\n",
       "Year                         0\n",
       "Schizophrenia (%)            0\n",
       "Bipolar disorder (%)         0\n",
       "Eating disorders (%)         0\n",
       "Anxiety disorders (%)        0\n",
       "Drug use disorders (%)       0\n",
       "Depression (%)               0\n",
       "Alcohol use disorders (%)    0\n",
       "dtype: int64"
      ]
     },
     "execution_count": 34,
     "metadata": {},
     "output_type": "execute_result"
    }
   ],
   "source": [
    "health2.isna().idxmax()"
   ]
  },
  {
   "cell_type": "code",
   "execution_count": 35,
   "id": "2fd558a1-34ea-42d7-a92f-624d992be784",
   "metadata": {},
   "outputs": [
    {
     "name": "stdout",
     "output_type": "stream",
     "text": [
      "<class 'pandas.core.frame.DataFrame'>\n",
      "Index: 5488 entries, 0 to 6467\n",
      "Data columns (total 10 columns):\n",
      " #   Column                     Non-Null Count  Dtype  \n",
      "---  ------                     --------------  -----  \n",
      " 0   Entity                     5488 non-null   object \n",
      " 1   Code                       5488 non-null   object \n",
      " 2   Year                       5488 non-null   object \n",
      " 3   Schizophrenia (%)          5488 non-null   object \n",
      " 4   Bipolar disorder (%)       5488 non-null   object \n",
      " 5   Eating disorders (%)       5488 non-null   object \n",
      " 6   Anxiety disorders (%)      5488 non-null   float64\n",
      " 7   Drug use disorders (%)     5488 non-null   float64\n",
      " 8   Depression (%)             5488 non-null   float64\n",
      " 9   Alcohol use disorders (%)  5488 non-null   float64\n",
      "dtypes: float64(4), object(6)\n",
      "memory usage: 471.6+ KB\n"
     ]
    }
   ],
   "source": [
    "health2.info()"
   ]
  },
  {
   "cell_type": "code",
   "execution_count": 36,
   "id": "e3ddc769-a2e5-4f58-9ebf-50eff0142f67",
   "metadata": {},
   "outputs": [
    {
     "data": {
      "text/plain": [
       "(5488, 10)"
      ]
     },
     "execution_count": 36,
     "metadata": {},
     "output_type": "execute_result"
    }
   ],
   "source": [
    "health2.shape"
   ]
  },
  {
   "cell_type": "code",
   "execution_count": 37,
   "id": "8c0f620c-e63f-4145-bb91-6c09775629e8",
   "metadata": {},
   "outputs": [
    {
     "data": {
      "text/html": [
       "<div>\n",
       "<style scoped>\n",
       "    .dataframe tbody tr th:only-of-type {\n",
       "        vertical-align: middle;\n",
       "    }\n",
       "\n",
       "    .dataframe tbody tr th {\n",
       "        vertical-align: top;\n",
       "    }\n",
       "\n",
       "    .dataframe thead th {\n",
       "        text-align: right;\n",
       "    }\n",
       "</style>\n",
       "<table border=\"1\" class=\"dataframe\">\n",
       "  <thead>\n",
       "    <tr style=\"text-align: right;\">\n",
       "      <th></th>\n",
       "      <th>Entity</th>\n",
       "      <th>Code</th>\n",
       "      <th>Year</th>\n",
       "      <th>Schizophrenia (%)</th>\n",
       "      <th>Bipolar disorder (%)</th>\n",
       "      <th>Eating disorders (%)</th>\n",
       "      <th>Anxiety disorders (%)</th>\n",
       "      <th>Drug use disorders (%)</th>\n",
       "      <th>Depression (%)</th>\n",
       "      <th>Alcohol use disorders (%)</th>\n",
       "    </tr>\n",
       "    <tr>\n",
       "      <th>index</th>\n",
       "      <th></th>\n",
       "      <th></th>\n",
       "      <th></th>\n",
       "      <th></th>\n",
       "      <th></th>\n",
       "      <th></th>\n",
       "      <th></th>\n",
       "      <th></th>\n",
       "      <th></th>\n",
       "      <th></th>\n",
       "    </tr>\n",
       "  </thead>\n",
       "  <tbody>\n",
       "    <tr>\n",
       "      <th>6463</th>\n",
       "      <td>Zimbabwe</td>\n",
       "      <td>ZWE</td>\n",
       "      <td>2013</td>\n",
       "      <td>0.15567</td>\n",
       "      <td>0.607993</td>\n",
       "      <td>0.117248</td>\n",
       "      <td>3.090168</td>\n",
       "      <td>0.766280</td>\n",
       "      <td>3.128192</td>\n",
       "      <td>1.515641</td>\n",
       "    </tr>\n",
       "    <tr>\n",
       "      <th>6464</th>\n",
       "      <td>Zimbabwe</td>\n",
       "      <td>ZWE</td>\n",
       "      <td>2014</td>\n",
       "      <td>0.155993</td>\n",
       "      <td>0.60861</td>\n",
       "      <td>0.118073</td>\n",
       "      <td>3.093964</td>\n",
       "      <td>0.768914</td>\n",
       "      <td>3.140290</td>\n",
       "      <td>1.515470</td>\n",
       "    </tr>\n",
       "    <tr>\n",
       "      <th>6465</th>\n",
       "      <td>Zimbabwe</td>\n",
       "      <td>ZWE</td>\n",
       "      <td>2015</td>\n",
       "      <td>0.156465</td>\n",
       "      <td>0.609363</td>\n",
       "      <td>0.11947</td>\n",
       "      <td>3.098687</td>\n",
       "      <td>0.771802</td>\n",
       "      <td>3.155710</td>\n",
       "      <td>1.514751</td>\n",
       "    </tr>\n",
       "    <tr>\n",
       "      <th>6466</th>\n",
       "      <td>Zimbabwe</td>\n",
       "      <td>ZWE</td>\n",
       "      <td>2016</td>\n",
       "      <td>0.157111</td>\n",
       "      <td>0.610234</td>\n",
       "      <td>0.121456</td>\n",
       "      <td>3.104294</td>\n",
       "      <td>0.772275</td>\n",
       "      <td>3.174134</td>\n",
       "      <td>1.513269</td>\n",
       "    </tr>\n",
       "    <tr>\n",
       "      <th>6467</th>\n",
       "      <td>Zimbabwe</td>\n",
       "      <td>ZWE</td>\n",
       "      <td>2017</td>\n",
       "      <td>0.157963</td>\n",
       "      <td>0.611242</td>\n",
       "      <td>0.124443</td>\n",
       "      <td>3.110926</td>\n",
       "      <td>0.772648</td>\n",
       "      <td>3.192789</td>\n",
       "      <td>1.510943</td>\n",
       "    </tr>\n",
       "  </tbody>\n",
       "</table>\n",
       "</div>"
      ],
      "text/plain": [
       "         Entity Code  Year Schizophrenia (%) Bipolar disorder (%)  \\\n",
       "index                                                               \n",
       "6463   Zimbabwe  ZWE  2013           0.15567             0.607993   \n",
       "6464   Zimbabwe  ZWE  2014          0.155993              0.60861   \n",
       "6465   Zimbabwe  ZWE  2015          0.156465             0.609363   \n",
       "6466   Zimbabwe  ZWE  2016          0.157111             0.610234   \n",
       "6467   Zimbabwe  ZWE  2017          0.157963             0.611242   \n",
       "\n",
       "      Eating disorders (%)  Anxiety disorders (%)  Drug use disorders (%)  \\\n",
       "index                                                                       \n",
       "6463              0.117248               3.090168                0.766280   \n",
       "6464              0.118073               3.093964                0.768914   \n",
       "6465               0.11947               3.098687                0.771802   \n",
       "6466              0.121456               3.104294                0.772275   \n",
       "6467              0.124443               3.110926                0.772648   \n",
       "\n",
       "       Depression (%)  Alcohol use disorders (%)  \n",
       "index                                             \n",
       "6463         3.128192                   1.515641  \n",
       "6464         3.140290                   1.515470  \n",
       "6465         3.155710                   1.514751  \n",
       "6466         3.174134                   1.513269  \n",
       "6467         3.192789                   1.510943  "
      ]
     },
     "execution_count": 37,
     "metadata": {},
     "output_type": "execute_result"
    }
   ],
   "source": [
    "health2.tail()"
   ]
  },
  {
   "cell_type": "markdown",
   "id": "ed3eeb53-2081-4fcd-8581-8f6c38e0844e",
   "metadata": {},
   "source": [
    "<h2>Converting the string data sets to floats\n",
    "</h2>"
   ]
  },
  {
   "cell_type": "code",
   "execution_count": 38,
   "id": "4c24c3ff-0a88-46c8-90af-c49689eed07c",
   "metadata": {},
   "outputs": [],
   "source": [
    "health2['Schizophrenia (%)'] = health2['Schizophrenia (%)'].astype(float)"
   ]
  },
  {
   "cell_type": "code",
   "execution_count": 39,
   "id": "6201fb83-7c9f-4e99-a9be-fbebc656c26d",
   "metadata": {},
   "outputs": [],
   "source": [
    "health2['Bipolar disorder (%)'] = health2['Bipolar disorder (%)'].astype(float)"
   ]
  },
  {
   "cell_type": "code",
   "execution_count": 40,
   "id": "cc5274bf-a786-4ea6-9c72-78b76326e836",
   "metadata": {},
   "outputs": [],
   "source": [
    "health2['Eating disorders (%)'] = health2['Eating disorders (%)'].astype(float)"
   ]
  },
  {
   "cell_type": "code",
   "execution_count": 41,
   "id": "85699d03-f468-4320-ad75-7d174bf2ec3d",
   "metadata": {},
   "outputs": [
    {
     "name": "stdout",
     "output_type": "stream",
     "text": [
      "<class 'pandas.core.frame.DataFrame'>\n",
      "Index: 5488 entries, 0 to 6467\n",
      "Data columns (total 10 columns):\n",
      " #   Column                     Non-Null Count  Dtype  \n",
      "---  ------                     --------------  -----  \n",
      " 0   Entity                     5488 non-null   object \n",
      " 1   Code                       5488 non-null   object \n",
      " 2   Year                       5488 non-null   object \n",
      " 3   Schizophrenia (%)          5488 non-null   float64\n",
      " 4   Bipolar disorder (%)       5488 non-null   float64\n",
      " 5   Eating disorders (%)       5488 non-null   float64\n",
      " 6   Anxiety disorders (%)      5488 non-null   float64\n",
      " 7   Drug use disorders (%)     5488 non-null   float64\n",
      " 8   Depression (%)             5488 non-null   float64\n",
      " 9   Alcohol use disorders (%)  5488 non-null   float64\n",
      "dtypes: float64(7), object(3)\n",
      "memory usage: 471.6+ KB\n"
     ]
    }
   ],
   "source": [
    "health2.info()"
   ]
  },
  {
   "cell_type": "code",
   "execution_count": 42,
   "id": "bb2ac04a-5961-4189-918c-824495f8d628",
   "metadata": {},
   "outputs": [
    {
     "data": {
      "text/html": [
       "<div>\n",
       "<style scoped>\n",
       "    .dataframe tbody tr th:only-of-type {\n",
       "        vertical-align: middle;\n",
       "    }\n",
       "\n",
       "    .dataframe tbody tr th {\n",
       "        vertical-align: top;\n",
       "    }\n",
       "\n",
       "    .dataframe thead th {\n",
       "        text-align: right;\n",
       "    }\n",
       "</style>\n",
       "<table border=\"1\" class=\"dataframe\">\n",
       "  <thead>\n",
       "    <tr style=\"text-align: right;\">\n",
       "      <th></th>\n",
       "      <th>Schizophrenia (%)</th>\n",
       "      <th>Bipolar disorder (%)</th>\n",
       "      <th>Eating disorders (%)</th>\n",
       "      <th>Anxiety disorders (%)</th>\n",
       "      <th>Drug use disorders (%)</th>\n",
       "      <th>Depression (%)</th>\n",
       "      <th>Alcohol use disorders (%)</th>\n",
       "    </tr>\n",
       "  </thead>\n",
       "  <tbody>\n",
       "    <tr>\n",
       "      <th>count</th>\n",
       "      <td>5488.000000</td>\n",
       "      <td>5488.000000</td>\n",
       "      <td>5488.000000</td>\n",
       "      <td>5488.000000</td>\n",
       "      <td>5488.000000</td>\n",
       "      <td>5488.000000</td>\n",
       "      <td>5488.000000</td>\n",
       "    </tr>\n",
       "    <tr>\n",
       "      <th>mean</th>\n",
       "      <td>0.208183</td>\n",
       "      <td>0.716884</td>\n",
       "      <td>0.234023</td>\n",
       "      <td>3.946979</td>\n",
       "      <td>0.833328</td>\n",
       "      <td>3.474504</td>\n",
       "      <td>1.562273</td>\n",
       "    </tr>\n",
       "    <tr>\n",
       "      <th>std</th>\n",
       "      <td>0.041998</td>\n",
       "      <td>0.164246</td>\n",
       "      <td>0.154147</td>\n",
       "      <td>1.134810</td>\n",
       "      <td>0.441199</td>\n",
       "      <td>0.671741</td>\n",
       "      <td>0.861973</td>\n",
       "    </tr>\n",
       "    <tr>\n",
       "      <th>min</th>\n",
       "      <td>0.146902</td>\n",
       "      <td>0.314535</td>\n",
       "      <td>0.073908</td>\n",
       "      <td>2.023393</td>\n",
       "      <td>0.383650</td>\n",
       "      <td>2.139903</td>\n",
       "      <td>0.446940</td>\n",
       "    </tr>\n",
       "    <tr>\n",
       "      <th>25%</th>\n",
       "      <td>0.179452</td>\n",
       "      <td>0.615732</td>\n",
       "      <td>0.121761</td>\n",
       "      <td>3.178912</td>\n",
       "      <td>0.524018</td>\n",
       "      <td>2.955355</td>\n",
       "      <td>0.961545</td>\n",
       "    </tr>\n",
       "    <tr>\n",
       "      <th>50%</th>\n",
       "      <td>0.198510</td>\n",
       "      <td>0.693954</td>\n",
       "      <td>0.180378</td>\n",
       "      <td>3.515140</td>\n",
       "      <td>0.709090</td>\n",
       "      <td>3.461421</td>\n",
       "      <td>1.466906</td>\n",
       "    </tr>\n",
       "    <tr>\n",
       "      <th>75%</th>\n",
       "      <td>0.230553</td>\n",
       "      <td>0.830217</td>\n",
       "      <td>0.278681</td>\n",
       "      <td>4.659540</td>\n",
       "      <td>0.906843</td>\n",
       "      <td>3.877343</td>\n",
       "      <td>1.853683</td>\n",
       "    </tr>\n",
       "    <tr>\n",
       "      <th>max</th>\n",
       "      <td>0.375110</td>\n",
       "      <td>1.206597</td>\n",
       "      <td>0.943991</td>\n",
       "      <td>8.967330</td>\n",
       "      <td>3.452476</td>\n",
       "      <td>6.602754</td>\n",
       "      <td>5.474668</td>\n",
       "    </tr>\n",
       "  </tbody>\n",
       "</table>\n",
       "</div>"
      ],
      "text/plain": [
       "       Schizophrenia (%)  Bipolar disorder (%)  Eating disorders (%)  \\\n",
       "count        5488.000000           5488.000000           5488.000000   \n",
       "mean            0.208183              0.716884              0.234023   \n",
       "std             0.041998              0.164246              0.154147   \n",
       "min             0.146902              0.314535              0.073908   \n",
       "25%             0.179452              0.615732              0.121761   \n",
       "50%             0.198510              0.693954              0.180378   \n",
       "75%             0.230553              0.830217              0.278681   \n",
       "max             0.375110              1.206597              0.943991   \n",
       "\n",
       "       Anxiety disorders (%)  Drug use disorders (%)  Depression (%)  \\\n",
       "count            5488.000000             5488.000000     5488.000000   \n",
       "mean                3.946979                0.833328        3.474504   \n",
       "std                 1.134810                0.441199        0.671741   \n",
       "min                 2.023393                0.383650        2.139903   \n",
       "25%                 3.178912                0.524018        2.955355   \n",
       "50%                 3.515140                0.709090        3.461421   \n",
       "75%                 4.659540                0.906843        3.877343   \n",
       "max                 8.967330                3.452476        6.602754   \n",
       "\n",
       "       Alcohol use disorders (%)  \n",
       "count                5488.000000  \n",
       "mean                    1.562273  \n",
       "std                     0.861973  \n",
       "min                     0.446940  \n",
       "25%                     0.961545  \n",
       "50%                     1.466906  \n",
       "75%                     1.853683  \n",
       "max                     5.474668  "
      ]
     },
     "execution_count": 42,
     "metadata": {},
     "output_type": "execute_result"
    }
   ],
   "source": [
    "health2.describe()"
   ]
  },
  {
   "cell_type": "markdown",
   "id": "f8a50736-98fb-4d86-9a3b-3f94dc8fc71b",
   "metadata": {},
   "source": [
    "<h2>Visualization</h2>"
   ]
  },
  {
   "cell_type": "code",
   "execution_count": 43,
   "id": "93d757dc-99cf-4227-83ca-986a9e0d5267",
   "metadata": {},
   "outputs": [
    {
     "data": {
      "image/png": "[encoded data removed]",
      "text/plain": [
       "<Figure size 640x480 with 1 Axes>"
      ]
     },
     "metadata": {},
     "output_type": "display_data"
    }
   ],
   "source": [
    "top_Schizophrenia=health2.sort_values(by='Schizophrenia (%)', ascending=False).head(15)\n",
    "\n",
    "# Plot\n",
    "#plt.figure(figsize=(10, 8))\n",
    "plt.barh(top_Schizophrenia[\"Year\"], top_Schizophrenia['Schizophrenia (%)'], color='skyblue')\n",
    "plt.xlabel(\"year\")\n",
    "plt.title('Top 15 Movies studio by Domestic Gross')\n",
    "plt.gca().invert_yaxis()  # Highest grossing at the top\n",
    "\n",
    "plt.show()"
   ]
  }
 ],
 "metadata": {
  "kernelspec": {
   "display_name": "Python 3 (ipykernel)",
   "language": "python",
   "name": "python3"
  },
  "language_info": {
   "codemirror_mode": {
    "name": "ipython",
    "version": 3
   },
   "file_extension": ".py",
   "mimetype": "text/x-python",
   "name": "python",
   "nbconvert_exporter": "python",
   "pygments_lexer": "ipython3",
   "version": "3.11.7"
  }
 },
 "nbformat": 4,
 "nbformat_minor": 5
}
